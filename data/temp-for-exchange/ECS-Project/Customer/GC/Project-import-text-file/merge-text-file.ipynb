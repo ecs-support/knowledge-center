{
 "cells": [
  {
   "cell_type": "code",
   "execution_count": null,
   "metadata": {},
   "outputs": [],
   "source": []
  },
  {
   "cell_type": "code",
   "execution_count": null,
   "metadata": {},
   "outputs": [],
   "source": []
  },
  {
   "cell_type": "code",
   "execution_count": 165,
   "metadata": {
    "ExecuteTime": {
     "end_time": "2019-11-01T10:07:44.214825Z",
     "start_time": "2019-11-01T10:07:44.193839Z"
    }
   },
   "outputs": [
    {
     "name": "stdout",
     "output_type": "stream",
     "text": [
      "pandas  version = 0.24.2\n",
      "numpy  version = 1.17.1\n",
      "2019-11-01 17:07:44.211827\n"
     ]
    }
   ],
   "source": [
    "# Configuring pandas\n",
    "\n",
    "# import numpy and pandas\n",
    "import numpy as np\n",
    "import pandas as pd\n",
    "\n",
    "# used for dates\n",
    "import datetime\n",
    "from datetime import datetime, date\n",
    "\n",
    "# Set formattign options\n",
    "#pd.set_option('display.notebook_repr_html', False)\n",
    "pd.set_option('display.max_columns', 30)\n",
    "pd.set_option('display.max_rows', 10)\n",
    "pd.set_option('display.width', 1000)\n",
    "%config InlineBackend.figure_format='retina'\n",
    "\n",
    "# bring in matplotlib for graphics\n",
    "import matplotlib.pyplot as plt\n",
    "%matplotlib inline\n",
    "\n",
    "# Print Version Package\n",
    "print(f\"pandas  version = {pd.__version__}\")\n",
    "print(f\"numpy  version = {np.__version__}\")\n",
    "\n",
    "# Print TimeStamp\n",
    "print(pd.Timestamp.today())"
   ]
  },
  {
   "cell_type": "code",
   "execution_count": 166,
   "metadata": {
    "ExecuteTime": {
     "end_time": "2019-11-01T10:07:44.657774Z",
     "start_time": "2019-11-01T10:07:44.650779Z"
    }
   },
   "outputs": [],
   "source": [
    "import re\n",
    "def clean_ticker(ticker,chars='lower'):\n",
    "    \"\"\"\n",
    "    Cleans a ticker for easier use throughout MoneyTree\n",
    "\n",
    "    Splits by space and only keeps first bit. Also removes\n",
    "    any characters that are not letters. Returns as lowercase. / uppercase\n",
    "\n",
    "    >>> clean_ticker('^VIX')\n",
    "    'vix'\n",
    "    >>> clean_ticker('SPX Index')\n",
    "    'spx'\n",
    "    \"\"\"\n",
    "    pattern = re.compile('[\\W_+,\\s]')\n",
    "    #res = pattern.sub('', ticker.split(' ')[0])\n",
    "   \n",
    "    res = pattern.sub('', ticker)\n",
    "    #print(res)\n",
    "    if chars =='upper':\n",
    "        return res.upper()\n",
    "    else:\n",
    "        return res.lower()\n",
    "\n",
    "def clean_tickers(tickers):\n",
    "    \"\"\"\n",
    "    Maps clean_ticker over tickers.\n",
    "    \"\"\"\n",
    "    return [clean_ticker(x) for x in tickers]\n",
    "\n",
    "def clean_columns(df):\n",
    "\n",
    "    df.columns = map(clean_ticker, df.columns)\n",
    "    return df"
   ]
  },
  {
   "cell_type": "code",
   "execution_count": 167,
   "metadata": {
    "ExecuteTime": {
     "end_time": "2019-11-01T10:07:45.256130Z",
     "start_time": "2019-11-01T10:07:45.249134Z"
    }
   },
   "outputs": [],
   "source": [
    "def get_code():\n",
    "    area = pd.read_excel('data/area_code.xlsx',header=0)\n",
    "    list1 = list(area['name'])\n",
    "    list2 = list(area['code'])\n",
    "    areas = dict( zip( list1, list2))\n",
    "    \n",
    "    return areas\n",
    "\n",
    "def area_map(value):\n",
    "    area = pd.read_excel('data/area_code.xlsx',header=0)\n",
    "    list1 = list(area['name'])\n",
    "    list2 = list(area['code'])\n",
    "    areas = dict( zip( list1, list2))    \n",
    "    area = areas[value]\n",
    "    \n",
    "    return area"
   ]
  },
  {
   "cell_type": "code",
   "execution_count": 168,
   "metadata": {
    "ExecuteTime": {
     "end_time": "2019-11-01T10:07:45.840567Z",
     "start_time": "2019-11-01T10:07:45.737629Z"
    }
   },
   "outputs": [
    {
     "data": {
      "text/plain": [
       "    CI/WO No.    PlanRecord                                     Agent(Sold To)                       Customer(Payer)                  PO No.                                   PL Customer      PI No. Material Description Polymer Type Category Sub Category Forwarder                                      Shipping Line    Booking No.  QTY(MT)  ...            Return Pic VGM EDI Date VGM EDI Time VGM Hard Copy Date VGM Hard Copy Time   Vessel Name  Vessel Voy. Mother Vessel Mother Voy. Privilege Shipment Type                   PL Planner                                 PTTPL Remarks Cont. Size Cont. Type\n",
       "0  1192110967  PR1192110259  12002190 - ZHEJIANG FUTURE PETROCHEMICAL CO., ...  SHANGHAI JINSHAN TRADING CORPORATION                     -,-  GC MARKETING SOLUTIONS COMPANY LIMITED (GCM)  1192007087   INNOPLUS LL7410A-P            -  Polymer        LLDPE         -     EVERGREEN SHIPPING AGENCY (THAILAND) CO., LTD.  ,050900961364    300.0  ...                     -   23/10/2019     05:00 PM                  -                  -      NORDLION  V.0078-011N             -           -         -           FCL  Tanutcha Watthanalapmongkol                                  PG**SUB HQ**         40         GP\n",
       "1  1192111009  PR1192111048    12004540 - MARUBENI ASEAN PTE. LTD. (Singapore)              MARUBENI ASEAN PTE. LTD.         PABP9935/YH0476  GC MARKETING SOLUTIONS COMPANY LIMITED (GCM)  1192007226   INNOPLUS HD2208J-P            -  Polymer         HDPE         -  THAI SHIPPING AGENCIES AND TRADING CO.,LTD. (N...    LCH19I00697     36.0  ...  K.NICK T.081-6163050   25/10/2019     11:59 AM                  -                  -    SM JAKARTA      V.1914E             -           -         -           FCL              Wannicha Malert                FERN * RETURN ON 21-23/10/2019         20         GP\n",
       "2  1192111331  PR1192110715       12005144 - Inteplast Group Corporation (USA)           Inteplast Group Corporation  PO# IB-19AV2 (1ST LOT)  GC MARKETING SOLUTIONS COMPANY LIMITED (GCM)  1192007008   INNOPLUS LL7420D-P            -  Polymer        LLDPE         -  THAI SHIPPING AGENCIES AND TRADING CO.,LTD. (N...    LCH19J00119    108.0  ...  K.NICK T.081-6163050   22/10/2019     11:59 AM                  -                  -  SABRE TRADER      V.1910N             -           -         -           FCL              Wannicha Malert                 FERN *RETURN ON 21-23/10/2019         20         GP\n",
       "3  1192111430  PR1192110834     12000124 - ITOCHU PLASTICS PTE LTD (Singapore)               ITOCHU PLASTICS PTE LTD            EG-TH1908059  GC MARKETING SOLUTIONS COMPANY LIMITED (GCM)  1192006809   INNOPLUS LL7420D-P            -  Polymer        LLDPE         -                            NGOW HOCK CO.,LTD (RCL)  BLCHC19028070     36.0  ...                     -   23/10/2019     08:00 AM                  -                  -   COSCO HAIFA       V.062N             -           -         -           FCL         Pitchayaporn Chaiwat  N'PEAR\\n// RTN 21/10/2019-24/10/2019 ONLY //         20         GP\n",
       "4  1192111430  PR1192110834     12000124 - ITOCHU PLASTICS PTE LTD (Singapore)               ITOCHU PLASTICS PTE LTD            EG-TH1908059  GC MARKETING SOLUTIONS COMPANY LIMITED (GCM)  1192007040   INNOPLUS LL7420D-P            -  Polymer        LLDPE         -                            NGOW HOCK CO.,LTD (RCL)  BLCHC19028070    180.0  ...                     -   23/10/2019     08:00 AM                  -                  -   COSCO HAIFA       V.062N             -           -         -           FCL         Pitchayaporn Chaiwat  N'PEAR\\n// RTN 21/10/2019-24/10/2019 ONLY //         20         GP\n",
       "\n",
       "[5 rows x 51 columns]"
      ]
     },
     "execution_count": 168,
     "metadata": {},
     "output_type": "execute_result"
    }
   ],
   "source": [
    "ex_data = pd.read_excel('Shipping Advice.xlsx', 'PM', index_col=None, na_values=['NA'])\n",
    "ex_data.head()"
   ]
  },
  {
   "cell_type": "code",
   "execution_count": 169,
   "metadata": {
    "ExecuteTime": {
     "end_time": "2019-11-01T10:07:46.485061Z",
     "start_time": "2019-11-01T10:07:46.481063Z"
    }
   },
   "outputs": [],
   "source": [
    "def stip_text(item):\n",
    "    \n",
    "    result = item.strip('V')\n",
    "    result = result.strip('V.')\n",
    "    result =result.strip('-')\n",
    "    return result\n"
   ]
  },
  {
   "cell_type": "code",
   "execution_count": 170,
   "metadata": {
    "ExecuteTime": {
     "end_time": "2019-11-01T10:07:47.117785Z",
     "start_time": "2019-11-01T10:07:47.105794Z"
    }
   },
   "outputs": [
    {
     "data": {
      "text/plain": [
       "             Vessel Name  Vessel Voy. Return Place    Port of Loading\n",
       "CI/WO No.                                                            \n",
       "1192110967      NORDLION  V.0078-011N        KERRY  LAEM CHABANG PORT\n",
       "1192111009    SM JAKARTA      V.1914E           A0  LAEM CHABANG PORT\n",
       "1192111331  SABRE TRADER      V.1910N           A0  LAEM CHABANG PORT\n",
       "1192111430   COSCO HAIFA       V.062N         C1C2  LAEM CHABANG PORT\n",
       "1192111430   COSCO HAIFA       V.062N         C1C2  LAEM CHABANG PORT\n",
       "...                  ...          ...          ...                ...\n",
       "1192111719      NORDLION  V.0078-011N        KERRY  LAEM CHABANG PORT\n",
       "1192111719      NORDLION  V.0078-011N        KERRY  LAEM CHABANG PORT\n",
       "1192111725  NYK DANIELLA      V. 058S      TIPS B4  LAEM CHABANG PORT\n",
       "1192111729   COSCO HAIFA       V.062N         C1C2  LAEM CHABANG PORT\n",
       "1192111729   COSCO HAIFA       V.062N         C1C2  LAEM CHABANG PORT\n",
       "\n",
       "[100 rows x 4 columns]"
      ]
     },
     "execution_count": 170,
     "metadata": {},
     "output_type": "execute_result"
    }
   ],
   "source": [
    "data = ex_data[['CI/WO No.','Vessel Name','Vessel Voy.','Return Place','Port of Loading']]\n",
    "data = data.set_index('CI/WO No.')\n",
    "data"
   ]
  },
  {
   "cell_type": "code",
   "execution_count": 171,
   "metadata": {
    "ExecuteTime": {
     "end_time": "2019-11-01T10:07:48.133933Z",
     "start_time": "2019-11-01T10:07:48.128936Z"
    }
   },
   "outputs": [
    {
     "data": {
      "text/plain": [
       "'SABRE TRADER'"
      ]
     },
     "execution_count": 171,
     "metadata": {},
     "output_type": "execute_result"
    }
   ],
   "source": [
    "vessels = data.loc['1192111331','Vessel Name']\n",
    "vessels"
   ]
  },
  {
   "cell_type": "code",
   "execution_count": 172,
   "metadata": {
    "ExecuteTime": {
     "end_time": "2019-11-01T10:07:48.791727Z",
     "start_time": "2019-11-01T10:07:48.785730Z"
    }
   },
   "outputs": [
    {
     "data": {
      "text/plain": [
       "'1910N'"
      ]
     },
     "execution_count": 172,
     "metadata": {},
     "output_type": "execute_result"
    }
   ],
   "source": [
    "voys = stip_text(data.loc['1192111331','Vessel Voy.'])\n",
    "voys"
   ]
  },
  {
   "cell_type": "code",
   "execution_count": 173,
   "metadata": {
    "ExecuteTime": {
     "end_time": "2019-11-01T10:07:49.744045Z",
     "start_time": "2019-11-01T10:07:49.729054Z"
    }
   },
   "outputs": [
    {
     "data": {
      "text/plain": [
       "2835"
      ]
     },
     "execution_count": 173,
     "metadata": {},
     "output_type": "execute_result"
    }
   ],
   "source": [
    "releases = area_map(data.loc['1192111331','Return Place'])\n",
    "releases"
   ]
  },
  {
   "cell_type": "code",
   "execution_count": 174,
   "metadata": {
    "ExecuteTime": {
     "end_time": "2019-11-01T10:07:51.904711Z",
     "start_time": "2019-11-01T10:07:51.889718Z"
    }
   },
   "outputs": [
    {
     "data": {
      "text/plain": [
       "2801"
      ]
     },
     "execution_count": 174,
     "metadata": {},
     "output_type": "execute_result"
    }
   ],
   "source": [
    "loads = area_map(data.loc['1192111331','Port of Loading'])\n",
    "loads"
   ]
  },
  {
   "cell_type": "code",
   "execution_count": 175,
   "metadata": {
    "ExecuteTime": {
     "end_time": "2019-11-01T10:07:52.763871Z",
     "start_time": "2019-11-01T10:07:52.753877Z"
    }
   },
   "outputs": [
    {
     "ename": "NameError",
     "evalue": "name 'value' is not defined",
     "output_type": "error",
     "traceback": [
      "\u001b[1;31m---------------------------------------------------------------------------\u001b[0m",
      "\u001b[1;31mNameError\u001b[0m                                 Traceback (most recent call last)",
      "\u001b[1;32m<ipython-input-175-47701cd8e3f8>\u001b[0m in \u001b[0;36m<module>\u001b[1;34m\u001b[0m\n\u001b[1;32m----> 1\u001b[1;33m \u001b[0marea_map\u001b[0m\u001b[1;33m(\u001b[0m\u001b[0mvalue\u001b[0m\u001b[1;33m)\u001b[0m\u001b[1;33m\u001b[0m\u001b[1;33m\u001b[0m\u001b[0m\n\u001b[0m",
      "\u001b[1;31mNameError\u001b[0m: name 'value' is not defined"
     ]
    }
   ],
   "source": [
    "area_map(value)"
   ]
  },
  {
   "cell_type": "code",
   "execution_count": 106,
   "metadata": {
    "ExecuteTime": {
     "end_time": "2019-11-01T09:19:36.754297Z",
     "start_time": "2019-11-01T09:19:36.749300Z"
    }
   },
   "outputs": [
    {
     "data": {
      "text/plain": [
       "'DEC||||||||||||'"
      ]
     },
     "execution_count": 106,
     "metadata": {},
     "output_type": "execute_result"
    }
   ],
   "source": [
    "txt ='DEC||||||||||||'\n",
    "txt"
   ]
  },
  {
   "cell_type": "code",
   "execution_count": null,
   "metadata": {},
   "outputs": [],
   "source": []
  },
  {
   "cell_type": "code",
   "execution_count": null,
   "metadata": {},
   "outputs": [],
   "source": []
  },
  {
   "cell_type": "code",
   "execution_count": null,
   "metadata": {},
   "outputs": [],
   "source": []
  },
  {
   "cell_type": "markdown",
   "metadata": {},
   "source": [
    "## Read data from text file\n",
    "\n",
    "- https://www.w3schools.com/python/python_file_open.asp\n",
    "- https://www.mindphp.com/%E0%B8%9A%E0%B8%97%E0%B9%80%E0%B8%A3%E0%B8%B5%E0%B8%A2%E0%B8%99%E0%B8%AD%E0%B8%AD%E0%B8%99%E0%B9%84%E0%B8%A5%E0%B8%99%E0%B9%8C/83-python/2751-python-read-text-file.html\n",
    "- https://www.guru99.com/reading-and-writing-files-in-python.html"
   ]
  },
  {
   "cell_type": "code",
   "execution_count": 176,
   "metadata": {
    "ExecuteTime": {
     "end_time": "2019-11-01T10:08:08.947796Z",
     "start_time": "2019-11-01T10:08:08.944798Z"
    }
   },
   "outputs": [],
   "source": [
    "files = '1192111331.txt'"
   ]
  },
  {
   "cell_type": "code",
   "execution_count": 177,
   "metadata": {
    "ExecuteTime": {
     "end_time": "2019-11-01T10:08:09.631632Z",
     "start_time": "2019-11-01T10:08:09.625635Z"
    }
   },
   "outputs": [
    {
     "name": "stdout",
     "output_type": "stream",
     "text": [
      "HDR|1192111331|10/10/2019|0105548082506|0000|12005144|Inteplast Group Corporation|9|Livingston|New Jersey|USA|07039|US||||VN|CIF|USD|108000.000|92880.00||USD|USD||120.000000|17.000000||W|P|0|||||||||||||T/T||\n",
      "DTL|1192111331|0010|LLDPE|LLFO7420DY111|25 kgs|InnoPlus|INNOPLUS MADE IN THAILAND|LLDPE InnoPlus LL7420D||1|0|0|000039011092|||||KGM|108000.000000|108432.000|108000.000|KGM|TNE|108.000|860.00|92880.00|4320.000|BG||||||||0|0|0|0|1||||USD|||\n"
     ]
    }
   ],
   "source": [
    "\n",
    "\n",
    "f = open(\"data/\"+files, \"r\")\n",
    "data = f.read()\n",
    "print(data)\n",
    "f.close()"
   ]
  },
  {
   "cell_type": "code",
   "execution_count": 182,
   "metadata": {
    "ExecuteTime": {
     "end_time": "2019-11-01T10:09:49.981787Z",
     "start_time": "2019-11-01T10:09:49.976789Z"
    }
   },
   "outputs": [
    {
     "data": {
      "text/plain": [
       "'DEC||||||||||||SABRE TRADER|1910N||||2835|2801||||||||||||'"
      ]
     },
     "execution_count": 182,
     "metadata": {},
     "output_type": "execute_result"
    }
   ],
   "source": [
    "txt ='DEC||||||||||||'\n",
    "output =  (txt + vessels+'|' + voys+'||||'+ str(releases) +'|'  + str(loads)+'||||||||||||' )\n",
    "output"
   ]
  },
  {
   "cell_type": "code",
   "execution_count": null,
   "metadata": {},
   "outputs": [],
   "source": []
  },
  {
   "cell_type": "code",
   "execution_count": 183,
   "metadata": {
    "ExecuteTime": {
     "end_time": "2019-11-01T10:11:13.894737Z",
     "start_time": "2019-11-01T10:11:13.888742Z"
    }
   },
   "outputs": [],
   "source": [
    "f = open(\"output/\"+files , \"a\")\n",
    "f.write(output+'\\n'+data)\n",
    "f.close()"
   ]
  },
  {
   "cell_type": "code",
   "execution_count": 184,
   "metadata": {
    "ExecuteTime": {
     "end_time": "2019-11-01T10:11:15.658846Z",
     "start_time": "2019-11-01T10:11:15.647853Z"
    }
   },
   "outputs": [
    {
     "name": "stdout",
     "output_type": "stream",
     "text": [
      "DEC||||||||||||SABRE TRADER|1910N||||2835|2801||||||||||||\n",
      "HDR|1192111331|10/10/2019|0105548082506|0000|12005144|Inteplast Group Corporation|9|Livingston|New Jersey|USA|07039|US||||VN|CIF|USD|108000.000|92880.00||USD|USD||120.000000|17.000000||W|P|0|||||||||||||T/T||\n",
      "DTL|1192111331|0010|LLDPE|LLFO7420DY111|25 kgs|InnoPlus|INNOPLUS MADE IN THAILAND|LLDPE InnoPlus LL7420D||1|0|0|000039011092|||||KGM|108000.000000|108432.000|108000.000|KGM|TNE|108.000|860.00|92880.00|4320.000|BG||||||||0|0|0|0|1||||USD|||\n"
     ]
    }
   ],
   "source": [
    "f = open(\"output/\"+files, \"r\")\n",
    "data2 = f.read()\n",
    "print(data2)\n",
    "f.close()"
   ]
  },
  {
   "cell_type": "code",
   "execution_count": null,
   "metadata": {},
   "outputs": [],
   "source": []
  },
  {
   "cell_type": "code",
   "execution_count": 108,
   "metadata": {
    "ExecuteTime": {
     "end_time": "2019-11-01T09:19:59.177870Z",
     "start_time": "2019-11-01T09:19:59.171875Z"
    }
   },
   "outputs": [
    {
     "data": {
      "text/plain": [
       "Index(['ciwono', 'planrecord', 'agentsoldto', 'customerpayer', 'pono', 'plcustomer', 'pino', 'materialdescription', 'polymertype', 'category', 'subcategory', 'forwarder', 'shippingline', 'bookingno', 'qtymt', 'noofcontainers', 'unit', 'typefogoods', 'package', 'portofloading', 'etd', 'podcountry', 'portofdischarge', 'eta', 'customsbroker', 'transporter', 'warehouse', 'cydate', 'cyplace', 'cypic', 'closingdate', 'closingtime', 'loadingdate', 'returndatefrom', 'returndateto', 'returnplace', 'returnpic', 'vgmedidate', 'vgmeditime', 'vgmhardcopydate', 'vgmhardcopytime', 'vesselname', 'vesselvoy', 'mothervessel', 'mothervoy', 'privilege', 'shipmenttype', 'plplanner', 'pttplremarks', 'contsize', 'conttype'], dtype='object')"
      ]
     },
     "execution_count": 108,
     "metadata": {},
     "output_type": "execute_result"
    }
   ],
   "source": [
    "ex_data = clean_columns(ex_data)\n",
    "ex_data.columns"
   ]
  },
  {
   "cell_type": "code",
   "execution_count": 70,
   "metadata": {
    "ExecuteTime": {
     "end_time": "2019-11-01T08:30:24.370912Z",
     "start_time": "2019-11-01T08:30:24.360920Z"
    }
   },
   "outputs": [
    {
     "data": {
      "text/plain": [
       "        ciwono    vesselname    vesselname\n",
       "0   1192110967      NORDLION      NORDLION\n",
       "1   1192111009    SM JAKARTA    SM JAKARTA\n",
       "2   1192111331  SABRE TRADER  SABRE TRADER\n",
       "3   1192111430   COSCO HAIFA   COSCO HAIFA\n",
       "4   1192111430   COSCO HAIFA   COSCO HAIFA\n",
       "..         ...           ...           ...\n",
       "95  1192111719      NORDLION      NORDLION\n",
       "96  1192111719      NORDLION      NORDLION\n",
       "97  1192111725  NYK DANIELLA  NYK DANIELLA\n",
       "98  1192111729   COSCO HAIFA   COSCO HAIFA\n",
       "99  1192111729   COSCO HAIFA   COSCO HAIFA\n",
       "\n",
       "[100 rows x 3 columns]"
      ]
     },
     "execution_count": 70,
     "metadata": {},
     "output_type": "execute_result"
    }
   ],
   "source": [
    "a = ex_data[['ciwono', 'vesselname', 'vesselname']]\n",
    "a"
   ]
  },
  {
   "cell_type": "code",
   "execution_count": 80,
   "metadata": {
    "ExecuteTime": {
     "end_time": "2019-11-01T09:00:12.814252Z",
     "start_time": "2019-11-01T09:00:12.807256Z"
    }
   },
   "outputs": [
    {
     "name": "stdout",
     "output_type": "stream",
     "text": [
      "KERRY\n",
      "A0\n",
      "C1C2\n",
      "B2\n",
      "-\n",
      "C3\n",
      "B4\n",
      "TIPS B4\n",
      "A3\n",
      "SRIRACHA\n"
     ]
    }
   ],
   "source": [
    "lst = []\n",
    "b = ex_data[['returnplace', 'portofloading']]\n",
    "c = ex_data['returnplace'].unique()   \n",
    "for item in c:\n",
    "    lst.append(item)\n",
    "    print(item)"
   ]
  },
  {
   "cell_type": "code",
   "execution_count": 81,
   "metadata": {
    "ExecuteTime": {
     "end_time": "2019-11-01T09:00:13.885149Z",
     "start_time": "2019-11-01T09:00:13.879155Z"
    }
   },
   "outputs": [
    {
     "name": "stdout",
     "output_type": "stream",
     "text": [
      "LAEM CHABANG PORT\n",
      "MUGDAHARN\n",
      "BAN KHOK PHAI, LOEI\n",
      "CHIANG KHONG, CHIANG RAI\n",
      "NONGKHAI\n",
      "SRIRACHA HARBOUR PORT\n"
     ]
    }
   ],
   "source": [
    "d = ex_data['portofloading'].unique()   \n",
    "for item in d:\n",
    "    lst.append(item)\n",
    "    print(item)"
   ]
  },
  {
   "cell_type": "code",
   "execution_count": 83,
   "metadata": {
    "ExecuteTime": {
     "end_time": "2019-11-01T09:00:38.628176Z",
     "start_time": "2019-11-01T09:00:38.623180Z"
    }
   },
   "outputs": [
    {
     "name": "stdout",
     "output_type": "stream",
     "text": [
      "KERRY\n",
      "A0\n",
      "C1C2\n",
      "B2\n",
      "-\n",
      "C3\n",
      "B4\n",
      "TIPS B4\n",
      "A3\n",
      "SRIRACHA\n",
      "LAEM CHABANG PORT\n",
      "MUGDAHARN\n",
      "BAN KHOK PHAI, LOEI\n",
      "CHIANG KHONG, CHIANG RAI\n",
      "NONGKHAI\n",
      "SRIRACHA HARBOUR PORT\n"
     ]
    }
   ],
   "source": [
    "for item in lst:\n",
    "       print(item)"
   ]
  },
  {
   "cell_type": "code",
   "execution_count": null,
   "metadata": {},
   "outputs": [],
   "source": []
  }
 ],
 "metadata": {
  "kernelspec": {
   "display_name": "Python 3",
   "language": "python",
   "name": "python3"
  },
  "language_info": {
   "codemirror_mode": {
    "name": "ipython",
    "version": 3
   },
   "file_extension": ".py",
   "mimetype": "text/x-python",
   "name": "python",
   "nbconvert_exporter": "python",
   "pygments_lexer": "ipython3",
   "version": "3.6.8"
  },
  "toc": {
   "base_numbering": 1,
   "nav_menu": {},
   "number_sections": false,
   "sideBar": true,
   "skip_h1_title": false,
   "title_cell": "Table of Contents",
   "title_sidebar": "Contents",
   "toc_cell": false,
   "toc_position": {},
   "toc_section_display": true,
   "toc_window_display": true
  },
  "varInspector": {
   "cols": {
    "lenName": 16,
    "lenType": 16,
    "lenVar": 40
   },
   "kernels_config": {
    "python": {
     "delete_cmd_postfix": "",
     "delete_cmd_prefix": "del ",
     "library": "var_list.py",
     "varRefreshCmd": "print(var_dic_list())"
    },
    "r": {
     "delete_cmd_postfix": ") ",
     "delete_cmd_prefix": "rm(",
     "library": "var_list.r",
     "varRefreshCmd": "cat(var_dic_list()) "
    }
   },
   "types_to_exclude": [
    "module",
    "function",
    "builtin_function_or_method",
    "instance",
    "_Feature"
   ],
   "window_display": false
  }
 },
 "nbformat": 4,
 "nbformat_minor": 2
}
