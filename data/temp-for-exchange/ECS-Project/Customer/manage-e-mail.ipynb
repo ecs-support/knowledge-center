{
 "cells": [
  {
   "cell_type": "code",
   "execution_count": 2,
   "metadata": {
    "ExecuteTime": {
     "end_time": "2020-03-25T06:44:23.478082Z",
     "start_time": "2020-03-25T06:44:23.436110Z"
    }
   },
   "outputs": [
    {
     "name": "stdout",
     "output_type": "stream",
     "text": [
      "pandas version = 1.0.1\n"
     ]
    },
    {
     "data": {
      "text/plain": [
       "Timestamp('2020-03-25 13:44:23.448101')"
      ]
     },
     "execution_count": 2,
     "metadata": {},
     "output_type": "execute_result"
    }
   ],
   "source": [
    "import pandas as pd\n",
    "import requests\n",
    "\n",
    "\n",
    "# Set some pandas options controlling output format\n",
    "pd.set_option('display.notebook_repr_html', False)\n",
    "pd.set_option('display.max_columns', 30)\n",
    "pd.set_option('display.max_rows', 10)\n",
    "pd.set_option('display.width', 1000)\n",
    "%config InlineBackend.figure_format='retina'\n",
    "\n",
    "\n",
    "print(f'pandas version = {pd.__version__}')\n",
    "\n",
    "pd.Timestamp.today()"
   ]
  },
  {
   "cell_type": "code",
   "execution_count": 19,
   "metadata": {
    "ExecuteTime": {
     "end_time": "2020-03-25T07:01:58.694918Z",
     "start_time": "2020-03-25T07:01:58.681925Z"
    }
   },
   "outputs": [
    {
     "data": {
      "text/plain": [
       "                 0                 1                                                  2                        3\n",
       "0         Jutharat          Nakpuang                        Nichiban(Thailand) Co.,Ltd.  jutharat-n@nichiban.com\n",
       "1          Sukanya             Inrum                        Nichiban(Thailand) Co.,Ltd.   sukanya-i@nichiban.com\n",
       "2            นพนาฏ    สุวรรณชัยทัศน์                       A K M Inter Service co.,ltd.   noppanart@akmserve.com\n",
       "3        เฟื่องฟ้า           ราวิชัย                      AKM Inter Service Co.,Ltd.       fueangfa@akmserve.com\n",
       "4       นาย สุทิน        ศรีโกศักดิ์                         S.G.S.IMPORT EXPORT CO,LTD      sgs_bkk@hotmail.com\n",
       "..             ...               ...                                                ...                      ...\n",
       "6   นางสาว เสาวภา            โตพานิช                       a k m inter service co.,ltd.     saowapa@akmserve.com\n",
       "7          จริยาพร           สุดาเดช              บริษัท อีสเทิร์น เมทัล เทรดดิ้ง จำกัด       import@thareus.com\n",
       "8            ลินดา          ศรีรักษา  บริษัท เอ็กซ์เซลเล้นท์ บิสเนส คอร์ปอร์เรชั่น อ...     LSriraks@its.jnj.com\n",
       "9           อุพาพร         ลลิตวิภาส  บริษัท เอ็กซ์เซลเล้นท์ บิสเนส คอร์ปอร์เรชั่น อ...     OLalitwi@its.jnj.com\n",
       "10         Jutamas  Boonrustanapisal  บริษัท เอ็กซ์เซลเล้นท์ บิสเนส คอร์ปอร์เรชั่น อ...     JBoonrus@ITS.JNJ.com\n",
       "\n",
       "[11 rows x 4 columns]"
      ]
     },
     "execution_count": 19,
     "metadata": {},
     "output_type": "execute_result"
    }
   ],
   "source": [
    "df = pd.read_clipboard(header=None)\n",
    "df"
   ]
  },
  {
   "cell_type": "code",
   "execution_count": 20,
   "metadata": {
    "ExecuteTime": {
     "end_time": "2020-03-25T07:02:00.364207Z",
     "start_time": "2020-03-25T07:02:00.361208Z"
    }
   },
   "outputs": [],
   "source": [
    "col = ['name', 'surname', 'company', 'e-mail']"
   ]
  },
  {
   "cell_type": "code",
   "execution_count": 21,
   "metadata": {
    "ExecuteTime": {
     "end_time": "2020-03-25T07:02:03.092865Z",
     "start_time": "2020-03-25T07:02:03.088868Z"
    }
   },
   "outputs": [],
   "source": [
    "df.columns = col"
   ]
  },
  {
   "cell_type": "code",
   "execution_count": 24,
   "metadata": {
    "ExecuteTime": {
     "end_time": "2020-03-25T07:02:47.013143Z",
     "start_time": "2020-03-25T07:02:47.001151Z"
    }
   },
   "outputs": [
    {
     "data": {
      "text/plain": [
       "              name           surname                                            company                   e-mail\n",
       "0         Jutharat          Nakpuang                        Nichiban(Thailand) Co.,Ltd.  jutharat-n@nichiban.com\n",
       "1          Sukanya             Inrum                        Nichiban(Thailand) Co.,Ltd.   sukanya-i@nichiban.com\n",
       "2            นพนาฏ    สุวรรณชัยทัศน์                       A K M Inter Service co.,ltd.   noppanart@akmserve.com\n",
       "3        เฟื่องฟ้า           ราวิชัย                      AKM Inter Service Co.,Ltd.       fueangfa@akmserve.com\n",
       "4       นาย สุทิน        ศรีโกศักดิ์                         S.G.S.IMPORT EXPORT CO,LTD      sgs_bkk@hotmail.com\n",
       "..             ...               ...                                                ...                      ...\n",
       "6   นางสาว เสาวภา            โตพานิช                       a k m inter service co.,ltd.     saowapa@akmserve.com\n",
       "7          จริยาพร           สุดาเดช              บริษัท อีสเทิร์น เมทัล เทรดดิ้ง จำกัด       import@thareus.com\n",
       "8            ลินดา          ศรีรักษา  บริษัท เอ็กซ์เซลเล้นท์ บิสเนส คอร์ปอร์เรชั่น อ...     lsriraks@its.jnj.com\n",
       "9           อุพาพร         ลลิตวิภาส  บริษัท เอ็กซ์เซลเล้นท์ บิสเนส คอร์ปอร์เรชั่น อ...     olalitwi@its.jnj.com\n",
       "10         Jutamas  Boonrustanapisal  บริษัท เอ็กซ์เซลเล้นท์ บิสเนส คอร์ปอร์เรชั่น อ...     jboonrus@its.jnj.com\n",
       "\n",
       "[11 rows x 4 columns]"
      ]
     },
     "execution_count": 24,
     "metadata": {},
     "output_type": "execute_result"
    }
   ],
   "source": [
    "## ปรับให้ e-mail เป็นตุัวเล็กทั้งหมด\n",
    "df['e-mail'] = df['e-mail'].str.strip()\n",
    "df['e-mail'] = df['e-mail'].map(lambda x: x.lower())\n",
    "df"
   ]
  },
  {
   "cell_type": "markdown",
   "metadata": {},
   "source": [
    "## Read Excel"
   ]
  },
  {
   "cell_type": "code",
   "execution_count": 31,
   "metadata": {
    "ExecuteTime": {
     "end_time": "2020-03-25T07:07:47.091374Z",
     "start_time": "2020-03-25T07:07:47.087377Z"
    }
   },
   "outputs": [],
   "source": [
    "def read_excel():\n",
    "    data = pd.read_excel('e-mail.xlsx',  index_col=0, na_values=['NA'])\n",
    "    return data"
   ]
  },
  {
   "cell_type": "code",
   "execution_count": 26,
   "metadata": {
    "ExecuteTime": {
     "end_time": "2020-03-25T07:03:14.820054Z",
     "start_time": "2020-03-25T07:03:14.809063Z"
    }
   },
   "outputs": [
    {
     "data": {
      "text/plain": [
       "              name            surname                                            company                     e-mail\n",
       "0          ชัยโชติ              แสงคำ    บริษัท ซีเอสพีเอส กรุ๊ป อินเตอร์เนชั่นแนล จำกัด        chaichots@gmail.com\n",
       "1            สุกฤต  เกียตริ์ชัยสิริพร                   Union freight forwarder co.,ltd.  customs@union-freight.com\n",
       "2          Tidarat           Soonthon                             Taiun(thailand)co.,ltd        airimport@taiun.com\n",
       "3        รุจิรัตน์         น้อยจันทร์               บริษัท เวิลดิ์ แอร์ โลจิสติกส์ จำกัด     customs@worldair.co.th\n",
       "4          วรรณิตา     ตั้งศิริทรัพย์                      พุทธชาด เอ็กซ์เพรส (ไทยแลนด์)     neay@phuthachart.co.th\n",
       "..             ...                ...                                                ...                        ...\n",
       "6   นางสาว เสาวภา             โตพานิช                       a k m inter service co.,ltd.       saowapa@akmserve.com\n",
       "7          จริยาพร            สุดาเดช              บริษัท อีสเทิร์น เมทัล เทรดดิ้ง จำกัด         import@thareus.com\n",
       "8            ลินดา           ศรีรักษา  บริษัท เอ็กซ์เซลเล้นท์ บิสเนส คอร์ปอร์เรชั่น อ...       lsriraks@its.jnj.com\n",
       "9           อุพาพร          ลลิตวิภาส  บริษัท เอ็กซ์เซลเล้นท์ บิสเนส คอร์ปอร์เรชั่น อ...       olalitwi@its.jnj.com\n",
       "10         Jutamas   Boonrustanapisal  บริษัท เอ็กซ์เซลเล้นท์ บิสเนส คอร์ปอร์เรชั่น อ...       jboonrus@its.jnj.com\n",
       "\n",
       "[496 rows x 4 columns]"
      ]
     },
     "execution_count": 26,
     "metadata": {},
     "output_type": "execute_result"
    }
   ],
   "source": [
    "data_concat = pd.concat([data, df], axis=0)\n",
    "data_concat "
   ]
  },
  {
   "cell_type": "code",
   "execution_count": 27,
   "metadata": {
    "ExecuteTime": {
     "end_time": "2020-03-25T07:03:38.281886Z",
     "start_time": "2020-03-25T07:03:38.272894Z"
    }
   },
   "outputs": [
    {
     "name": "stdout",
     "output_type": "stream",
     "text": [
      "496\n"
     ]
    },
    {
     "data": {
      "text/plain": [
       "494"
      ]
     },
     "execution_count": 27,
     "metadata": {},
     "output_type": "execute_result"
    }
   ],
   "source": [
    "df = data_concat.copy()\n",
    "print(len(df))\n",
    "# Remove the duplicates\n",
    "df.drop_duplicates(['e-mail'], inplace=True)\n",
    "\n",
    "# Reset dataframe index after drop_duplicates.\n",
    "df.reset_index(drop=True, inplace=True)\n",
    "\n",
    "len(df)"
   ]
  },
  {
   "cell_type": "markdown",
   "metadata": {},
   "source": [
    "## Write data to excel"
   ]
  },
  {
   "cell_type": "code",
   "execution_count": 108,
   "metadata": {
    "ExecuteTime": {
     "end_time": "2020-03-25T09:41:31.154827Z",
     "start_time": "2020-03-25T09:41:30.957858Z"
    }
   },
   "outputs": [
    {
     "name": "stdout",
     "output_type": "stream",
     "text": [
      "success\n"
     ]
    }
   ],
   "source": [
    "df.to_excel('e-mail.xlsx')\n",
    "print('success')"
   ]
  },
  {
   "cell_type": "code",
   "execution_count": null,
   "metadata": {},
   "outputs": [],
   "source": []
  },
  {
   "cell_type": "code",
   "execution_count": 118,
   "metadata": {
    "ExecuteTime": {
     "end_time": "2020-03-25T09:45:36.066533Z",
     "start_time": "2020-03-25T09:45:35.987582Z"
    }
   },
   "outputs": [
    {
     "data": {
      "text/plain": [
       "         name          surname                                        company                               e-mail\n",
       "402    นริศรา             คำภา         บริษัท โฟร์ ลอจีส แอ็ดไวเซอรี่ จำกัด                      4logis@4logis.biz\n",
       "105    สุพิชา        ทองปราณีต                       4 LOGIS ADVISORY CO.,LTD                    4logis@4logis.com\n",
       "202   Narumol       Wangjaroen                         Aditya birla chemicals  abct-phd.eclearance@adityabirla.com\n",
       "278  พสิษฐ์ตา      หลิมย่านกวย      บริษัทแหลมฉบังบริการขนส่งและชิปปิ้ง จำกัด                   acc_bkk1@log.co.th\n",
       "464     ณัฏฐ์         คูณสุขโข       บริษัท แอดวานซ์ คาร์โก้ เอ็กซ์เพรส จำกัด                   aceap342@gmail.com\n",
       "..        ...              ...                                            ...                                  ...\n",
       "72   บุพผาวดี         อ่อนแก้ว  ห้างหุ้นส่วนจำกัดซันฟลาวเวอร์ ฟอร์เวิร์ดดิ้ง             yingsunflower@hotmail.com\n",
       "146     ปรีดา      สมมิตรสถาพร           FEST LOGISTICS (THAILAND) CO., LTD.               ynatransports@gmail.com\n",
       "230      YUPA          SANGPHA  KWE-Kintetsu World Express(Thailand) Co.,ltd.                 yupa.sangpha@kwe.com\n",
       "166      YUPA  UASAWAEAENGBOON                   FOUR GROUP SHIPPING CO.,LTD.           yupa@fourgroupshipping.com\n",
       "414     YUPIN            SORAT                         MATTEL BANGKOK LIMITED               yupin.sorat@mattel.com\n",
       "\n",
       "[494 rows x 4 columns]"
      ]
     },
     "execution_count": 118,
     "metadata": {},
     "output_type": "execute_result"
    }
   ],
   "source": [
    "df = read_excel()\n",
    "df = df.sort_values(by=\"e-mail\")\n",
    "df"
   ]
  },
  {
   "cell_type": "code",
   "execution_count": 119,
   "metadata": {
    "ExecuteTime": {
     "end_time": "2020-03-25T09:45:36.466959Z",
     "start_time": "2020-03-25T09:45:36.459963Z"
    }
   },
   "outputs": [
    {
     "data": {
      "text/plain": [
       "402                      4logis@4logis.biz\n",
       "105                      4logis@4logis.com\n",
       "202    abct-phd.eclearance@adityabirla.com\n",
       "278                     acc_bkk1@log.co.th\n",
       "464                     aceap342@gmail.com\n",
       "                      ...                 \n",
       "72               yingsunflower@hotmail.com\n",
       "146                ynatransports@gmail.com\n",
       "230                   yupa.sangpha@kwe.com\n",
       "166             yupa@fourgroupshipping.com\n",
       "414                 yupin.sorat@mattel.com\n",
       "Name: e-mail, Length: 494, dtype: object"
      ]
     },
     "execution_count": 119,
     "metadata": {},
     "output_type": "execute_result"
    }
   ],
   "source": [
    "mail = df['e-mail']\n",
    "mail"
   ]
  },
  {
   "cell_type": "code",
   "execution_count": 120,
   "metadata": {
    "ExecuteTime": {
     "end_time": "2020-03-25T09:45:37.054818Z",
     "start_time": "2020-03-25T09:45:37.050823Z"
    }
   },
   "outputs": [],
   "source": [
    "# S = start, e = end, f=file\n",
    "s = 0\n",
    "e = 100\n",
    "f = 1"
   ]
  },
  {
   "cell_type": "code",
   "execution_count": 121,
   "metadata": {
    "ExecuteTime": {
     "end_time": "2020-03-25T09:45:37.634425Z",
     "start_time": "2020-03-25T09:45:37.627429Z"
    }
   },
   "outputs": [
    {
     "data": {
      "text/plain": [
       "402                      4logis@4logis.biz\n",
       "105                      4logis@4logis.com\n",
       "202    abct-phd.eclearance@adityabirla.com\n",
       "278                     acc_bkk1@log.co.th\n",
       "464                     aceap342@gmail.com\n",
       "                      ...                 \n",
       "12             exportcenter@kpicustoms.com\n",
       "284              exportgroup@mrgshrimp.com\n",
       "413                 farah.bakar@mattel.com\n",
       "396                ferning_ning@tatwin.com\n",
       "18                 fon_981plus@hotmail.com\n",
       "Name: e-mail, Length: 100, dtype: object"
      ]
     },
     "execution_count": 121,
     "metadata": {},
     "output_type": "execute_result"
    }
   ],
   "source": [
    "mail[0:100]"
   ]
  },
  {
   "cell_type": "code",
   "execution_count": 122,
   "metadata": {
    "ExecuteTime": {
     "end_time": "2020-03-25T09:45:38.216662Z",
     "start_time": "2020-03-25T09:45:38.211666Z"
    }
   },
   "outputs": [
    {
     "data": {
      "text/plain": [
       "5"
      ]
     },
     "execution_count": 122,
     "metadata": {},
     "output_type": "execute_result"
    }
   ],
   "source": [
    "m = len(mail)%100\n",
    "if m>0:\n",
    "    a =1\n",
    "x = len(mail)//100\n",
    "x += a\n",
    "x"
   ]
  },
  {
   "cell_type": "code",
   "execution_count": 126,
   "metadata": {
    "ExecuteTime": {
     "end_time": "2020-03-25T09:50:46.938912Z",
     "start_time": "2020-03-25T09:50:46.906932Z"
    }
   },
   "outputs": [
    {
     "name": "stdout",
     "output_type": "stream",
     "text": [
      "nuch_ka29@ecsserver.com;support@ecsserver.com; yo_sarawut@hotmail.com; yut@ecsserver.com;widchulada@gmail.comchaichots@gmail.com; customs@union-freight.com; airimport@taiun.com; customs@worldair.co.th; neay@phuthachart.co.th; anong@phuthachart.co.th; benjama.meekerdmoon@kwe.com; boonthawee.somsuksawatkul@kwe.com; kaveeyut@hotmail.com; export9@vtgarment.com; ju_permsin@hotmail.com; chaipipat@rayongshipping.co.th; exportcenter@kpicustoms.com; ratsamee.y@minebea.co.th; natchasit@kgmservices.co.th; mkt_bkk@actwg.com; khwankaew.prakobsup@kart-asia.com; operation4@promptprovides.com; fon_981plus@hotmail.com; export@ut.co.th; noppadol.sithiwongse@kwe.com; ovtbkk28@gmail.com; watchadaporn.m@minebea.co.th; export@waveshipping.co.th; boob_tps@hotmail.com; malee.vongmaka@kart-asia.com; nirund.rassamee@archroma.com; import@waveshipping.co.th; bkkforwarding1@tntt.co.th; somjai.p@minebea.co.th; sarawut.boonkongdum@kart-asia.com; phoenixshipping04@hotmail.com; npn1shipping@gmail.com; export@cosmo.co.th; rbn.tradeinter@gmail.com; thesolution.transit2561@gmail.com; sis_services@hotmail.com; sis.patcharin@gmail.com; somjai.sss_ucl@yahoo.com; sripigul@gmail.com; export@fourgroupshipping.com; piyawut@sconfirm.com; sales4@chiefoversea.com; ranu2_@hotmail.com; ratchadaporn@naenonlogistics.com; sarawitta.peungnuson@cevalogistics.c0m; ftsbd@fts.co.th; somkiat@kgmservices.co.th; siriwan_s@pranda.co.th; ecs.th@bdpint.com; nawinda.c@kart-asia.com; somsak_t@pranda.co.th; suttinee@toagroup.com; chuleeporn_p@pranda.co.th; support@v-servegroup.com; uthai.l@pioneer.co.th; thchb@tara-asia.com; tirubber01@gmail.com; sillawat@marine-express.co.th; kitisak@perfecttransit.co.th; suttarut_k@siw.co.th; somk_11@hotmail.com; import@pancustom.co.th; ta.get57@gmail.com; pranote@marine-express.co.th; pattaranan@perfecttransit.co.th; pensri@marine-express.co.th; tanawat_m@freightway.co.th; snakpakao@hotmail.com; kls.shipping@gmail.com; tt_ship@hotmail.com; shipping@rivalogistics.com; yingsunflower@hotmail.com; ning_kob@outlook.co.th; shipping_import@pranda.co.th; niramon.p@bgexpress.co.th; wandee@toagroup.com; tae.phuthachart@gmail.com; shipping_export@pranda.co.th; thongsook.p@pttplc.com; pitisook@toagroup.com; tgoodluck@hotmail.com; sukanyam@aeroflex.co.th; it@sonic.co.th; sayant@aeroflex.co.th; kanitha@nslt.in.th; wuthichai.sribunthai@kwe.com; nittayan@aeroflex.co.th; duangrat.r@bgexpress.co.th; news@pioneerlaemchabang.com; ryslcb@rayongshipping.co.th; soraya.p@ctibkk.com; wimol.n@ctibkk.com; sompohtt@aeroflex.co.th; naiyana.k@minebea.co.th; nattakarn@ctibkk.com; jarinsak_p@tntt.co.th; mrjikkung@gmai.com; prayat@wulthai.net; tara@eurofoodthai.com; \n",
      "boontanawat2547@hotmail.com; ei@nnfoods.co.th; woraluck.yuangket.ext@gmail.com; wareerat@teeraphan.com; wasita_h@th.itclogi.com; 4logis@4logis.com; saowarak@teeraphan.com; kanya.s@foodstar.co.th; praphawan@interlinelogistics.co.th; ruangsri.sungvannuch@leschaco.com; jutarath@phoenix-logistic.com; watcharee@oneplusone-logist.com; natthapat@teeraphan.com; kerdsiri@oneplusone-logist.com; sasithorn.s@foodstar.co.th; prawit.p@pttplc.com; wetchsart@gmail.com; haversack_p@outlook.co.th; kanjana.thongbainoi@leschaco.com; avpc7867@truemail.co.th; export@lkc.co.th; jittima.leung-on.external@beiersdorf.com; pornpimol.j@minebea.co.th; maneerat.h@minebea.co.th; bangorn.d@minebea.co.th; prarinyaporn.salee@kwe.com; tee@kpicustoms.com; thidarat.b@minebea.co.th; patcharee.s@minebea.co.th; areewal-bkk@fmgloballogistics.com; narongvate@smsc.co.th; jiratip.c@minebea.co.th; info@pros-pec.com; wanna.j@pttgcgroup.com; reetadabee.kumar@leschaco.com; akarapol.u@pttgcgroup.com; chayanan.a@pttgcgroup.com; palungpon.ex@kongphop.com; ppbusiness_1@hotmail.com; bkk.generalcustomspaperlessteam@cevalogistics.com; jittima.imsum-ang@cevalogistics.com; edi_bkk@actwg.com; suchin_bkk@actwg.com; chananlada.ruenruai@leschaco.com; customs@borneologistics.com; ratthaphon.t@kart-asia.com; ynatransports@gmail.com; joy@briologistics.com; atb@atb-ecustoms.com; somnuek.t@chinhuay.com; julyltgroup@yahoo.com; phetcharat@union-button.com; duangporn.i@minebea.co.th; suchanya.k@minebea.co.th; tiparat.j@minebea.co.th; kamol.p@minebea.co.th; buapin.a@minebea.co.th; suree@kpicustoms.com; orawan.sss_ucl@yahoo.com; supranee.k@minebea.coth; tawin_79@hotmail.com; sanon.t@pttgcgroup.com; buasorn2513@gmail.com; jck_logistics@yahoo.com; wuttinan@gtl-thailand.com; sarunya@toagroup.com; yupa@fourgroupshipping.com; somtawinpat@talapparel.com; rungrachanee@heung-a.co.th; chartchai.j@pttor.com; shipping@union-button.com; rainab@cndthai.com; center@cndthai.com; pleship@yahoo.com; nim_tk@hotmail.com; amporn@kgmservices.co.th; weeranat@kgmservices.co.th; snpcartoon_2013@hotmail.com; sirunya.w@pioneer.co.th; i_amusa@hotmail.com; ning@romet.net; vimol.l@pioneer.co.th; prapatsorn@toagroup.com; vanicha@kbss.co.th; walaporn@toagroup.com; akkachai@kbss.co.th; thanate@kbss.co.th; komkit@kbss.co.th; phadungsak@kbss.co.th; pariyabhat@kbss.co.th; natthacha@kbss.co.th; juthamard@kbss.co.th; northriver2010@hotmail.com; ts@kgmservices.co.th; pornlert@tmsshipping.co.th; thanongsak.k@panfood.co.th; plernta.j@minebea.co.th; ornuma.w@ctibkk.com; ratchit_c@th.itclogi.com; aom@strong-sts.com; \n",
      "itvtt@volcano.co.th; sales1@chiefoversea.com; abct-phd.eclearance@adityabirla.com; tanu.wongkalasin@kwe.com; strong_ting@hotmail.co.th; channipa.saithanu@kwe.com; wichai_c@th.itclogi.com; suwannee@elta.co.th; nusara.phruetisarikorn@kwe.com; logistics3@freightlinks.co.th; mantana.lertphalanun@kwe.com; rungthip@gtl-thailand.com; imex@thareus.com; boonsong@sirivatana.co.th; pin@strong-sts.com; customs@chiefoversea.com; taweesak.sangseangpha@kwe.com; thanachai.lipiwathana@kwe.com; terawit.kaewdee@kwe.com; netnapa-p@tls.co.th; supapanat-w@tls.co.th; tritanarat-s@tls.co.th; kanya-c@tls.co.th; arpatchanee.wongjanna@kwe.com; pathikorn.prasobchoaksombun@kwe.com; export8@vtgarment.com; songdej.suwannaca@kwe.com; prapasri.meewongsom@kwe.com; somboon.wonglaekavat@kwe.com; sirirat.pongprasith@kwe.com; yupa.sangpha@kwe.com; export3@vtgarment.com; sippakorn.termtor@kwe.com; chakkrit.nitikultanon@kwe.com; export2@vtgarment.com; peyanoot_napachot@apllogistics.com; prajug.chaiudom@ao.kwe.com; tansamorn-s@tls.co.th; boonchoo@gtl-thailand.com; implant_import@tntt.co.th; inbound@angth.com; cilogistics@cosmo.co.th; koy_edi@thaisomdej.com; phichet@gtl-thailand.com; kunatsanan.akarasarutpong@kwe.com; darinkarn.nammaha@kwe.com; nueng1.phuthachart@gmail.com; phanlapa@cht.canon.co.th; sirinapa@ecsserver.com; edi@tls.co.th; nantana@sissiam.com; usa@ebcitrade.com; cs-export@tls.co.th; import@forward.co.th; supaluck@ctibkk.com; import@easternwindfreight.co.th; jirawan.kh@ctibkk.com; banleng@windowslive.com; mayuree@siammtk.co.th; perfectpaperlessservice@gmail.com; tsdpaperless@gmail.com; pornthip@ebcitrade.com; kannika.l@ctibkk.com; ing-orn.pi@cpsl.co.th; export@onestopim-ex.com; petcharat.tongprateung@leschaco.com; rpry44@gmail.com; namphueng.h@ctibkk.com; wanwipa.su@ctibkk.com; linda@ebcitrade.com; oupaporn@ebcitrade.com; sununtha@worldcargoshipping.com; anchalee@worldcargoshipping.com; wanvimon@worldcargoshipping.com; jitra@spsthai.com; cs1@srirachalogistics.com; cs-export@srirachalogistics.com; scs@srirachalogistics.com; acc_bkk1@log.co.th; narunart_s@log.co.th; shipping_bkk1@log.co.th; popornthep@central.co.th; wanpen.sa@centaco.com; sumalee.si@centaco.com; exportgroup@mrgshrimp.com; sarawitta.peungnuson@cevalogistics.com; chalida.ch@centaco.com; lukkhana.ng@centaco.com; chuanpit.a@minebea.co.th; jureeporn@siamfibreboard.com; thanawan.mu@chotiwat.com; praewphan.s@gmail.com; wantip.pa@indexlivingmall.com; chanokvanon.sr@chotiwat.com; jittinan@diamond-expressthailand.com; nakhara@cptrading.co.th; cs01@cola.co.th; shp@thaitex.com; napasorn_s@dgms.co.th; nirachorn@siamfibreboard.com; \n",
      "info@snp.co.th; import@snp.co.th; export@snp.co.th; wannee.arunyutthsast@clariant.com; sarocha@eurofoodthai.com; navarut@eurofoodthai.com; niyom@rayongshipping.co.th; supaporn.kukuan@kwe.com; benjamas.sangvalphetch@kwe.com; kongkaew@powerfrt.com; inbound-1@powerfrt.com; inbound@powerfrt.com; nussara.thuanjeen@kwe.com; export_ppbcorp@hotmail.com; ppbusiness_2@hotmail.com; ppbusiness_3@hotmail.com; wararat@fw.co.th; rapeeporn@alp.co.th; parichat@ohgitani.com; onemw@volcano.co.th; morckochs-stl@volcano.co.th; orrawans-stl@volcano.co.th; import@phuthachart.co.th; supachai.p@pttplc.com; duangporn.boontham@kwe.com; sawatdichote@royalmarine.co.th; paradee_s@tntt.co.th; onuma.calvin@gmail.com; praewphan.s@kye.meap.com; w.rajchapon@vipco-thai.com; iraporn.kapin@leschaco.com; supanate@siamfibreboard.com; export2@smsl.co.th; import@cpservice.co.th; logistics.service2010@gmail.com; import@onestopim-ex.com; shipping@imex-logistics.com; oui@kpicustoms.com; info@expand.co.th; siriporn_k@kawasumi.co.th; napapron.y@hotmail.com; oprs.cs@royallogthai.com; oprs.sh@royallogthai.com; nichapap@aeroklas.com; piangruethait@aeroklas.com; nipapunc@aeroklas.com; kanlayaneem@volcano.co.th; usabo@chotiwat.com; wansikape@chotiwat.com; saifon.b@ctibkk.com; kittipod.in@ctibkk.com; punyanut@korchina.co.th; somlak@toagroup.com; sak.pandp@onestopim-ex.com; importcenter@kpicustoms.com; csim01@kpicustoms.com; suntaree@hotmail.com; wannapha.mulkhit@leschaco.com; boonjira.wa@ctibkk.com; mksupport@chocksamut.com; tanawan@th.chemicogroup.com; ravisara@th.chemicogroup.com; jintara.thoonthaisong@leschaco.com; suntaree3168@hotmail.com; srisuda_c@pttor.com; prawit.p@pttor.com; soodkumarn.lumkaew.ext@bayer.com; khanitsak.h@pttor.com; naruepong@scms.co.th; aom@kpicustoms.com; c.ponghathai@gmail.com; bkk_sales4@nslt.in.th; bkk_sales1@nslt.in.th; snl@nslt.in.th; charanphat.m@bdpint.com; arnon.ma@ctibkk.com; info@vsign.co.th; songyos.juangchan@ctibkk.com; krit.ko@ctibkk.com; nakarin.in@ctibkk.com; thitima.p@ctibkk.com; chaiyapong.chaisrisuraphan@leschaco.com; suchada.prabjon@leschaco.com; wetaka@tripluslog.com; chidchanok@tripluslog.com; preeyaporn@tripluslog.com; suwan.j@adityabirla.com; natphinan@toagroup.com; nawaratm@aeroklas.com; pimchanok.nimsuk@leschaco.com; naweerin.rhaweewongwasu@leschaco.com; export@spsthai.com; lsth_info_paperless@leschaco.com; nina@angth.com; petchpayao@spsthai.com; siraporn@spsthai.com; ferning_ning@tatwin.com; sunee@thaisukenoknit.co.th; manlika@thaisukenoknit.co.th; vasana@thaisukenoknit.co.th; \n",
      "thamonwan@thaisukenoknit.co.th; export@angth.com; 4logis@4logis.biz; panya.c@ovt-thailand.com; nutchar.c@ovt-thailand.com; nutchar8171@gmail.com; wattana@naenonlogistics.com; mayura@chairak.co.th; pailinpt.eif@gmail.com; oasis.ao4@gmail.com; implcb@sonic.co.th; silom700@truemail.co.th; naowarat.lualai@mattel.com; farah.bakar@mattel.com; yupin.sorat@mattel.com; kankamon.klongklaew@mattel.com; uraiwan.chantarasena@mattel.com; rungtip.wannawong@mattel.com; ilada.jaihow@mattel.com; supranee.k@minebea.co.th; natthaphon.k@bgexpress.co.th; sp.ratanakamol@gmail.com; import@scms.co.th; kannikar@tripluslog.com; ptr.nk2009@gmail.com; export@unityfood.com; baitoeeey19@gmail.com; nutta.toon01@gmail.com; jplogis@hotmail.com; siriporn.su@ctibkk.com; pooh_daa2@hotmail.com; suti_pa@hotmail.com; kanikanawi@chotiwat.com; shippinglcb@bizocean.net; narongchai@vmultimodallogistics.com; nantaporn.cheychan@adityabirla.com; wichuda.kaewnikom@adityabirla.com; supportpg@prompt-group.com; korakod.p@cola.co.th; cs03@cola.co.th; jatuporn.ac@chotiwat.com; monsiri.ac@chotiwat.com; shipping@massport.co.th; shippingskl@amarit.co.th; cmrforwarding@hotmail.com; importdubey@gmail.com; lakkana_c@ebcitrade.com; sudarat@thaisomdej.com; boi-im-ex@umt.co.th; kunlawat@chairak.co.th; pinpinat@chairak.co.th; sirintip@chairak.co.th; maneeporn4673@gmail.com; vchramedoh@gmail.com; chawitphon.r@pttgcgroup.com; pimnara@kgmservices.co.th; nongnong_b@hotmail.com; import@fourgroupshipping.com; enews@ebcitrade.com; benjamaporn@akmserve.com; shipping01@able-logistics.co.th; shipping@thaishingye.com; saowapa@akmserve.com; rienngoen@hotmail.com; aceap342@gmail.com; nipaporn@akmserve.com; somporn.s@festlogistics.com; info@jp-freight.com; lkb2_truck@taiun.com; lkb_truck@taiun.com; import_export@taiun.com; do@taiun.com; sunanta.k@ych.com; aocoffee2321@gmail.com; othanee@taiun.com; aketanida.w@sonic.co.th; import@smsc.co.th; aruneey@mdcthailand.com; ning@jmliner.com; songsudabb@gmail.com; tonaor5366@gmail.com; korakarn.c@ych.com; rinyarath.t@gmail.com; sayamon.k@ych.com; jutharat-n@nichiban.com; sukanya-i@nichiban.com; noppanart@akmserve.com; fueangfa@akmserve.com; sgs_bkk@hotmail.com; maiwanida2536@gmail.com; import@thareus.com; lsriraks@its.jnj.com; olalitwi@its.jnj.com; jboonrus@its.jnj.com; \n"
     ]
    }
   ],
   "source": [
    "m =  'nuch_ka29@ecsserver.com;support@ecsserver.com; yo_sarawut@hotmail.com; yut@ecsserver.com;widchulada@gmail.com'\n",
    "e = 0\n",
    "for i in range(x):\n",
    "    a = 0\n",
    "    for s in range(0,100):\n",
    "        if e < len(mail):        \n",
    "            m += str(mail[e]) + '; '        \n",
    "            a += 1\n",
    "            e +=1\n",
    "        else:\n",
    "            s=100\n",
    "            \n",
    "    print(m)     \n",
    "    \n",
    "    s = 0\n",
    "   \n",
    "    \n",
    "    file1 = open(\"group_\" + str(i+1)+\".txt\",\"w\")     \n",
    "    # \\n is placed to indicate EOL (End of Line)     f\n",
    "    file1.writelines(m) \n",
    "    file1.close() #to change file access modes \n",
    " \n",
    "    m=''\n"
   ]
  },
  {
   "cell_type": "code",
   "execution_count": 42,
   "metadata": {
    "ExecuteTime": {
     "end_time": "2020-03-25T07:29:04.640835Z",
     "start_time": "2020-03-25T07:29:04.635839Z"
    }
   },
   "outputs": [
    {
     "data": {
      "text/plain": [
       "int"
      ]
     },
     "execution_count": 42,
     "metadata": {},
     "output_type": "execute_result"
    }
   ],
   "source": [
    "b = int(rang)\n",
    "type(b)"
   ]
  },
  {
   "cell_type": "code",
   "execution_count": 34,
   "metadata": {
    "ExecuteTime": {
     "end_time": "2020-03-25T07:10:08.011980Z",
     "start_time": "2020-03-25T07:10:08.006984Z"
    }
   },
   "outputs": [
    {
     "data": {
      "text/plain": [
       "494"
      ]
     },
     "execution_count": 34,
     "metadata": {},
     "output_type": "execute_result"
    }
   ],
   "source": []
  },
  {
   "cell_type": "code",
   "execution_count": null,
   "metadata": {},
   "outputs": [],
   "source": []
  },
  {
   "cell_type": "code",
   "execution_count": null,
   "metadata": {},
   "outputs": [],
   "source": [
    "x // y หมายถึง x หาร y โดยปัดเศษทิ้ง\n",
    "x % y หมายถึง x หาร y เอาเศษ"
   ]
  },
  {
   "cell_type": "code",
   "execution_count": 47,
   "metadata": {
    "ExecuteTime": {
     "end_time": "2020-02-28T10:51:10.702125Z",
     "start_time": "2020-02-28T10:51:10.699126Z"
    }
   },
   "outputs": [],
   "source": [
    "## ตรวจสอบว่าใน list เป็น unique หรือไม่\n",
    "\n",
    "def all_unique(lst):\n",
    "      return len(lst) == len(set(lst))"
   ]
  },
  {
   "cell_type": "code",
   "execution_count": 11,
   "metadata": {
    "ExecuteTime": {
     "end_time": "2020-03-25T06:52:18.908066Z",
     "start_time": "2020-03-25T06:52:18.904068Z"
    }
   },
   "outputs": [
    {
     "data": {
      "text/plain": [
       "Index(['name', 'surname', 'company', 'e-mail'], dtype='object')"
      ]
     },
     "execution_count": 11,
     "metadata": {},
     "output_type": "execute_result"
    }
   ],
   "source": [
    "data.columns"
   ]
  },
  {
   "cell_type": "code",
   "execution_count": 53,
   "metadata": {
    "ExecuteTime": {
     "end_time": "2020-02-28T10:55:42.786686Z",
     "start_time": "2020-02-28T10:55:42.772692Z"
    }
   },
   "outputs": [
    {
     "data": {
      "text/plain": [
       "['chaichots@gmail.com',\n",
       " 'customs@union-freight.com',\n",
       " 'airimport@taiun.com',\n",
       " 'customs@worldair.co.th',\n",
       " 'neay@phuthachart.co.th',\n",
       " 'anong@phuthachart.co.th',\n",
       " 'benjama.meekerdmoon@kwe.com',\n",
       " 'boonthawee.somsuksawatkul@kwe.com',\n",
       " 'kaveeyut@hotmail.com',\n",
       " 'export9@vtgarment.com',\n",
       " 'ju_permsin@hotmail.com',\n",
       " 'chaipipat@rayongshipping.co.th',\n",
       " 'exportcenter@kpicustoms.com',\n",
       " 'ratsamee.y@minebea.co.th',\n",
       " 'natchasit@kgmservices.co.th',\n",
       " 'mkt_bkk@actwg.com',\n",
       " 'khwankaew.prakobsup@kart-asia.com',\n",
       " 'operation4@promptprovides.com',\n",
       " 'fon_981plus@hotmail.com',\n",
       " 'export@ut.co.th',\n",
       " 'noppadol.sithiwongse@kwe.com',\n",
       " 'ovtbkk28@gmail.com',\n",
       " 'watchadaporn.m@minebea.co.th',\n",
       " 'export@waveshipping.co.th',\n",
       " 'boob_tps@hotmail.com',\n",
       " 'malee.vongmaka@kart-asia.com',\n",
       " 'nirund.rassamee@archroma.com',\n",
       " 'import@waveshipping.co.th',\n",
       " 'bkkforwarding1@tntt.co.th',\n",
       " 'somjai.p@minebea.co.th',\n",
       " 'sarawut.boonkongdum@kart-asia.com',\n",
       " 'phoenixshipping04@hotmail.com',\n",
       " 'npn1shipping@gmail.com',\n",
       " 'export@cosmo.co.th',\n",
       " 'rbn.tradeinter@gmail.com',\n",
       " 'thesolution.transit2561@gmail.com',\n",
       " 'sis_services@hotmail.com',\n",
       " 'sis.patcharin@gmail.com',\n",
       " 'somjai.sss_ucl@yahoo.com',\n",
       " 'sripigul@gmail.com',\n",
       " 'export@fourgroupshipping.com',\n",
       " 'piyawut@sconfirm.com',\n",
       " 'sales4@chiefoversea.com',\n",
       " 'ranu2_@hotmail.com',\n",
       " 'ratchadaporn@naenonlogistics.com',\n",
       " 'sarawitta.peungnuson@cevalogistics.c0m',\n",
       " 'ftsbd@fts.co.th',\n",
       " 'somkiat@kgmservices.co.th',\n",
       " 'siriwan_s@pranda.co.th',\n",
       " 'ecs.th@bdpint.com',\n",
       " 'nawinda.c@kart-asia.com',\n",
       " 'somsak_t@pranda.co.th',\n",
       " 'suttinee@toagroup.com',\n",
       " 'chuleeporn_p@pranda.co.th',\n",
       " 'support@v-servegroup.com',\n",
       " 'uthai.l@pioneer.co.th',\n",
       " 'thchb@tara-asia.com',\n",
       " 'tirubber01@gmail.com',\n",
       " 'sillawat@marine-express.co.th',\n",
       " 'kitisak@perfecttransit.co.th',\n",
       " 'suttarut_k@siw.co.th',\n",
       " 'somk_11@hotmail.com',\n",
       " 'import@pancustom.co.th',\n",
       " 'ta.get57@gmail.com',\n",
       " 'pranote@marine-express.co.th',\n",
       " 'pattaranan@perfecttransit.co.th',\n",
       " 'pensri@marine-express.co.th',\n",
       " 'tanawat_m@freightway.co.th',\n",
       " 'snakpakao@hotmail.com',\n",
       " 'kls.shipping@gmail.com',\n",
       " 'tt_ship@hotmail.com',\n",
       " 'shipping@rivalogistics.com',\n",
       " 'yingsunflower@hotmail.com',\n",
       " 'ning_kob@outlook.co.th',\n",
       " 'shipping_import@pranda.co.th',\n",
       " 'niramon.p@bgexpress.co.th',\n",
       " 'wandee@toagroup.com',\n",
       " 'tae.phuthachart@gmail.com',\n",
       " 'shipping_export@pranda.co.th',\n",
       " 'thongsook.p@pttplc.com',\n",
       " 'pitisook@toagroup.com',\n",
       " 'tgoodluck@hotmail.com',\n",
       " 'sukanyam@aeroflex.co.th',\n",
       " 'it@sonic.co.th',\n",
       " 'sayant@aeroflex.co.th',\n",
       " 'kanitha@nslt.in.th',\n",
       " 'wuthichai.sribunthai@kwe.com',\n",
       " 'nittayan@aeroflex.co.th',\n",
       " 'duangrat.r@bgexpress.co.th',\n",
       " 'news@pioneerlaemchabang.com',\n",
       " 'ryslcb@rayongshipping.co.th',\n",
       " 'soraya.p@ctibkk.com',\n",
       " 'wimol.n@ctibkk.com',\n",
       " 'sompohtt@aeroflex.co.th',\n",
       " 'naiyana.k@minebea.co.th',\n",
       " 'nattakarn@ctibkk.com',\n",
       " 'jarinsak_p@tntt.co.th',\n",
       " 'mrjikkung@gmai.com',\n",
       " 'prayat@wulthai.net',\n",
       " 'tara@eurofoodthai.com',\n",
       " 'boontanawat2547@hotmail.com',\n",
       " 'ei@nnfoods.co.th',\n",
       " 'woraluck.yuangket.ext@gmail.com',\n",
       " 'wareerat@teeraphan.com',\n",
       " 'wasita_h@th.itclogi.com',\n",
       " '4logis@4logis.com',\n",
       " 'saowarak@teeraphan.com',\n",
       " 'kanya.s@foodstar.co.th',\n",
       " 'praphawan@interlinelogistics.co.th',\n",
       " 'ruangsri.sungvannuch@leschaco.com',\n",
       " 'jutarath@phoenix-logistic.com',\n",
       " 'watcharee@oneplusone-logist.com',\n",
       " 'natthapat@teeraphan.com',\n",
       " 'kerdsiri@oneplusone-logist.com',\n",
       " 'sasithorn.s@foodstar.co.th',\n",
       " 'prawit.p@pttplc.com',\n",
       " 'wetchsart@gmail.com',\n",
       " 'haversack_p@outlook.co.th',\n",
       " 'kanjana.thongbainoi@leschaco.com',\n",
       " 'avpc7867@truemail.co.th',\n",
       " 'export@lkc.co.th',\n",
       " 'jittima.leung-on.external@beiersdorf.com',\n",
       " 'pornpimol.j@minebea.co.th',\n",
       " 'maneerat.h@minebea.co.th',\n",
       " 'bangorn.d@minebea.co.th',\n",
       " 'prarinyaporn.salee@kwe.com',\n",
       " 'tee@kpicustoms.com',\n",
       " 'thidarat.b@minebea.co.th',\n",
       " 'patcharee.s@minebea.co.th',\n",
       " 'areewal-bkk@fmgloballogistics.com',\n",
       " 'narongvate@smsc.co.th',\n",
       " 'jiratip.c@minebea.co.th',\n",
       " 'info@pros-pec.com',\n",
       " 'wanna.j@pttgcgroup.com',\n",
       " 'reetadabee.kumar@leschaco.com',\n",
       " 'akarapol.u@pttgcgroup.com',\n",
       " 'chayanan.a@pttgcgroup.com',\n",
       " 'palungpon.ex@kongphop.com',\n",
       " 'ppbusiness_1@hotmail.com',\n",
       " 'bkk.generalcustomspaperlessteam@cevalogistics.com',\n",
       " 'jittima.imsum-ang@cevalogistics.com',\n",
       " 'edi_bkk@actwg.com',\n",
       " 'suchin_bkk@actwg.com',\n",
       " 'chananlada.ruenruai@leschaco.com',\n",
       " 'customs@borneologistics.com',\n",
       " 'ratthaphon.t@kart-asia.com',\n",
       " 'ynatransports@gmail.com',\n",
       " 'joy@briologistics.com',\n",
       " 'atb@atb-ecustoms.com',\n",
       " 'somnuek.t@chinhuay.com',\n",
       " 'julyltgroup@yahoo.com',\n",
       " 'phetcharat@union-button.com',\n",
       " 'duangporn.i@minebea.co.th',\n",
       " 'suchanya.k@minebea.co.th',\n",
       " 'tiparat.j@minebea.co.th',\n",
       " 'kamol.p@minebea.co.th',\n",
       " 'buapin.a@minebea.co.th',\n",
       " 'suree@kpicustoms.com',\n",
       " 'orawan.sss_ucl@yahoo.com',\n",
       " 'supranee.k@minebea.coth',\n",
       " 'tawin_79@hotmail.com',\n",
       " 'sanon.t@pttgcgroup.com',\n",
       " 'buasorn2513@gmail.com',\n",
       " 'jck_logistics@yahoo.com',\n",
       " 'wuttinan@gtl-thailand.com',\n",
       " 'sarunya@toagroup.com',\n",
       " 'yupa@fourgroupshipping.com',\n",
       " 'somtawinpat@talapparel.com',\n",
       " 'rungrachanee@heung-a.co.th',\n",
       " 'chartchai.j@pttor.com',\n",
       " 'shipping@union-button.com',\n",
       " 'rainab@cndthai.com',\n",
       " 'center@cndthai.com',\n",
       " 'pleship@yahoo.com',\n",
       " 'nim_tk@hotmail.com',\n",
       " 'amporn@kgmservices.co.th',\n",
       " 'weeranat@kgmservices.co.th',\n",
       " 'snpcartoon_2013@hotmail.com',\n",
       " 'sirunya.w@pioneer.co.th',\n",
       " 'i_amusa@hotmail.com',\n",
       " 'ning@romet.net',\n",
       " 'vimol.l@pioneer.co.th',\n",
       " 'prapatsorn@toagroup.com',\n",
       " 'vanicha@kbss.co.th',\n",
       " 'walaporn@toagroup.com',\n",
       " 'akkachai@kbss.co.th',\n",
       " 'thanate@kbss.co.th',\n",
       " 'komkit@kbss.co.th',\n",
       " 'phadungsak@kbss.co.th',\n",
       " 'pariyabhat@kbss.co.th',\n",
       " 'natthacha@kbss.co.th',\n",
       " 'juthamard@kbss.co.th',\n",
       " 'northriver2010@hotmail.com',\n",
       " 'ts@kgmservices.co.th',\n",
       " 'pornlert@tmsshipping.co.th',\n",
       " 'thanongsak.k@panfood.co.th',\n",
       " 'plernta.j@minebea.co.th',\n",
       " 'ornuma.w@ctibkk.com',\n",
       " 'ratchit_c@th.itclogi.com',\n",
       " 'aom@strong-sts.com',\n",
       " 'itvtt@volcano.co.th',\n",
       " 'sales1@chiefoversea.com',\n",
       " 'abct-phd.eclearance@adityabirla.com',\n",
       " 'tanu.wongkalasin@kwe.com',\n",
       " 'strong_ting@hotmail.co.th',\n",
       " 'channipa.saithanu@kwe.com',\n",
       " 'wichai_c@th.itclogi.com',\n",
       " 'suwannee@elta.co.th',\n",
       " 'nusara.phruetisarikorn@kwe.com',\n",
       " 'logistics3@freightlinks.co.th',\n",
       " 'mantana.lertphalanun@kwe.com',\n",
       " 'rungthip@gtl-thailand.com',\n",
       " 'imex@thareus.com',\n",
       " 'boonsong@sirivatana.co.th',\n",
       " 'pin@strong-sts.com',\n",
       " 'customs@chiefoversea.com',\n",
       " 'taweesak.sangseangpha@kwe.com',\n",
       " 'thanachai.lipiwathana@kwe.com',\n",
       " 'terawit.kaewdee@kwe.com',\n",
       " 'netnapa-p@tls.co.th',\n",
       " 'supapanat-w@tls.co.th',\n",
       " 'tritanarat-s@tls.co.th',\n",
       " 'kanya-c@tls.co.th',\n",
       " 'arpatchanee.wongjanna@kwe.com',\n",
       " 'pathikorn.prasobchoaksombun@kwe.com',\n",
       " 'export8@vtgarment.com',\n",
       " 'songdej.suwannaca@kwe.com',\n",
       " 'prapasri.meewongsom@kwe.com',\n",
       " 'somboon.wonglaekavat@kwe.com',\n",
       " 'sirirat.pongprasith@kwe.com',\n",
       " 'yupa.sangpha@kwe.com',\n",
       " 'export3@vtgarment.com',\n",
       " 'sippakorn.termtor@kwe.com',\n",
       " 'chakkrit.nitikultanon@kwe.com',\n",
       " 'export2@vtgarment.com',\n",
       " 'peyanoot_napachot@apllogistics.com',\n",
       " 'prajug.chaiudom@ao.kwe.com',\n",
       " 'tansamorn-s@tls.co.th',\n",
       " 'boonchoo@gtl-thailand.com',\n",
       " 'implant_import@tntt.co.th',\n",
       " 'inbound@angth.com',\n",
       " 'cilogistics@cosmo.co.th',\n",
       " 'koy_edi@thaisomdej.com',\n",
       " 'phichet@gtl-thailand.com',\n",
       " 'kunatsanan.akarasarutpong@kwe.com',\n",
       " 'darinkarn.nammaha@kwe.com',\n",
       " 'nueng1.phuthachart@gmail.com',\n",
       " 'phanlapa@cht.canon.co.th',\n",
       " 'sirinapa@ecsserver.com',\n",
       " 'edi@tls.co.th',\n",
       " 'nantana@sissiam.com',\n",
       " 'usa@ebcitrade.com',\n",
       " 'cs-export@tls.co.th',\n",
       " 'import@forward.co.th',\n",
       " 'supaluck@ctibkk.com',\n",
       " 'import@easternwindfreight.co.th',\n",
       " 'jirawan.kh@ctibkk.com',\n",
       " 'banleng@windowslive.com',\n",
       " 'mayuree@siammtk.co.th',\n",
       " 'perfectpaperlessservice@gmail.com',\n",
       " 'tsdpaperless@gmail.com',\n",
       " 'pornthip@ebcitrade.com',\n",
       " 'kannika.l@ctibkk.com',\n",
       " 'ing-orn.pi@cpsl.co.th',\n",
       " 'export@onestopim-ex.com',\n",
       " 'petcharat.tongprateung@leschaco.com',\n",
       " 'rpry44@gmail.com',\n",
       " 'namphueng.h@ctibkk.com',\n",
       " 'wanwipa.su@ctibkk.com',\n",
       " 'linda@ebcitrade.com',\n",
       " 'oupaporn@ebcitrade.com',\n",
       " 'sununtha@worldcargoshipping.com',\n",
       " 'anchalee@worldcargoshipping.com',\n",
       " 'wanvimon@worldcargoshipping.com',\n",
       " 'jitra@spsthai.com',\n",
       " 'cs1@srirachalogistics.com',\n",
       " 'cs-export@srirachalogistics.com',\n",
       " 'scs@srirachalogistics.com',\n",
       " 'acc_bkk1@log.co.th',\n",
       " 'narunart_s@log.co.th',\n",
       " 'shipping_bkk1@log.co.th',\n",
       " 'popornthep@central.co.th',\n",
       " 'wanpen.sa@centaco.com',\n",
       " 'sumalee.si@centaco.com',\n",
       " 'exportgroup@mrgshrimp.com',\n",
       " 'sarawitta.peungnuson@cevalogistics.com',\n",
       " 'chalida.ch@centaco.com',\n",
       " 'lukkhana.ng@centaco.com',\n",
       " 'chuanpit.a@minebea.co.th',\n",
       " 'jureeporn@siamfibreboard.com',\n",
       " 'thanawan.mu@chotiwat.com',\n",
       " 'praewphan.s@gmail.com',\n",
       " 'wantip.pa@indexlivingmall.com',\n",
       " 'chanokvanon.sr@chotiwat.com',\n",
       " 'jittinan@diamond-expressthailand.com',\n",
       " 'nakhara@cptrading.co.th',\n",
       " 'cs01@cola.co.th',\n",
       " 'shp@thaitex.com',\n",
       " 'napasorn_s@dgms.co.th',\n",
       " 'nirachorn@siamfibreboard.com',\n",
       " 'info@snp.co.th',\n",
       " 'import@snp.co.th',\n",
       " 'export@snp.co.th',\n",
       " 'wannee.arunyutthsast@clariant.com',\n",
       " 'sarocha@eurofoodthai.com',\n",
       " 'navarut@eurofoodthai.com',\n",
       " 'niyom@rayongshipping.co.th',\n",
       " 'supaporn.kukuan@kwe.com',\n",
       " 'benjamas.sangvalphetch@kwe.com',\n",
       " 'kongkaew@powerfrt.com',\n",
       " 'inbound-1@powerfrt.com',\n",
       " 'inbound@powerfrt.com',\n",
       " 'nussara.thuanjeen@kwe.com',\n",
       " 'export_ppbcorp@hotmail.com',\n",
       " 'ppbusiness_2@hotmail.com',\n",
       " 'ppbusiness_3@hotmail.com',\n",
       " 'wararat@fw.co.th',\n",
       " 'rapeeporn@alp.co.th',\n",
       " 'parichat@ohgitani.com',\n",
       " 'onemw@volcano.co.th',\n",
       " 'morckochs-stl@volcano.co.th',\n",
       " 'orrawans-stl@volcano.co.th',\n",
       " 'import@phuthachart.co.th',\n",
       " 'supachai.p@pttplc.com',\n",
       " 'duangporn.boontham@kwe.com',\n",
       " 'sawatdichote@royalmarine.co.th',\n",
       " 'paradee_s@tntt.co.th',\n",
       " 'onuma.calvin@gmail.com',\n",
       " 'praewphan.s@kye.meap.com',\n",
       " 'w.rajchapon@vipco-thai.com',\n",
       " 'iraporn.kapin@leschaco.com',\n",
       " 'supanate@siamfibreboard.com',\n",
       " 'export2@smsl.co.th',\n",
       " 'import@cpservice.co.th',\n",
       " 'logistics.service2010@gmail.com',\n",
       " 'import@onestopim-ex.com',\n",
       " 'shipping@imex-logistics.com',\n",
       " 'oui@kpicustoms.com',\n",
       " 'info@expand.co.th',\n",
       " 'siriporn_k@kawasumi.co.th',\n",
       " 'napapron.y@hotmail.com',\n",
       " 'oprs.cs@royallogthai.com',\n",
       " 'oprs.sh@royallogthai.com',\n",
       " 'nichapap@aeroklas.com',\n",
       " 'piangruethait@aeroklas.com',\n",
       " 'nipapunc@aeroklas.com',\n",
       " 'kanlayaneem@volcano.co.th',\n",
       " 'usabo@chotiwat.com',\n",
       " 'wansikape@chotiwat.com',\n",
       " 'saifon.b@ctibkk.com',\n",
       " 'kittipod.in@ctibkk.com',\n",
       " 'punyanut@korchina.co.th',\n",
       " 'somlak@toagroup.com',\n",
       " 'sak.pandp@onestopim-ex.com',\n",
       " 'importcenter@kpicustoms.com',\n",
       " 'csim01@kpicustoms.com',\n",
       " 'suntaree@hotmail.com',\n",
       " 'wannapha.mulkhit@leschaco.com',\n",
       " 'boonjira.wa@ctibkk.com',\n",
       " 'mksupport@chocksamut.com',\n",
       " 'tanawan@th.chemicogroup.com',\n",
       " 'ravisara@th.chemicogroup.com',\n",
       " 'jintara.thoonthaisong@leschaco.com',\n",
       " 'suntaree3168@hotmail.com',\n",
       " 'srisuda_c@pttor.com',\n",
       " 'prawit.p@pttor.com',\n",
       " 'soodkumarn.lumkaew.ext@bayer.com',\n",
       " 'khanitsak.h@pttor.com',\n",
       " 'naruepong@scms.co.th',\n",
       " 'aom@kpicustoms.com',\n",
       " 'c.ponghathai@gmail.com',\n",
       " 'bkk_sales4@nslt.in.th',\n",
       " 'bkk_sales1@nslt.in.th',\n",
       " 'snl@nslt.in.th',\n",
       " 'charanphat.m@bdpint.com',\n",
       " 'arnon.ma@ctibkk.com',\n",
       " 'info@vsign.co.th',\n",
       " 'songyos.juangchan@ctibkk.com',\n",
       " 'krit.ko@ctibkk.com',\n",
       " 'nakarin.in@ctibkk.com',\n",
       " 'thitima.p@ctibkk.com',\n",
       " 'chaiyapong.chaisrisuraphan@leschaco.com',\n",
       " 'suchada.prabjon@leschaco.com',\n",
       " 'wetaka@tripluslog.com',\n",
       " 'chidchanok@tripluslog.com',\n",
       " 'preeyaporn@tripluslog.com',\n",
       " 'suwan.j@adityabirla.com',\n",
       " 'natphinan@toagroup.com',\n",
       " 'nawaratm@aeroklas.com',\n",
       " 'pimchanok.nimsuk@leschaco.com',\n",
       " 'naweerin.rhaweewongwasu@leschaco.com',\n",
       " 'export@spsthai.com',\n",
       " 'lsth_info_paperless@leschaco.com',\n",
       " 'nina@angth.com',\n",
       " 'petchpayao@spsthai.com',\n",
       " 'siraporn@spsthai.com',\n",
       " 'ferning_ning@tatwin.com',\n",
       " 'sunee@thaisukenoknit.co.th',\n",
       " 'manlika@thaisukenoknit.co.th',\n",
       " 'vasana@thaisukenoknit.co.th',\n",
       " 'thamonwan@thaisukenoknit.co.th',\n",
       " 'export@angth.com',\n",
       " '4logis@4logis.biz',\n",
       " 'panya.c@ovt-thailand.com',\n",
       " 'nutchar.c@ovt-thailand.com',\n",
       " 'nutchar8171@gmail.com',\n",
       " 'wattana@naenonlogistics.com',\n",
       " 'mayura@chairak.co.th',\n",
       " 'pailinpt.eif@gmail.com',\n",
       " 'oasis.ao4@gmail.com',\n",
       " 'implcb@sonic.co.th',\n",
       " 'silom700@truemail.co.th',\n",
       " 'naowarat.lualai@mattel.com',\n",
       " 'farah.bakar@mattel.com',\n",
       " 'yupin.sorat@mattel.com',\n",
       " 'kankamon.klongklaew@mattel.com',\n",
       " 'uraiwan.chantarasena@mattel.com',\n",
       " 'rungtip.wannawong@mattel.com',\n",
       " 'ilada.jaihow@mattel.com',\n",
       " 'supranee.k@minebea.co.th',\n",
       " 'natthaphon.k@bgexpress.co.th',\n",
       " 'sp.ratanakamol@gmail.com',\n",
       " 'import@scms.co.th',\n",
       " 'kannikar@tripluslog.com',\n",
       " 'ptr.nk2009@gmail.com',\n",
       " 'export@unityfood.com',\n",
       " 'baitoeeey19@gmail.com',\n",
       " 'nutta.toon01@gmail.com',\n",
       " 'jplogis@hotmail.com',\n",
       " 'siriporn.su@ctibkk.com',\n",
       " 'pooh_daa2@hotmail.com',\n",
       " 'suti_pa@hotmail.com',\n",
       " 'kanikanawi@chotiwat.com',\n",
       " 'shippinglcb@bizocean.net',\n",
       " 'narongchai@vmultimodallogistics.com',\n",
       " 'nantaporn.cheychan@adityabirla.com',\n",
       " 'wichuda.kaewnikom@adityabirla.com',\n",
       " 'supportpg@prompt-group.com',\n",
       " 'korakod.p@cola.co.th',\n",
       " 'cs03@cola.co.th',\n",
       " 'jatuporn.ac@chotiwat.com',\n",
       " 'monsiri.ac@chotiwat.com',\n",
       " 'shipping@massport.co.th',\n",
       " 'shippingskl@amarit.co.th',\n",
       " 'cmrforwarding@hotmail.com',\n",
       " 'importdubey@gmail.com',\n",
       " 'lakkana_c@ebcitrade.com',\n",
       " 'sudarat@thaisomdej.com',\n",
       " 'boi-im-ex@umt.co.th',\n",
       " 'kunlawat@chairak.co.th',\n",
       " 'pinpinat@chairak.co.th',\n",
       " 'sirintip@chairak.co.th',\n",
       " 'maneeporn4673@gmail.com',\n",
       " 'vchramedoh@gmail.com',\n",
       " 'chawitphon.r@pttgcgroup.com',\n",
       " 'pimnara@kgmservices.co.th',\n",
       " 'nongnong_b@hotmail.com',\n",
       " 'import@fourgroupshipping.com',\n",
       " 'enews@ebcitrade.com',\n",
       " 'benjamaporn@akmserve.com',\n",
       " 'shipping01@able-logistics.co.th',\n",
       " 'shipping@thaishingye.com',\n",
       " 'saowapa@akmserve.com',\n",
       " 'rienngoen@hotmail.com',\n",
       " 'aceap342@gmail.com',\n",
       " 'nipaporn@akmserve.com',\n",
       " 'somporn.s@festlogistics.com',\n",
       " 'info@jp-freight.com',\n",
       " 'lkb2_truck@taiun.com',\n",
       " 'lkb_truck@taiun.com',\n",
       " 'import_export@taiun.com',\n",
       " 'do@taiun.com',\n",
       " 'sunanta.k@ych.com',\n",
       " 'aocoffee2321@gmail.com',\n",
       " 'othanee@taiun.com',\n",
       " 'aketanida.w@sonic.co.th',\n",
       " 'import@smsc.co.th',\n",
       " 'aruneey@mdcthailand.com',\n",
       " 'ning@jmliner.com',\n",
       " 'songsudabb@gmail.com',\n",
       " 'tonaor5366@gmail.com',\n",
       " 'korakarn.c@ych.com',\n",
       " 'rinyarath.t@gmail.com',\n",
       " 'sayamon.k@ych.com']"
      ]
     },
     "execution_count": 53,
     "metadata": {},
     "output_type": "execute_result"
    }
   ],
   "source": [
    "mail = list(df['e-mail'])\n",
    "mail"
   ]
  },
  {
   "cell_type": "code",
   "execution_count": 54,
   "metadata": {
    "ExecuteTime": {
     "end_time": "2020-02-28T10:55:44.881232Z",
     "start_time": "2020-02-28T10:55:44.876232Z"
    }
   },
   "outputs": [
    {
     "data": {
      "text/plain": [
       "True"
      ]
     },
     "execution_count": 54,
     "metadata": {},
     "output_type": "execute_result"
    }
   ],
   "source": [
    "# เช็คค่า e-mal = unique()\n",
    "\n",
    "all_unique(mail)"
   ]
  },
  {
   "cell_type": "code",
   "execution_count": null,
   "metadata": {},
   "outputs": [],
   "source": [
    "master = 'nuch_ka29@ecsserver.com;support@ecsserver.com; yo_sarawut@hotmail.com; yut@ecsserver.com;widchulada@gmail.com'"
   ]
  },
  {
   "cell_type": "code",
   "execution_count": 57,
   "metadata": {
    "ExecuteTime": {
     "end_time": "2020-02-28T10:58:42.744620Z",
     "start_time": "2020-02-28T10:58:42.737624Z"
    }
   },
   "outputs": [
    {
     "data": {
      "text/plain": [
       "'chaichots@gmail.com; customs@union-freight.com; airimport@taiun.com; customs@worldair.co.th; neay@phuthachart.co.th; anong@phuthachart.co.th; benjama.meekerdmoon@kwe.com; boonthawee.somsuksawatkul@kwe.com; kaveeyut@hotmail.com; export9@vtgarment.com; ju_permsin@hotmail.com; chaipipat@rayongshipping.co.th; exportcenter@kpicustoms.com; ratsamee.y@minebea.co.th; natchasit@kgmservices.co.th; mkt_bkk@actwg.com; khwankaew.prakobsup@kart-asia.com; operation4@promptprovides.com; fon_981plus@hotmail.com; export@ut.co.th; noppadol.sithiwongse@kwe.com; ovtbkk28@gmail.com; watchadaporn.m@minebea.co.th; export@waveshipping.co.th; boob_tps@hotmail.com; malee.vongmaka@kart-asia.com; nirund.rassamee@archroma.com; import@waveshipping.co.th; bkkforwarding1@tntt.co.th; somjai.p@minebea.co.th; sarawut.boonkongdum@kart-asia.com; phoenixshipping04@hotmail.com; npn1shipping@gmail.com; export@cosmo.co.th; rbn.tradeinter@gmail.com; thesolution.transit2561@gmail.com; sis_services@hotmail.com; sis.patcharin@gmail.com; somjai.sss_ucl@yahoo.com; sripigul@gmail.com; export@fourgroupshipping.com; piyawut@sconfirm.com; sales4@chiefoversea.com; ranu2_@hotmail.com; ratchadaporn@naenonlogistics.com; sarawitta.peungnuson@cevalogistics.c0m; ftsbd@fts.co.th; somkiat@kgmservices.co.th; siriwan_s@pranda.co.th; ecs.th@bdpint.com; nawinda.c@kart-asia.com; somsak_t@pranda.co.th; suttinee@toagroup.com; chuleeporn_p@pranda.co.th; support@v-servegroup.com; uthai.l@pioneer.co.th; thchb@tara-asia.com; tirubber01@gmail.com; sillawat@marine-express.co.th; kitisak@perfecttransit.co.th; suttarut_k@siw.co.th; somk_11@hotmail.com; import@pancustom.co.th; ta.get57@gmail.com; pranote@marine-express.co.th; pattaranan@perfecttransit.co.th; pensri@marine-express.co.th; tanawat_m@freightway.co.th; snakpakao@hotmail.com; kls.shipping@gmail.com; tt_ship@hotmail.com; shipping@rivalogistics.com; yingsunflower@hotmail.com; ning_kob@outlook.co.th; shipping_import@pranda.co.th; niramon.p@bgexpress.co.th; wandee@toagroup.com; tae.phuthachart@gmail.com; shipping_export@pranda.co.th; thongsook.p@pttplc.com; pitisook@toagroup.com; tgoodluck@hotmail.com; sukanyam@aeroflex.co.th; it@sonic.co.th; sayant@aeroflex.co.th; kanitha@nslt.in.th; wuthichai.sribunthai@kwe.com; nittayan@aeroflex.co.th; duangrat.r@bgexpress.co.th; news@pioneerlaemchabang.com; ryslcb@rayongshipping.co.th; soraya.p@ctibkk.com; wimol.n@ctibkk.com; sompohtt@aeroflex.co.th; naiyana.k@minebea.co.th; nattakarn@ctibkk.com; jarinsak_p@tntt.co.th; mrjikkung@gmai.com; prayat@wulthai.net; tara@eurofoodthai.com; '"
      ]
     },
     "execution_count": 57,
     "metadata": {},
     "output_type": "execute_result"
    }
   ],
   "source": [
    "txt = \"\"\n",
    "for m in range(100):\n",
    "    txt += mail[m] +'; '\n",
    "txt"
   ]
  },
  {
   "cell_type": "code",
   "execution_count": null,
   "metadata": {},
   "outputs": [],
   "source": []
  },
  {
   "cell_type": "code",
   "execution_count": null,
   "metadata": {},
   "outputs": [],
   "source": []
  },
  {
   "cell_type": "code",
   "execution_count": null,
   "metadata": {},
   "outputs": [],
   "source": []
  },
  {
   "cell_type": "code",
   "execution_count": 14,
   "metadata": {
    "ExecuteTime": {
     "end_time": "2020-02-28T05:49:56.029032Z",
     "start_time": "2020-02-28T05:49:55.345440Z"
    },
    "scrolled": true
   },
   "outputs": [
    {
     "ename": "HTTPError",
     "evalue": "HTTP Error 400: Bad Request",
     "output_type": "error",
     "traceback": [
      "\u001b[1;31m---------------------------------------------------------------------------\u001b[0m",
      "\u001b[1;31mHTTPError\u001b[0m                                 Traceback (most recent call last)",
      "\u001b[1;32m<ipython-input-14-51abf703670d>\u001b[0m in \u001b[0;36m<module>\u001b[1;34m\u001b[0m\n\u001b[0;32m      1\u001b[0m \u001b[0murl\u001b[0m\u001b[1;33m=\u001b[0m\u001b[1;34m'https://docs.google.com/spreadsheets/d/1U8CXNTa2k34fLTxMoKjIkFn38qdKc_NJxBNSDOuYjjg/export?gid=0&format=csv'\u001b[0m\u001b[1;33m\u001b[0m\u001b[1;33m\u001b[0m\u001b[0m\n\u001b[1;32m----> 2\u001b[1;33m \u001b[0mdf\u001b[0m\u001b[1;33m=\u001b[0m\u001b[0mpd\u001b[0m\u001b[1;33m.\u001b[0m\u001b[0mread_csv\u001b[0m\u001b[1;33m(\u001b[0m\u001b[0murl\u001b[0m\u001b[1;33m,\u001b[0m\u001b[0mheader\u001b[0m\u001b[1;33m=\u001b[0m\u001b[1;36m0\u001b[0m\u001b[1;33m)\u001b[0m\u001b[1;33m\u001b[0m\u001b[1;33m\u001b[0m\u001b[0m\n\u001b[0m\u001b[0;32m      3\u001b[0m \u001b[0mdf\u001b[0m\u001b[1;33m\u001b[0m\u001b[1;33m\u001b[0m\u001b[0m\n",
      "\u001b[1;32mD:\\Anaconda\\lib\\site-packages\\pandas\\io\\parsers.py\u001b[0m in \u001b[0;36mparser_f\u001b[1;34m(filepath_or_buffer, sep, delimiter, header, names, index_col, usecols, squeeze, prefix, mangle_dupe_cols, dtype, engine, converters, true_values, false_values, skipinitialspace, skiprows, skipfooter, nrows, na_values, keep_default_na, na_filter, verbose, skip_blank_lines, parse_dates, infer_datetime_format, keep_date_col, date_parser, dayfirst, cache_dates, iterator, chunksize, compression, thousands, decimal, lineterminator, quotechar, quoting, doublequote, escapechar, comment, encoding, dialect, error_bad_lines, warn_bad_lines, delim_whitespace, low_memory, memory_map, float_precision)\u001b[0m\n\u001b[0;32m    674\u001b[0m         )\n\u001b[0;32m    675\u001b[0m \u001b[1;33m\u001b[0m\u001b[0m\n\u001b[1;32m--> 676\u001b[1;33m         \u001b[1;32mreturn\u001b[0m \u001b[0m_read\u001b[0m\u001b[1;33m(\u001b[0m\u001b[0mfilepath_or_buffer\u001b[0m\u001b[1;33m,\u001b[0m \u001b[0mkwds\u001b[0m\u001b[1;33m)\u001b[0m\u001b[1;33m\u001b[0m\u001b[1;33m\u001b[0m\u001b[0m\n\u001b[0m\u001b[0;32m    677\u001b[0m \u001b[1;33m\u001b[0m\u001b[0m\n\u001b[0;32m    678\u001b[0m     \u001b[0mparser_f\u001b[0m\u001b[1;33m.\u001b[0m\u001b[0m__name__\u001b[0m \u001b[1;33m=\u001b[0m \u001b[0mname\u001b[0m\u001b[1;33m\u001b[0m\u001b[1;33m\u001b[0m\u001b[0m\n",
      "\u001b[1;32mD:\\Anaconda\\lib\\site-packages\\pandas\\io\\parsers.py\u001b[0m in \u001b[0;36m_read\u001b[1;34m(filepath_or_buffer, kwds)\u001b[0m\n\u001b[0;32m    429\u001b[0m     \u001b[1;31m# See https://github.com/python/mypy/issues/1297\u001b[0m\u001b[1;33m\u001b[0m\u001b[1;33m\u001b[0m\u001b[1;33m\u001b[0m\u001b[0m\n\u001b[0;32m    430\u001b[0m     fp_or_buf, _, compression, should_close = get_filepath_or_buffer(\n\u001b[1;32m--> 431\u001b[1;33m         \u001b[0mfilepath_or_buffer\u001b[0m\u001b[1;33m,\u001b[0m \u001b[0mencoding\u001b[0m\u001b[1;33m,\u001b[0m \u001b[0mcompression\u001b[0m\u001b[1;33m\u001b[0m\u001b[1;33m\u001b[0m\u001b[0m\n\u001b[0m\u001b[0;32m    432\u001b[0m     )\n\u001b[0;32m    433\u001b[0m     \u001b[0mkwds\u001b[0m\u001b[1;33m[\u001b[0m\u001b[1;34m\"compression\"\u001b[0m\u001b[1;33m]\u001b[0m \u001b[1;33m=\u001b[0m \u001b[0mcompression\u001b[0m\u001b[1;33m\u001b[0m\u001b[1;33m\u001b[0m\u001b[0m\n",
      "\u001b[1;32mD:\\Anaconda\\lib\\site-packages\\pandas\\io\\common.py\u001b[0m in \u001b[0;36mget_filepath_or_buffer\u001b[1;34m(filepath_or_buffer, encoding, compression, mode)\u001b[0m\n\u001b[0;32m    170\u001b[0m \u001b[1;33m\u001b[0m\u001b[0m\n\u001b[0;32m    171\u001b[0m     \u001b[1;32mif\u001b[0m \u001b[0misinstance\u001b[0m\u001b[1;33m(\u001b[0m\u001b[0mfilepath_or_buffer\u001b[0m\u001b[1;33m,\u001b[0m \u001b[0mstr\u001b[0m\u001b[1;33m)\u001b[0m \u001b[1;32mand\u001b[0m \u001b[0mis_url\u001b[0m\u001b[1;33m(\u001b[0m\u001b[0mfilepath_or_buffer\u001b[0m\u001b[1;33m)\u001b[0m\u001b[1;33m:\u001b[0m\u001b[1;33m\u001b[0m\u001b[1;33m\u001b[0m\u001b[0m\n\u001b[1;32m--> 172\u001b[1;33m         \u001b[0mreq\u001b[0m \u001b[1;33m=\u001b[0m \u001b[0murlopen\u001b[0m\u001b[1;33m(\u001b[0m\u001b[0mfilepath_or_buffer\u001b[0m\u001b[1;33m)\u001b[0m\u001b[1;33m\u001b[0m\u001b[1;33m\u001b[0m\u001b[0m\n\u001b[0m\u001b[0;32m    173\u001b[0m         \u001b[0mcontent_encoding\u001b[0m \u001b[1;33m=\u001b[0m \u001b[0mreq\u001b[0m\u001b[1;33m.\u001b[0m\u001b[0mheaders\u001b[0m\u001b[1;33m.\u001b[0m\u001b[0mget\u001b[0m\u001b[1;33m(\u001b[0m\u001b[1;34m\"Content-Encoding\"\u001b[0m\u001b[1;33m,\u001b[0m \u001b[1;32mNone\u001b[0m\u001b[1;33m)\u001b[0m\u001b[1;33m\u001b[0m\u001b[1;33m\u001b[0m\u001b[0m\n\u001b[0;32m    174\u001b[0m         \u001b[1;32mif\u001b[0m \u001b[0mcontent_encoding\u001b[0m \u001b[1;33m==\u001b[0m \u001b[1;34m\"gzip\"\u001b[0m\u001b[1;33m:\u001b[0m\u001b[1;33m\u001b[0m\u001b[1;33m\u001b[0m\u001b[0m\n",
      "\u001b[1;32mD:\\Anaconda\\lib\\site-packages\\pandas\\io\\common.py\u001b[0m in \u001b[0;36murlopen\u001b[1;34m(*args, **kwargs)\u001b[0m\n\u001b[0;32m    139\u001b[0m     \u001b[1;32mimport\u001b[0m \u001b[0murllib\u001b[0m\u001b[1;33m.\u001b[0m\u001b[0mrequest\u001b[0m\u001b[1;33m\u001b[0m\u001b[1;33m\u001b[0m\u001b[0m\n\u001b[0;32m    140\u001b[0m \u001b[1;33m\u001b[0m\u001b[0m\n\u001b[1;32m--> 141\u001b[1;33m     \u001b[1;32mreturn\u001b[0m \u001b[0murllib\u001b[0m\u001b[1;33m.\u001b[0m\u001b[0mrequest\u001b[0m\u001b[1;33m.\u001b[0m\u001b[0murlopen\u001b[0m\u001b[1;33m(\u001b[0m\u001b[1;33m*\u001b[0m\u001b[0margs\u001b[0m\u001b[1;33m,\u001b[0m \u001b[1;33m**\u001b[0m\u001b[0mkwargs\u001b[0m\u001b[1;33m)\u001b[0m\u001b[1;33m\u001b[0m\u001b[1;33m\u001b[0m\u001b[0m\n\u001b[0m\u001b[0;32m    142\u001b[0m \u001b[1;33m\u001b[0m\u001b[0m\n\u001b[0;32m    143\u001b[0m \u001b[1;33m\u001b[0m\u001b[0m\n",
      "\u001b[1;32mD:\\Anaconda\\lib\\urllib\\request.py\u001b[0m in \u001b[0;36murlopen\u001b[1;34m(url, data, timeout, cafile, capath, cadefault, context)\u001b[0m\n\u001b[0;32m    221\u001b[0m     \u001b[1;32melse\u001b[0m\u001b[1;33m:\u001b[0m\u001b[1;33m\u001b[0m\u001b[1;33m\u001b[0m\u001b[0m\n\u001b[0;32m    222\u001b[0m         \u001b[0mopener\u001b[0m \u001b[1;33m=\u001b[0m \u001b[0m_opener\u001b[0m\u001b[1;33m\u001b[0m\u001b[1;33m\u001b[0m\u001b[0m\n\u001b[1;32m--> 223\u001b[1;33m     \u001b[1;32mreturn\u001b[0m \u001b[0mopener\u001b[0m\u001b[1;33m.\u001b[0m\u001b[0mopen\u001b[0m\u001b[1;33m(\u001b[0m\u001b[0murl\u001b[0m\u001b[1;33m,\u001b[0m \u001b[0mdata\u001b[0m\u001b[1;33m,\u001b[0m \u001b[0mtimeout\u001b[0m\u001b[1;33m)\u001b[0m\u001b[1;33m\u001b[0m\u001b[1;33m\u001b[0m\u001b[0m\n\u001b[0m\u001b[0;32m    224\u001b[0m \u001b[1;33m\u001b[0m\u001b[0m\n\u001b[0;32m    225\u001b[0m \u001b[1;32mdef\u001b[0m \u001b[0minstall_opener\u001b[0m\u001b[1;33m(\u001b[0m\u001b[0mopener\u001b[0m\u001b[1;33m)\u001b[0m\u001b[1;33m:\u001b[0m\u001b[1;33m\u001b[0m\u001b[1;33m\u001b[0m\u001b[0m\n",
      "\u001b[1;32mD:\\Anaconda\\lib\\urllib\\request.py\u001b[0m in \u001b[0;36mopen\u001b[1;34m(self, fullurl, data, timeout)\u001b[0m\n\u001b[0;32m    530\u001b[0m         \u001b[1;32mfor\u001b[0m \u001b[0mprocessor\u001b[0m \u001b[1;32min\u001b[0m \u001b[0mself\u001b[0m\u001b[1;33m.\u001b[0m\u001b[0mprocess_response\u001b[0m\u001b[1;33m.\u001b[0m\u001b[0mget\u001b[0m\u001b[1;33m(\u001b[0m\u001b[0mprotocol\u001b[0m\u001b[1;33m,\u001b[0m \u001b[1;33m[\u001b[0m\u001b[1;33m]\u001b[0m\u001b[1;33m)\u001b[0m\u001b[1;33m:\u001b[0m\u001b[1;33m\u001b[0m\u001b[1;33m\u001b[0m\u001b[0m\n\u001b[0;32m    531\u001b[0m             \u001b[0mmeth\u001b[0m \u001b[1;33m=\u001b[0m \u001b[0mgetattr\u001b[0m\u001b[1;33m(\u001b[0m\u001b[0mprocessor\u001b[0m\u001b[1;33m,\u001b[0m \u001b[0mmeth_name\u001b[0m\u001b[1;33m)\u001b[0m\u001b[1;33m\u001b[0m\u001b[1;33m\u001b[0m\u001b[0m\n\u001b[1;32m--> 532\u001b[1;33m             \u001b[0mresponse\u001b[0m \u001b[1;33m=\u001b[0m \u001b[0mmeth\u001b[0m\u001b[1;33m(\u001b[0m\u001b[0mreq\u001b[0m\u001b[1;33m,\u001b[0m \u001b[0mresponse\u001b[0m\u001b[1;33m)\u001b[0m\u001b[1;33m\u001b[0m\u001b[1;33m\u001b[0m\u001b[0m\n\u001b[0m\u001b[0;32m    533\u001b[0m \u001b[1;33m\u001b[0m\u001b[0m\n\u001b[0;32m    534\u001b[0m         \u001b[1;32mreturn\u001b[0m \u001b[0mresponse\u001b[0m\u001b[1;33m\u001b[0m\u001b[1;33m\u001b[0m\u001b[0m\n",
      "\u001b[1;32mD:\\Anaconda\\lib\\urllib\\request.py\u001b[0m in \u001b[0;36mhttp_response\u001b[1;34m(self, request, response)\u001b[0m\n\u001b[0;32m    640\u001b[0m         \u001b[1;32mif\u001b[0m \u001b[1;32mnot\u001b[0m \u001b[1;33m(\u001b[0m\u001b[1;36m200\u001b[0m \u001b[1;33m<=\u001b[0m \u001b[0mcode\u001b[0m \u001b[1;33m<\u001b[0m \u001b[1;36m300\u001b[0m\u001b[1;33m)\u001b[0m\u001b[1;33m:\u001b[0m\u001b[1;33m\u001b[0m\u001b[1;33m\u001b[0m\u001b[0m\n\u001b[0;32m    641\u001b[0m             response = self.parent.error(\n\u001b[1;32m--> 642\u001b[1;33m                 'http', request, response, code, msg, hdrs)\n\u001b[0m\u001b[0;32m    643\u001b[0m \u001b[1;33m\u001b[0m\u001b[0m\n\u001b[0;32m    644\u001b[0m         \u001b[1;32mreturn\u001b[0m \u001b[0mresponse\u001b[0m\u001b[1;33m\u001b[0m\u001b[1;33m\u001b[0m\u001b[0m\n",
      "\u001b[1;32mD:\\Anaconda\\lib\\urllib\\request.py\u001b[0m in \u001b[0;36merror\u001b[1;34m(self, proto, *args)\u001b[0m\n\u001b[0;32m    568\u001b[0m         \u001b[1;32mif\u001b[0m \u001b[0mhttp_err\u001b[0m\u001b[1;33m:\u001b[0m\u001b[1;33m\u001b[0m\u001b[1;33m\u001b[0m\u001b[0m\n\u001b[0;32m    569\u001b[0m             \u001b[0margs\u001b[0m \u001b[1;33m=\u001b[0m \u001b[1;33m(\u001b[0m\u001b[0mdict\u001b[0m\u001b[1;33m,\u001b[0m \u001b[1;34m'default'\u001b[0m\u001b[1;33m,\u001b[0m \u001b[1;34m'http_error_default'\u001b[0m\u001b[1;33m)\u001b[0m \u001b[1;33m+\u001b[0m \u001b[0morig_args\u001b[0m\u001b[1;33m\u001b[0m\u001b[1;33m\u001b[0m\u001b[0m\n\u001b[1;32m--> 570\u001b[1;33m             \u001b[1;32mreturn\u001b[0m \u001b[0mself\u001b[0m\u001b[1;33m.\u001b[0m\u001b[0m_call_chain\u001b[0m\u001b[1;33m(\u001b[0m\u001b[1;33m*\u001b[0m\u001b[0margs\u001b[0m\u001b[1;33m)\u001b[0m\u001b[1;33m\u001b[0m\u001b[1;33m\u001b[0m\u001b[0m\n\u001b[0m\u001b[0;32m    571\u001b[0m \u001b[1;33m\u001b[0m\u001b[0m\n\u001b[0;32m    572\u001b[0m \u001b[1;31m# XXX probably also want an abstract factory that knows when it makes\u001b[0m\u001b[1;33m\u001b[0m\u001b[1;33m\u001b[0m\u001b[1;33m\u001b[0m\u001b[0m\n",
      "\u001b[1;32mD:\\Anaconda\\lib\\urllib\\request.py\u001b[0m in \u001b[0;36m_call_chain\u001b[1;34m(self, chain, kind, meth_name, *args)\u001b[0m\n\u001b[0;32m    502\u001b[0m         \u001b[1;32mfor\u001b[0m \u001b[0mhandler\u001b[0m \u001b[1;32min\u001b[0m \u001b[0mhandlers\u001b[0m\u001b[1;33m:\u001b[0m\u001b[1;33m\u001b[0m\u001b[1;33m\u001b[0m\u001b[0m\n\u001b[0;32m    503\u001b[0m             \u001b[0mfunc\u001b[0m \u001b[1;33m=\u001b[0m \u001b[0mgetattr\u001b[0m\u001b[1;33m(\u001b[0m\u001b[0mhandler\u001b[0m\u001b[1;33m,\u001b[0m \u001b[0mmeth_name\u001b[0m\u001b[1;33m)\u001b[0m\u001b[1;33m\u001b[0m\u001b[1;33m\u001b[0m\u001b[0m\n\u001b[1;32m--> 504\u001b[1;33m             \u001b[0mresult\u001b[0m \u001b[1;33m=\u001b[0m \u001b[0mfunc\u001b[0m\u001b[1;33m(\u001b[0m\u001b[1;33m*\u001b[0m\u001b[0margs\u001b[0m\u001b[1;33m)\u001b[0m\u001b[1;33m\u001b[0m\u001b[1;33m\u001b[0m\u001b[0m\n\u001b[0m\u001b[0;32m    505\u001b[0m             \u001b[1;32mif\u001b[0m \u001b[0mresult\u001b[0m \u001b[1;32mis\u001b[0m \u001b[1;32mnot\u001b[0m \u001b[1;32mNone\u001b[0m\u001b[1;33m:\u001b[0m\u001b[1;33m\u001b[0m\u001b[1;33m\u001b[0m\u001b[0m\n\u001b[0;32m    506\u001b[0m                 \u001b[1;32mreturn\u001b[0m \u001b[0mresult\u001b[0m\u001b[1;33m\u001b[0m\u001b[1;33m\u001b[0m\u001b[0m\n",
      "\u001b[1;32mD:\\Anaconda\\lib\\urllib\\request.py\u001b[0m in \u001b[0;36mhttp_error_default\u001b[1;34m(self, req, fp, code, msg, hdrs)\u001b[0m\n\u001b[0;32m    648\u001b[0m \u001b[1;32mclass\u001b[0m \u001b[0mHTTPDefaultErrorHandler\u001b[0m\u001b[1;33m(\u001b[0m\u001b[0mBaseHandler\u001b[0m\u001b[1;33m)\u001b[0m\u001b[1;33m:\u001b[0m\u001b[1;33m\u001b[0m\u001b[1;33m\u001b[0m\u001b[0m\n\u001b[0;32m    649\u001b[0m     \u001b[1;32mdef\u001b[0m \u001b[0mhttp_error_default\u001b[0m\u001b[1;33m(\u001b[0m\u001b[0mself\u001b[0m\u001b[1;33m,\u001b[0m \u001b[0mreq\u001b[0m\u001b[1;33m,\u001b[0m \u001b[0mfp\u001b[0m\u001b[1;33m,\u001b[0m \u001b[0mcode\u001b[0m\u001b[1;33m,\u001b[0m \u001b[0mmsg\u001b[0m\u001b[1;33m,\u001b[0m \u001b[0mhdrs\u001b[0m\u001b[1;33m)\u001b[0m\u001b[1;33m:\u001b[0m\u001b[1;33m\u001b[0m\u001b[1;33m\u001b[0m\u001b[0m\n\u001b[1;32m--> 650\u001b[1;33m         \u001b[1;32mraise\u001b[0m \u001b[0mHTTPError\u001b[0m\u001b[1;33m(\u001b[0m\u001b[0mreq\u001b[0m\u001b[1;33m.\u001b[0m\u001b[0mfull_url\u001b[0m\u001b[1;33m,\u001b[0m \u001b[0mcode\u001b[0m\u001b[1;33m,\u001b[0m \u001b[0mmsg\u001b[0m\u001b[1;33m,\u001b[0m \u001b[0mhdrs\u001b[0m\u001b[1;33m,\u001b[0m \u001b[0mfp\u001b[0m\u001b[1;33m)\u001b[0m\u001b[1;33m\u001b[0m\u001b[1;33m\u001b[0m\u001b[0m\n\u001b[0m\u001b[0;32m    651\u001b[0m \u001b[1;33m\u001b[0m\u001b[0m\n\u001b[0;32m    652\u001b[0m \u001b[1;32mclass\u001b[0m \u001b[0mHTTPRedirectHandler\u001b[0m\u001b[1;33m(\u001b[0m\u001b[0mBaseHandler\u001b[0m\u001b[1;33m)\u001b[0m\u001b[1;33m:\u001b[0m\u001b[1;33m\u001b[0m\u001b[1;33m\u001b[0m\u001b[0m\n",
      "\u001b[1;31mHTTPError\u001b[0m: HTTP Error 400: Bad Request"
     ]
    }
   ],
   "source": [
    "url='https://docs.google.com/spreadsheets/d/1U8CXNTa2k34fLTxMoKjIkFn38qdKc_NJxBNSDOuYjjg/export?gid=0&format=csv'\n",
    "df=pd.read_csv(url,header=0)\n",
    "df"
   ]
  },
  {
   "cell_type": "code",
   "execution_count": null,
   "metadata": {},
   "outputs": [],
   "source": [
    "https://docs.google.com/spreadsheets/d/1U8CXNTa2k34fLTxMoKjIkFn38qdKc_NJxBNSDOuYjjg/edit?usp=sharing\n",
    "https://docs.google.com/spreadsheets/d/1U8CXNTa2k34fLTxMoKjIkFn38qdKc_NJxBNSDOuYjjg/edit?usp=sharing\n",
    "    \n",
    "https://docs.google.com/spreadsheets/d/1dDgSxN2E2cVoLuOfyauDAuMlvx8nR6rWuBsFhcFFpSs/edit?usp=sharing"
   ]
  }
 ],
 "metadata": {
  "kernelspec": {
   "display_name": "Python 3",
   "language": "python",
   "name": "python3"
  },
  "language_info": {
   "codemirror_mode": {
    "name": "ipython",
    "version": 3
   },
   "file_extension": ".py",
   "mimetype": "text/x-python",
   "name": "python",
   "nbconvert_exporter": "python",
   "pygments_lexer": "ipython3",
   "version": "3.6.10"
  },
  "toc": {
   "base_numbering": 1,
   "nav_menu": {},
   "number_sections": false,
   "sideBar": true,
   "skip_h1_title": false,
   "title_cell": "Table of Contents",
   "title_sidebar": "Contents",
   "toc_cell": false,
   "toc_position": {},
   "toc_section_display": true,
   "toc_window_display": true
  },
  "varInspector": {
   "cols": {
    "lenName": 16,
    "lenType": 16,
    "lenVar": 40
   },
   "kernels_config": {
    "python": {
     "delete_cmd_postfix": "",
     "delete_cmd_prefix": "del ",
     "library": "var_list.py",
     "varRefreshCmd": "print(var_dic_list())"
    },
    "r": {
     "delete_cmd_postfix": ") ",
     "delete_cmd_prefix": "rm(",
     "library": "var_list.r",
     "varRefreshCmd": "cat(var_dic_list()) "
    }
   },
   "types_to_exclude": [
    "module",
    "function",
    "builtin_function_or_method",
    "instance",
    "_Feature"
   ],
   "window_display": false
  }
 },
 "nbformat": 4,
 "nbformat_minor": 4
}
