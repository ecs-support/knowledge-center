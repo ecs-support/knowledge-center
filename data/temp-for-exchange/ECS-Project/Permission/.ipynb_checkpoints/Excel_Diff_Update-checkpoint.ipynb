{
 "cells": [
  {
   "cell_type": "markdown",
   "metadata": {},
   "source": [
    "### Updated: Using Pandas to Create and Excel Diff\n",
    "\n",
    "The [original article](http://pbpython.com/excel-diff-pandas.html) contains some Updating the Excel diff article to work with more recent versions of pandas that no longer use panel.\n",
    "\n",
    "The new article can be read [here](http://pbpython.com/excel-diff-pandas-update.html)"
   ]
  },
  {
   "cell_type": "code",
   "execution_count": 36,
   "metadata": {
    "ExecuteTime": {
     "end_time": "2020-02-12T08:12:55.425712Z",
     "start_time": "2020-02-12T08:12:55.422714Z"
    }
   },
   "outputs": [],
   "source": [
    "import pandas as pd"
   ]
  },
  {
   "cell_type": "code",
   "execution_count": 37,
   "metadata": {
    "ExecuteTime": {
     "end_time": "2020-02-12T08:12:55.911414Z",
     "start_time": "2020-02-12T08:12:55.908415Z"
    }
   },
   "outputs": [],
   "source": [
    "# Define the diff function to show the changes in each field\n",
    "def report_diff(x):\n",
    "    return x[0] if x[0] == x[1] else '{} ---> {}'.format(*x)"
   ]
  },
  {
   "cell_type": "code",
   "execution_count": 38,
   "metadata": {
    "ExecuteTime": {
     "end_time": "2020-02-12T08:13:01.261062Z",
     "start_time": "2020-02-12T08:12:56.590936Z"
    }
   },
   "outputs": [],
   "source": [
    "# Read in the two files but call the data old and new and create columns to track\n",
    "col = ['หน่วยงาน',  'พิกัดศุลกากร', 'รหัสสถิติ', 'ประเภท','tax', 'Validate Indicator(2A)', 'Country Code(2A)', 'Quantity(14NDE3)', 'Quantity Unit(3A)', 'คำอธิบายภาษาไทย',\n",
    "       'คำอธิบายภาษาอังกฤษ', 'Condition(512A)', 'Announce Number(10A)', 'Announce Date(8N)', 'วันที่เริ่มต้น', 'Expire Date(8N)', 'ID']\n",
    "old = pd.read_excel('data/Permission_old.xlsx', 'Sheet1', na_values=['NA'],dtype = { 'Tariff Statistical Code (3N)' : object,\n",
    "                                                                                    'Tariff Classification(12 N)':object})\n",
    "new = pd.read_excel('data/Permission_new.xlsx', 'Sheet1', na_values=['NA'],dtype = { 'Tariff Statistical Code (3N)' : object,\n",
    "                                                                                   'Tariff Classification(12 N)':object})\n",
    "old.columns = col\n",
    "new.columns = col\n",
    "old['version'] = \"old\"\n",
    "new['version'] = \"new\"     \n",
    "new[\"ประเภท\"]= new[\"ประเภท\"].replace( [0,1,2,3] , ['นำเข้า','ส่งออก','ผ่านแดน','นำเข้าและส่งออก']) \n",
    "old[\"ประเภท\"]= old[\"ประเภท\"].replace( [0,1,2,3] , ['นำเข้า','ส่งออก','ผ่านแดน','นำเข้าและส่งออก']) \n"
   ]
  },
  {
   "cell_type": "markdown",
   "metadata": {
    "ExecuteTime": {
     "end_time": "2019-12-03T02:33:43.301558Z",
     "start_time": "2019-12-03T02:33:40.817088Z"
    }
   },
   "source": [
    "old = pd.read_excel('data/Permission_old.xlsx', 'Sheet1')\n",
    "old.head()"
   ]
  },
  {
   "cell_type": "code",
   "execution_count": 39,
   "metadata": {
    "ExecuteTime": {
     "end_time": "2020-02-12T08:13:01.740768Z",
     "start_time": "2020-02-12T08:13:01.716783Z"
    }
   },
   "outputs": [
    {
     "data": {
      "text/html": [
       "<div>\n",
       "<style scoped>\n",
       "    .dataframe tbody tr th:only-of-type {\n",
       "        vertical-align: middle;\n",
       "    }\n",
       "\n",
       "    .dataframe tbody tr th {\n",
       "        vertical-align: top;\n",
       "    }\n",
       "\n",
       "    .dataframe thead th {\n",
       "        text-align: right;\n",
       "    }\n",
       "</style>\n",
       "<table border=\"1\" class=\"dataframe\">\n",
       "  <thead>\n",
       "    <tr style=\"text-align: right;\">\n",
       "      <th></th>\n",
       "      <th>หน่วยงาน</th>\n",
       "      <th>พิกัดศุลกากร</th>\n",
       "      <th>รหัสสถิติ</th>\n",
       "      <th>ประเภท</th>\n",
       "      <th>tax</th>\n",
       "      <th>Validate Indicator(2A)</th>\n",
       "      <th>Country Code(2A)</th>\n",
       "      <th>Quantity(14NDE3)</th>\n",
       "      <th>Quantity Unit(3A)</th>\n",
       "      <th>คำอธิบายภาษาไทย</th>\n",
       "      <th>คำอธิบายภาษาอังกฤษ</th>\n",
       "      <th>Condition(512A)</th>\n",
       "      <th>Announce Number(10A)</th>\n",
       "      <th>Announce Date(8N)</th>\n",
       "      <th>วันที่เริ่มต้น</th>\n",
       "      <th>Expire Date(8N)</th>\n",
       "      <th>ID</th>\n",
       "      <th>version</th>\n",
       "    </tr>\n",
       "  </thead>\n",
       "  <tbody>\n",
       "    <tr>\n",
       "      <th>0</th>\n",
       "      <td>กรมการอุตสาหกรรมทหาร</td>\n",
       "      <td>28011000</td>\n",
       "      <td>000</td>\n",
       "      <td>นำเข้า</td>\n",
       "      <td>9.940000e+11</td>\n",
       "      <td>Y</td>\n",
       "      <td>NaN</td>\n",
       "      <td>0.0</td>\n",
       "      <td>KGM</td>\n",
       "      <td>NaN</td>\n",
       "      <td>CHLORINE</td>\n",
       "      <td>NaN</td>\n",
       "      <td>NaN</td>\n",
       "      <td>20130401.0</td>\n",
       "      <td>20130501.0</td>\n",
       "      <td>99999999.0</td>\n",
       "      <td>2801100000000994000011679</td>\n",
       "      <td>new</td>\n",
       "    </tr>\n",
       "    <tr>\n",
       "      <th>1</th>\n",
       "      <td>กรมการอุตสาหกรรมทหาร</td>\n",
       "      <td>28013000</td>\n",
       "      <td>002</td>\n",
       "      <td>นำเข้าและส่งออก</td>\n",
       "      <td>9.940000e+11</td>\n",
       "      <td>Y</td>\n",
       "      <td>NaN</td>\n",
       "      <td>0.0</td>\n",
       "      <td>KGM</td>\n",
       "      <td>โบรมีน</td>\n",
       "      <td>BROMINE</td>\n",
       "      <td>NaN</td>\n",
       "      <td>NaN</td>\n",
       "      <td>20130401.0</td>\n",
       "      <td>20130501.0</td>\n",
       "      <td>99999999.0</td>\n",
       "      <td>2801300000230994000011679</td>\n",
       "      <td>new</td>\n",
       "    </tr>\n",
       "    <tr>\n",
       "      <th>2</th>\n",
       "      <td>กรมการอุตสาหกรรมทหาร</td>\n",
       "      <td>28047000</td>\n",
       "      <td>000</td>\n",
       "      <td>นำเข้าและส่งออก</td>\n",
       "      <td>9.940000e+11</td>\n",
       "      <td>Y</td>\n",
       "      <td>NaN</td>\n",
       "      <td>0.0</td>\n",
       "      <td>NaN</td>\n",
       "      <td>ฟอสฟอรัส</td>\n",
       "      <td>Phosphorus</td>\n",
       "      <td>NaN</td>\n",
       "      <td>NaN</td>\n",
       "      <td>0.0</td>\n",
       "      <td>20141101.0</td>\n",
       "      <td>99999999.0</td>\n",
       "      <td>2804700000030994000011679</td>\n",
       "      <td>new</td>\n",
       "    </tr>\n",
       "    <tr>\n",
       "      <th>3</th>\n",
       "      <td>กรมการอุตสาหกรรมทหาร</td>\n",
       "      <td>28062000</td>\n",
       "      <td>001</td>\n",
       "      <td>นำเข้าและส่งออก</td>\n",
       "      <td>9.940000e+11</td>\n",
       "      <td>Y</td>\n",
       "      <td>NaN</td>\n",
       "      <td>0.0</td>\n",
       "      <td>KGM</td>\n",
       "      <td>NaN</td>\n",
       "      <td>CHLOROSULPHONIC ACID</td>\n",
       "      <td>NaN</td>\n",
       "      <td>NaN</td>\n",
       "      <td>20130401.0</td>\n",
       "      <td>20130501.0</td>\n",
       "      <td>99999999.0</td>\n",
       "      <td>2806200000130994000011679</td>\n",
       "      <td>new</td>\n",
       "    </tr>\n",
       "    <tr>\n",
       "      <th>4</th>\n",
       "      <td>กรมการอุตสาหกรรมทหาร</td>\n",
       "      <td>28111100</td>\n",
       "      <td>201</td>\n",
       "      <td>นำเข้าและส่งออก</td>\n",
       "      <td>9.940000e+11</td>\n",
       "      <td>Y</td>\n",
       "      <td>NaN</td>\n",
       "      <td>0.0</td>\n",
       "      <td>KGM</td>\n",
       "      <td>NaN</td>\n",
       "      <td>HYDROGEN FLUOURIDE (GAS)</td>\n",
       "      <td>NaN</td>\n",
       "      <td>NaN</td>\n",
       "      <td>20130401.0</td>\n",
       "      <td>20130501.0</td>\n",
       "      <td>99999999.0</td>\n",
       "      <td>2811110020130994000011679</td>\n",
       "      <td>new</td>\n",
       "    </tr>\n",
       "  </tbody>\n",
       "</table>\n",
       "</div>"
      ],
      "text/plain": [
       "               หน่วยงาน พิกัดศุลกากร รหัสสถิติ           ประเภท           tax  \\\n",
       "0  กรมการอุตสาหกรรมทหาร     28011000       000           นำเข้า  9.940000e+11   \n",
       "1  กรมการอุตสาหกรรมทหาร     28013000       002  นำเข้าและส่งออก  9.940000e+11   \n",
       "2  กรมการอุตสาหกรรมทหาร     28047000       000  นำเข้าและส่งออก  9.940000e+11   \n",
       "3  กรมการอุตสาหกรรมทหาร     28062000       001  นำเข้าและส่งออก  9.940000e+11   \n",
       "4  กรมการอุตสาหกรรมทหาร     28111100       201  นำเข้าและส่งออก  9.940000e+11   \n",
       "\n",
       "  Validate Indicator(2A) Country Code(2A)  Quantity(14NDE3) Quantity Unit(3A)  \\\n",
       "0                      Y              NaN               0.0               KGM   \n",
       "1                      Y              NaN               0.0               KGM   \n",
       "2                      Y              NaN               0.0               NaN   \n",
       "3                      Y              NaN               0.0               KGM   \n",
       "4                      Y              NaN               0.0               KGM   \n",
       "\n",
       "  คำอธิบายภาษาไทย        คำอธิบายภาษาอังกฤษ Condition(512A)  \\\n",
       "0             NaN                  CHLORINE             NaN   \n",
       "1          โบรมีน                   BROMINE             NaN   \n",
       "2        ฟอสฟอรัส                Phosphorus             NaN   \n",
       "3             NaN      CHLOROSULPHONIC ACID             NaN   \n",
       "4             NaN  HYDROGEN FLUOURIDE (GAS)             NaN   \n",
       "\n",
       "  Announce Number(10A)  Announce Date(8N)  วันที่เริ่มต้น  Expire Date(8N)  \\\n",
       "0                  NaN         20130401.0      20130501.0       99999999.0   \n",
       "1                  NaN         20130401.0      20130501.0       99999999.0   \n",
       "2                  NaN                0.0      20141101.0       99999999.0   \n",
       "3                  NaN         20130401.0      20130501.0       99999999.0   \n",
       "4                  NaN         20130401.0      20130501.0       99999999.0   \n",
       "\n",
       "                          ID version  \n",
       "0  2801100000000994000011679     new  \n",
       "1  2801300000230994000011679     new  \n",
       "2  2804700000030994000011679     new  \n",
       "3  2806200000130994000011679     new  \n",
       "4  2811110020130994000011679     new  "
      ]
     },
     "execution_count": 39,
     "metadata": {},
     "output_type": "execute_result"
    }
   ],
   "source": [
    "new.head()"
   ]
  },
  {
   "cell_type": "code",
   "execution_count": 40,
   "metadata": {
    "ExecuteTime": {
     "end_time": "2020-02-12T08:13:02.205482Z",
     "start_time": "2020-02-12T08:13:02.176500Z"
    }
   },
   "outputs": [
    {
     "data": {
      "text/html": [
       "<div>\n",
       "<style scoped>\n",
       "    .dataframe tbody tr th:only-of-type {\n",
       "        vertical-align: middle;\n",
       "    }\n",
       "\n",
       "    .dataframe tbody tr th {\n",
       "        vertical-align: top;\n",
       "    }\n",
       "\n",
       "    .dataframe thead th {\n",
       "        text-align: right;\n",
       "    }\n",
       "</style>\n",
       "<table border=\"1\" class=\"dataframe\">\n",
       "  <thead>\n",
       "    <tr style=\"text-align: right;\">\n",
       "      <th></th>\n",
       "      <th>หน่วยงาน</th>\n",
       "      <th>พิกัดศุลกากร</th>\n",
       "      <th>รหัสสถิติ</th>\n",
       "      <th>ประเภท</th>\n",
       "      <th>tax</th>\n",
       "      <th>Validate Indicator(2A)</th>\n",
       "      <th>Country Code(2A)</th>\n",
       "      <th>Quantity(14NDE3)</th>\n",
       "      <th>Quantity Unit(3A)</th>\n",
       "      <th>คำอธิบายภาษาไทย</th>\n",
       "      <th>คำอธิบายภาษาอังกฤษ</th>\n",
       "      <th>Condition(512A)</th>\n",
       "      <th>Announce Number(10A)</th>\n",
       "      <th>Announce Date(8N)</th>\n",
       "      <th>วันที่เริ่มต้น</th>\n",
       "      <th>Expire Date(8N)</th>\n",
       "      <th>ID</th>\n",
       "      <th>version</th>\n",
       "    </tr>\n",
       "  </thead>\n",
       "  <tbody>\n",
       "    <tr>\n",
       "      <th>0</th>\n",
       "      <td>กรมการอุตสาหกรรมทหาร</td>\n",
       "      <td>28011000</td>\n",
       "      <td>000</td>\n",
       "      <td>นำเข้า</td>\n",
       "      <td>9.940000e+11</td>\n",
       "      <td>Y</td>\n",
       "      <td>NaN</td>\n",
       "      <td>0.0</td>\n",
       "      <td>KGM</td>\n",
       "      <td>NaN</td>\n",
       "      <td>CHLORINE</td>\n",
       "      <td>NaN</td>\n",
       "      <td>NaN</td>\n",
       "      <td>20130401.0</td>\n",
       "      <td>20130501.0</td>\n",
       "      <td>99999999.0</td>\n",
       "      <td>2801100000000994000011679</td>\n",
       "      <td>old</td>\n",
       "    </tr>\n",
       "    <tr>\n",
       "      <th>1</th>\n",
       "      <td>กรมการอุตสาหกรรมทหาร</td>\n",
       "      <td>28013000</td>\n",
       "      <td>002</td>\n",
       "      <td>นำเข้าและส่งออก</td>\n",
       "      <td>9.940000e+11</td>\n",
       "      <td>Y</td>\n",
       "      <td>NaN</td>\n",
       "      <td>0.0</td>\n",
       "      <td>KGM</td>\n",
       "      <td>โบรมีน</td>\n",
       "      <td>BROMINE</td>\n",
       "      <td>NaN</td>\n",
       "      <td>NaN</td>\n",
       "      <td>20130401.0</td>\n",
       "      <td>20130501.0</td>\n",
       "      <td>99999999.0</td>\n",
       "      <td>2801300000230994000011679</td>\n",
       "      <td>old</td>\n",
       "    </tr>\n",
       "    <tr>\n",
       "      <th>2</th>\n",
       "      <td>กรมการอุตสาหกรรมทหาร</td>\n",
       "      <td>28047000</td>\n",
       "      <td>000</td>\n",
       "      <td>นำเข้าและส่งออก</td>\n",
       "      <td>9.940000e+11</td>\n",
       "      <td>Y</td>\n",
       "      <td>NaN</td>\n",
       "      <td>0.0</td>\n",
       "      <td>NaN</td>\n",
       "      <td>ฟอสฟอรัส</td>\n",
       "      <td>Phosphorus</td>\n",
       "      <td>NaN</td>\n",
       "      <td>NaN</td>\n",
       "      <td>0.0</td>\n",
       "      <td>20141101.0</td>\n",
       "      <td>99999999.0</td>\n",
       "      <td>2804700000030994000011679</td>\n",
       "      <td>old</td>\n",
       "    </tr>\n",
       "    <tr>\n",
       "      <th>3</th>\n",
       "      <td>กรมการอุตสาหกรรมทหาร</td>\n",
       "      <td>28062000</td>\n",
       "      <td>001</td>\n",
       "      <td>นำเข้าและส่งออก</td>\n",
       "      <td>9.940000e+11</td>\n",
       "      <td>Y</td>\n",
       "      <td>NaN</td>\n",
       "      <td>0.0</td>\n",
       "      <td>KGM</td>\n",
       "      <td>NaN</td>\n",
       "      <td>CHLOROSULPHONIC ACID</td>\n",
       "      <td>NaN</td>\n",
       "      <td>NaN</td>\n",
       "      <td>20130401.0</td>\n",
       "      <td>20130501.0</td>\n",
       "      <td>99999999.0</td>\n",
       "      <td>2806200000130994000011679</td>\n",
       "      <td>old</td>\n",
       "    </tr>\n",
       "    <tr>\n",
       "      <th>4</th>\n",
       "      <td>กรมการอุตสาหกรรมทหาร</td>\n",
       "      <td>28111100</td>\n",
       "      <td>201</td>\n",
       "      <td>นำเข้าและส่งออก</td>\n",
       "      <td>9.940000e+11</td>\n",
       "      <td>Y</td>\n",
       "      <td>NaN</td>\n",
       "      <td>0.0</td>\n",
       "      <td>KGM</td>\n",
       "      <td>NaN</td>\n",
       "      <td>HYDROGEN FLUOURIDE (GAS)</td>\n",
       "      <td>NaN</td>\n",
       "      <td>NaN</td>\n",
       "      <td>20130401.0</td>\n",
       "      <td>20130501.0</td>\n",
       "      <td>99999999.0</td>\n",
       "      <td>2811110020130994000011679</td>\n",
       "      <td>old</td>\n",
       "    </tr>\n",
       "  </tbody>\n",
       "</table>\n",
       "</div>"
      ],
      "text/plain": [
       "               หน่วยงาน พิกัดศุลกากร รหัสสถิติ           ประเภท           tax  \\\n",
       "0  กรมการอุตสาหกรรมทหาร     28011000       000           นำเข้า  9.940000e+11   \n",
       "1  กรมการอุตสาหกรรมทหาร     28013000       002  นำเข้าและส่งออก  9.940000e+11   \n",
       "2  กรมการอุตสาหกรรมทหาร     28047000       000  นำเข้าและส่งออก  9.940000e+11   \n",
       "3  กรมการอุตสาหกรรมทหาร     28062000       001  นำเข้าและส่งออก  9.940000e+11   \n",
       "4  กรมการอุตสาหกรรมทหาร     28111100       201  นำเข้าและส่งออก  9.940000e+11   \n",
       "\n",
       "  Validate Indicator(2A) Country Code(2A)  Quantity(14NDE3) Quantity Unit(3A)  \\\n",
       "0                      Y              NaN               0.0               KGM   \n",
       "1                      Y              NaN               0.0               KGM   \n",
       "2                      Y              NaN               0.0               NaN   \n",
       "3                      Y              NaN               0.0               KGM   \n",
       "4                      Y              NaN               0.0               KGM   \n",
       "\n",
       "  คำอธิบายภาษาไทย        คำอธิบายภาษาอังกฤษ Condition(512A)  \\\n",
       "0             NaN                  CHLORINE             NaN   \n",
       "1          โบรมีน                   BROMINE             NaN   \n",
       "2        ฟอสฟอรัส                Phosphorus             NaN   \n",
       "3             NaN      CHLOROSULPHONIC ACID             NaN   \n",
       "4             NaN  HYDROGEN FLUOURIDE (GAS)             NaN   \n",
       "\n",
       "  Announce Number(10A)  Announce Date(8N)  วันที่เริ่มต้น  Expire Date(8N)  \\\n",
       "0                  NaN         20130401.0      20130501.0       99999999.0   \n",
       "1                  NaN         20130401.0      20130501.0       99999999.0   \n",
       "2                  NaN                0.0      20141101.0       99999999.0   \n",
       "3                  NaN         20130401.0      20130501.0       99999999.0   \n",
       "4                  NaN         20130401.0      20130501.0       99999999.0   \n",
       "\n",
       "                          ID version  \n",
       "0  2801100000000994000011679     old  \n",
       "1  2801300000230994000011679     old  \n",
       "2  2804700000030994000011679     old  \n",
       "3  2806200000130994000011679     old  \n",
       "4  2811110020130994000011679     old  "
      ]
     },
     "execution_count": 40,
     "metadata": {},
     "output_type": "execute_result"
    }
   ],
   "source": [
    "old.head()"
   ]
  },
  {
   "cell_type": "code",
   "execution_count": 41,
   "metadata": {
    "ExecuteTime": {
     "end_time": "2020-02-12T08:13:02.662202Z",
     "start_time": "2020-02-12T08:13:02.656205Z"
    }
   },
   "outputs": [
    {
     "data": {
      "text/plain": [
       "Index(['หน่วยงาน', 'พิกัดศุลกากร', 'รหัสสถิติ', 'ประเภท', 'tax',\n",
       "       'Validate Indicator(2A)', 'Country Code(2A)', 'Quantity(14NDE3)',\n",
       "       'Quantity Unit(3A)', 'คำอธิบายภาษาไทย', 'คำอธิบายภาษาอังกฤษ',\n",
       "       'Condition(512A)', 'Announce Number(10A)', 'Announce Date(8N)',\n",
       "       'วันที่เริ่มต้น', 'Expire Date(8N)', 'ID', 'version'],\n",
       "      dtype='object')"
      ]
     },
     "execution_count": 41,
     "metadata": {},
     "output_type": "execute_result"
    }
   ],
   "source": [
    "new.columns"
   ]
  },
  {
   "cell_type": "code",
   "execution_count": 42,
   "metadata": {
    "ExecuteTime": {
     "end_time": "2020-02-12T08:13:03.103929Z",
     "start_time": "2020-02-12T08:13:03.079945Z"
    }
   },
   "outputs": [
    {
     "name": "stdout",
     "output_type": "stream",
     "text": [
      "<class 'pandas.core.frame.DataFrame'>\n",
      "RangeIndex: 11060 entries, 0 to 11059\n",
      "Data columns (total 18 columns):\n",
      " #   Column                  Non-Null Count  Dtype  \n",
      "---  ------                  --------------  -----  \n",
      " 0   หน่วยงาน                11057 non-null  object \n",
      " 1   พิกัดศุลกากร            11057 non-null  object \n",
      " 2   รหัสสถิติ               11057 non-null  object \n",
      " 3   ประเภท                  11057 non-null  object \n",
      " 4   tax                     11057 non-null  float64\n",
      " 5   Validate Indicator(2A)  11057 non-null  object \n",
      " 6   Country Code(2A)        1 non-null      object \n",
      " 7   Quantity(14NDE3)        11057 non-null  float64\n",
      " 8   Quantity Unit(3A)       1925 non-null   object \n",
      " 9   คำอธิบายภาษาไทย         10995 non-null  object \n",
      " 10  คำอธิบายภาษาอังกฤษ      10998 non-null  object \n",
      " 11  Condition(512A)         887 non-null    object \n",
      " 12  Announce Number(10A)    743 non-null    object \n",
      " 13  Announce Date(8N)       11057 non-null  float64\n",
      " 14  วันที่เริ่มต้น          11057 non-null  float64\n",
      " 15  Expire Date(8N)         11057 non-null  float64\n",
      " 16  ID                      11057 non-null  object \n",
      " 17  version                 11060 non-null  object \n",
      "dtypes: float64(5), object(13)\n",
      "memory usage: 1.5+ MB\n"
     ]
    }
   ],
   "source": [
    "new.info()"
   ]
  },
  {
   "cell_type": "code",
   "execution_count": 43,
   "metadata": {
    "ExecuteTime": {
     "end_time": "2020-02-12T08:13:03.556651Z",
     "start_time": "2020-02-12T08:13:03.544659Z"
    }
   },
   "outputs": [],
   "source": [
    "# We use the account numbers as the keys to check what is added, dropped and potentially changed\n",
    "# Using sets makes the deduping easy and we can use set operations to figure out groupings\n",
    "old_accts_all = set(old['ID'])\n",
    "new_accts_all = set(new['ID'])\n",
    "\n",
    "dropped_accts = old_accts_all - new_accts_all\n",
    "added_accts = new_accts_all - old_accts_all"
   ]
  },
  {
   "cell_type": "code",
   "execution_count": 44,
   "metadata": {
    "ExecuteTime": {
     "end_time": "2020-02-12T08:13:03.993386Z",
     "start_time": "2020-02-12T08:13:03.972396Z"
    }
   },
   "outputs": [],
   "source": [
    "#Join all the data together and ignore indexes so it all gets concatenated\n",
    "all_data = pd.concat([old,new],ignore_index=True)"
   ]
  },
  {
   "cell_type": "code",
   "execution_count": 45,
   "metadata": {
    "ExecuteTime": {
     "end_time": "2020-02-12T08:13:04.887523Z",
     "start_time": "2020-02-12T08:13:04.864538Z"
    }
   },
   "outputs": [
    {
     "data": {
      "text/html": [
       "<div>\n",
       "<style scoped>\n",
       "    .dataframe tbody tr th:only-of-type {\n",
       "        vertical-align: middle;\n",
       "    }\n",
       "\n",
       "    .dataframe tbody tr th {\n",
       "        vertical-align: top;\n",
       "    }\n",
       "\n",
       "    .dataframe thead th {\n",
       "        text-align: right;\n",
       "    }\n",
       "</style>\n",
       "<table border=\"1\" class=\"dataframe\">\n",
       "  <thead>\n",
       "    <tr style=\"text-align: right;\">\n",
       "      <th></th>\n",
       "      <th>หน่วยงาน</th>\n",
       "      <th>พิกัดศุลกากร</th>\n",
       "      <th>รหัสสถิติ</th>\n",
       "      <th>ประเภท</th>\n",
       "      <th>tax</th>\n",
       "      <th>Validate Indicator(2A)</th>\n",
       "      <th>Country Code(2A)</th>\n",
       "      <th>Quantity(14NDE3)</th>\n",
       "      <th>Quantity Unit(3A)</th>\n",
       "      <th>คำอธิบายภาษาไทย</th>\n",
       "      <th>คำอธิบายภาษาอังกฤษ</th>\n",
       "      <th>Condition(512A)</th>\n",
       "      <th>Announce Number(10A)</th>\n",
       "      <th>Announce Date(8N)</th>\n",
       "      <th>วันที่เริ่มต้น</th>\n",
       "      <th>Expire Date(8N)</th>\n",
       "      <th>ID</th>\n",
       "      <th>version</th>\n",
       "    </tr>\n",
       "  </thead>\n",
       "  <tbody>\n",
       "    <tr>\n",
       "      <th>0</th>\n",
       "      <td>กรมการอุตสาหกรรมทหาร</td>\n",
       "      <td>28011000</td>\n",
       "      <td>000</td>\n",
       "      <td>นำเข้า</td>\n",
       "      <td>9.940000e+11</td>\n",
       "      <td>Y</td>\n",
       "      <td>NaN</td>\n",
       "      <td>0.0</td>\n",
       "      <td>KGM</td>\n",
       "      <td>NaN</td>\n",
       "      <td>CHLORINE</td>\n",
       "      <td>NaN</td>\n",
       "      <td>NaN</td>\n",
       "      <td>20130401.0</td>\n",
       "      <td>20130501.0</td>\n",
       "      <td>99999999.0</td>\n",
       "      <td>2801100000000994000011679</td>\n",
       "      <td>old</td>\n",
       "    </tr>\n",
       "    <tr>\n",
       "      <th>1</th>\n",
       "      <td>กรมการอุตสาหกรรมทหาร</td>\n",
       "      <td>28013000</td>\n",
       "      <td>002</td>\n",
       "      <td>นำเข้าและส่งออก</td>\n",
       "      <td>9.940000e+11</td>\n",
       "      <td>Y</td>\n",
       "      <td>NaN</td>\n",
       "      <td>0.0</td>\n",
       "      <td>KGM</td>\n",
       "      <td>โบรมีน</td>\n",
       "      <td>BROMINE</td>\n",
       "      <td>NaN</td>\n",
       "      <td>NaN</td>\n",
       "      <td>20130401.0</td>\n",
       "      <td>20130501.0</td>\n",
       "      <td>99999999.0</td>\n",
       "      <td>2801300000230994000011679</td>\n",
       "      <td>old</td>\n",
       "    </tr>\n",
       "    <tr>\n",
       "      <th>2</th>\n",
       "      <td>กรมการอุตสาหกรรมทหาร</td>\n",
       "      <td>28047000</td>\n",
       "      <td>000</td>\n",
       "      <td>นำเข้าและส่งออก</td>\n",
       "      <td>9.940000e+11</td>\n",
       "      <td>Y</td>\n",
       "      <td>NaN</td>\n",
       "      <td>0.0</td>\n",
       "      <td>NaN</td>\n",
       "      <td>ฟอสฟอรัส</td>\n",
       "      <td>Phosphorus</td>\n",
       "      <td>NaN</td>\n",
       "      <td>NaN</td>\n",
       "      <td>0.0</td>\n",
       "      <td>20141101.0</td>\n",
       "      <td>99999999.0</td>\n",
       "      <td>2804700000030994000011679</td>\n",
       "      <td>old</td>\n",
       "    </tr>\n",
       "    <tr>\n",
       "      <th>3</th>\n",
       "      <td>กรมการอุตสาหกรรมทหาร</td>\n",
       "      <td>28062000</td>\n",
       "      <td>001</td>\n",
       "      <td>นำเข้าและส่งออก</td>\n",
       "      <td>9.940000e+11</td>\n",
       "      <td>Y</td>\n",
       "      <td>NaN</td>\n",
       "      <td>0.0</td>\n",
       "      <td>KGM</td>\n",
       "      <td>NaN</td>\n",
       "      <td>CHLOROSULPHONIC ACID</td>\n",
       "      <td>NaN</td>\n",
       "      <td>NaN</td>\n",
       "      <td>20130401.0</td>\n",
       "      <td>20130501.0</td>\n",
       "      <td>99999999.0</td>\n",
       "      <td>2806200000130994000011679</td>\n",
       "      <td>old</td>\n",
       "    </tr>\n",
       "    <tr>\n",
       "      <th>4</th>\n",
       "      <td>กรมการอุตสาหกรรมทหาร</td>\n",
       "      <td>28111100</td>\n",
       "      <td>201</td>\n",
       "      <td>นำเข้าและส่งออก</td>\n",
       "      <td>9.940000e+11</td>\n",
       "      <td>Y</td>\n",
       "      <td>NaN</td>\n",
       "      <td>0.0</td>\n",
       "      <td>KGM</td>\n",
       "      <td>NaN</td>\n",
       "      <td>HYDROGEN FLUOURIDE (GAS)</td>\n",
       "      <td>NaN</td>\n",
       "      <td>NaN</td>\n",
       "      <td>20130401.0</td>\n",
       "      <td>20130501.0</td>\n",
       "      <td>99999999.0</td>\n",
       "      <td>2811110020130994000011679</td>\n",
       "      <td>old</td>\n",
       "    </tr>\n",
       "  </tbody>\n",
       "</table>\n",
       "</div>"
      ],
      "text/plain": [
       "               หน่วยงาน พิกัดศุลกากร รหัสสถิติ           ประเภท           tax  \\\n",
       "0  กรมการอุตสาหกรรมทหาร     28011000       000           นำเข้า  9.940000e+11   \n",
       "1  กรมการอุตสาหกรรมทหาร     28013000       002  นำเข้าและส่งออก  9.940000e+11   \n",
       "2  กรมการอุตสาหกรรมทหาร     28047000       000  นำเข้าและส่งออก  9.940000e+11   \n",
       "3  กรมการอุตสาหกรรมทหาร     28062000       001  นำเข้าและส่งออก  9.940000e+11   \n",
       "4  กรมการอุตสาหกรรมทหาร     28111100       201  นำเข้าและส่งออก  9.940000e+11   \n",
       "\n",
       "  Validate Indicator(2A) Country Code(2A)  Quantity(14NDE3) Quantity Unit(3A)  \\\n",
       "0                      Y              NaN               0.0               KGM   \n",
       "1                      Y              NaN               0.0               KGM   \n",
       "2                      Y              NaN               0.0               NaN   \n",
       "3                      Y              NaN               0.0               KGM   \n",
       "4                      Y              NaN               0.0               KGM   \n",
       "\n",
       "  คำอธิบายภาษาไทย        คำอธิบายภาษาอังกฤษ Condition(512A)  \\\n",
       "0             NaN                  CHLORINE             NaN   \n",
       "1          โบรมีน                   BROMINE             NaN   \n",
       "2        ฟอสฟอรัส                Phosphorus             NaN   \n",
       "3             NaN      CHLOROSULPHONIC ACID             NaN   \n",
       "4             NaN  HYDROGEN FLUOURIDE (GAS)             NaN   \n",
       "\n",
       "  Announce Number(10A)  Announce Date(8N)  วันที่เริ่มต้น  Expire Date(8N)  \\\n",
       "0                  NaN         20130401.0      20130501.0       99999999.0   \n",
       "1                  NaN         20130401.0      20130501.0       99999999.0   \n",
       "2                  NaN                0.0      20141101.0       99999999.0   \n",
       "3                  NaN         20130401.0      20130501.0       99999999.0   \n",
       "4                  NaN         20130401.0      20130501.0       99999999.0   \n",
       "\n",
       "                          ID version  \n",
       "0  2801100000000994000011679     old  \n",
       "1  2801300000230994000011679     old  \n",
       "2  2804700000030994000011679     old  \n",
       "3  2806200000130994000011679     old  \n",
       "4  2811110020130994000011679     old  "
      ]
     },
     "execution_count": 45,
     "metadata": {},
     "output_type": "execute_result"
    }
   ],
   "source": [
    "all_data.head()"
   ]
  },
  {
   "cell_type": "code",
   "execution_count": 46,
   "metadata": {
    "ExecuteTime": {
     "end_time": "2020-02-12T08:13:05.728857Z",
     "start_time": "2020-02-12T08:13:05.703873Z"
    }
   },
   "outputs": [],
   "source": [
    "# Let's see what changes in the main columns we care about\n",
    "# Change drop_duplicates syntax: keep=last\n",
    "changes = all_data.drop_duplicates(subset=[\"ID\",\n",
    "                                          \"วันที่เริ่มต้น\",\"Expire Date(8N)\"], keep='last')"
   ]
  },
  {
   "cell_type": "code",
   "execution_count": 47,
   "metadata": {
    "ExecuteTime": {
     "end_time": "2020-02-12T08:13:06.983734Z",
     "start_time": "2020-02-12T08:13:06.959749Z"
    }
   },
   "outputs": [
    {
     "data": {
      "text/html": [
       "<div>\n",
       "<style scoped>\n",
       "    .dataframe tbody tr th:only-of-type {\n",
       "        vertical-align: middle;\n",
       "    }\n",
       "\n",
       "    .dataframe tbody tr th {\n",
       "        vertical-align: top;\n",
       "    }\n",
       "\n",
       "    .dataframe thead th {\n",
       "        text-align: right;\n",
       "    }\n",
       "</style>\n",
       "<table border=\"1\" class=\"dataframe\">\n",
       "  <thead>\n",
       "    <tr style=\"text-align: right;\">\n",
       "      <th></th>\n",
       "      <th>หน่วยงาน</th>\n",
       "      <th>พิกัดศุลกากร</th>\n",
       "      <th>รหัสสถิติ</th>\n",
       "      <th>ประเภท</th>\n",
       "      <th>tax</th>\n",
       "      <th>Validate Indicator(2A)</th>\n",
       "      <th>Country Code(2A)</th>\n",
       "      <th>Quantity(14NDE3)</th>\n",
       "      <th>Quantity Unit(3A)</th>\n",
       "      <th>คำอธิบายภาษาไทย</th>\n",
       "      <th>คำอธิบายภาษาอังกฤษ</th>\n",
       "      <th>Condition(512A)</th>\n",
       "      <th>Announce Number(10A)</th>\n",
       "      <th>Announce Date(8N)</th>\n",
       "      <th>วันที่เริ่มต้น</th>\n",
       "      <th>Expire Date(8N)</th>\n",
       "      <th>ID</th>\n",
       "      <th>version</th>\n",
       "    </tr>\n",
       "  </thead>\n",
       "  <tbody>\n",
       "    <tr>\n",
       "      <th>11060</th>\n",
       "      <td>กรมการอุตสาหกรรมทหาร</td>\n",
       "      <td>28011000</td>\n",
       "      <td>000</td>\n",
       "      <td>นำเข้า</td>\n",
       "      <td>9.940000e+11</td>\n",
       "      <td>Y</td>\n",
       "      <td>NaN</td>\n",
       "      <td>0.0</td>\n",
       "      <td>KGM</td>\n",
       "      <td>NaN</td>\n",
       "      <td>CHLORINE</td>\n",
       "      <td>NaN</td>\n",
       "      <td>NaN</td>\n",
       "      <td>20130401.0</td>\n",
       "      <td>20130501.0</td>\n",
       "      <td>99999999.0</td>\n",
       "      <td>2801100000000994000011679</td>\n",
       "      <td>new</td>\n",
       "    </tr>\n",
       "    <tr>\n",
       "      <th>11061</th>\n",
       "      <td>กรมการอุตสาหกรรมทหาร</td>\n",
       "      <td>28013000</td>\n",
       "      <td>002</td>\n",
       "      <td>นำเข้าและส่งออก</td>\n",
       "      <td>9.940000e+11</td>\n",
       "      <td>Y</td>\n",
       "      <td>NaN</td>\n",
       "      <td>0.0</td>\n",
       "      <td>KGM</td>\n",
       "      <td>โบรมีน</td>\n",
       "      <td>BROMINE</td>\n",
       "      <td>NaN</td>\n",
       "      <td>NaN</td>\n",
       "      <td>20130401.0</td>\n",
       "      <td>20130501.0</td>\n",
       "      <td>99999999.0</td>\n",
       "      <td>2801300000230994000011679</td>\n",
       "      <td>new</td>\n",
       "    </tr>\n",
       "    <tr>\n",
       "      <th>11062</th>\n",
       "      <td>กรมการอุตสาหกรรมทหาร</td>\n",
       "      <td>28047000</td>\n",
       "      <td>000</td>\n",
       "      <td>นำเข้าและส่งออก</td>\n",
       "      <td>9.940000e+11</td>\n",
       "      <td>Y</td>\n",
       "      <td>NaN</td>\n",
       "      <td>0.0</td>\n",
       "      <td>NaN</td>\n",
       "      <td>ฟอสฟอรัส</td>\n",
       "      <td>Phosphorus</td>\n",
       "      <td>NaN</td>\n",
       "      <td>NaN</td>\n",
       "      <td>0.0</td>\n",
       "      <td>20141101.0</td>\n",
       "      <td>99999999.0</td>\n",
       "      <td>2804700000030994000011679</td>\n",
       "      <td>new</td>\n",
       "    </tr>\n",
       "    <tr>\n",
       "      <th>11063</th>\n",
       "      <td>กรมการอุตสาหกรรมทหาร</td>\n",
       "      <td>28062000</td>\n",
       "      <td>001</td>\n",
       "      <td>นำเข้าและส่งออก</td>\n",
       "      <td>9.940000e+11</td>\n",
       "      <td>Y</td>\n",
       "      <td>NaN</td>\n",
       "      <td>0.0</td>\n",
       "      <td>KGM</td>\n",
       "      <td>NaN</td>\n",
       "      <td>CHLOROSULPHONIC ACID</td>\n",
       "      <td>NaN</td>\n",
       "      <td>NaN</td>\n",
       "      <td>20130401.0</td>\n",
       "      <td>20130501.0</td>\n",
       "      <td>99999999.0</td>\n",
       "      <td>2806200000130994000011679</td>\n",
       "      <td>new</td>\n",
       "    </tr>\n",
       "    <tr>\n",
       "      <th>11064</th>\n",
       "      <td>กรมการอุตสาหกรรมทหาร</td>\n",
       "      <td>28111100</td>\n",
       "      <td>201</td>\n",
       "      <td>นำเข้าและส่งออก</td>\n",
       "      <td>9.940000e+11</td>\n",
       "      <td>Y</td>\n",
       "      <td>NaN</td>\n",
       "      <td>0.0</td>\n",
       "      <td>KGM</td>\n",
       "      <td>NaN</td>\n",
       "      <td>HYDROGEN FLUOURIDE (GAS)</td>\n",
       "      <td>NaN</td>\n",
       "      <td>NaN</td>\n",
       "      <td>20130401.0</td>\n",
       "      <td>20130501.0</td>\n",
       "      <td>99999999.0</td>\n",
       "      <td>2811110020130994000011679</td>\n",
       "      <td>new</td>\n",
       "    </tr>\n",
       "  </tbody>\n",
       "</table>\n",
       "</div>"
      ],
      "text/plain": [
       "                   หน่วยงาน พิกัดศุลกากร รหัสสถิติ           ประเภท  \\\n",
       "11060  กรมการอุตสาหกรรมทหาร     28011000       000           นำเข้า   \n",
       "11061  กรมการอุตสาหกรรมทหาร     28013000       002  นำเข้าและส่งออก   \n",
       "11062  กรมการอุตสาหกรรมทหาร     28047000       000  นำเข้าและส่งออก   \n",
       "11063  กรมการอุตสาหกรรมทหาร     28062000       001  นำเข้าและส่งออก   \n",
       "11064  กรมการอุตสาหกรรมทหาร     28111100       201  นำเข้าและส่งออก   \n",
       "\n",
       "                tax Validate Indicator(2A) Country Code(2A)  Quantity(14NDE3)  \\\n",
       "11060  9.940000e+11                      Y              NaN               0.0   \n",
       "11061  9.940000e+11                      Y              NaN               0.0   \n",
       "11062  9.940000e+11                      Y              NaN               0.0   \n",
       "11063  9.940000e+11                      Y              NaN               0.0   \n",
       "11064  9.940000e+11                      Y              NaN               0.0   \n",
       "\n",
       "      Quantity Unit(3A) คำอธิบายภาษาไทย        คำอธิบายภาษาอังกฤษ  \\\n",
       "11060               KGM             NaN                  CHLORINE   \n",
       "11061               KGM          โบรมีน                   BROMINE   \n",
       "11062               NaN        ฟอสฟอรัส                Phosphorus   \n",
       "11063               KGM             NaN      CHLOROSULPHONIC ACID   \n",
       "11064               KGM             NaN  HYDROGEN FLUOURIDE (GAS)   \n",
       "\n",
       "      Condition(512A) Announce Number(10A)  Announce Date(8N)  วันที่เริ่มต้น  \\\n",
       "11060             NaN                  NaN         20130401.0      20130501.0   \n",
       "11061             NaN                  NaN         20130401.0      20130501.0   \n",
       "11062             NaN                  NaN                0.0      20141101.0   \n",
       "11063             NaN                  NaN         20130401.0      20130501.0   \n",
       "11064             NaN                  NaN         20130401.0      20130501.0   \n",
       "\n",
       "       Expire Date(8N)                         ID version  \n",
       "11060       99999999.0  2801100000000994000011679     new  \n",
       "11061       99999999.0  2801300000230994000011679     new  \n",
       "11062       99999999.0  2804700000030994000011679     new  \n",
       "11063       99999999.0  2806200000130994000011679     new  \n",
       "11064       99999999.0  2811110020130994000011679     new  "
      ]
     },
     "execution_count": 47,
     "metadata": {},
     "output_type": "execute_result"
    }
   ],
   "source": [
    "changes.head()"
   ]
  },
  {
   "cell_type": "code",
   "execution_count": 48,
   "metadata": {
    "ExecuteTime": {
     "end_time": "2020-02-12T08:13:07.870823Z",
     "start_time": "2020-02-12T08:13:07.862830Z"
    }
   },
   "outputs": [],
   "source": [
    "#Get all the duplicate rows\n",
    "dupe_accts = changes[changes['ID'].duplicated() == True]['ID'].tolist()\n",
    "dupes = changes[changes[\"ID\"].isin(dupe_accts)]"
   ]
  },
  {
   "cell_type": "code",
   "execution_count": 49,
   "metadata": {
    "ExecuteTime": {
     "end_time": "2020-02-12T08:13:08.692614Z",
     "start_time": "2020-02-12T08:13:08.680622Z"
    }
   },
   "outputs": [
    {
     "data": {
      "text/html": [
       "<div>\n",
       "<style scoped>\n",
       "    .dataframe tbody tr th:only-of-type {\n",
       "        vertical-align: middle;\n",
       "    }\n",
       "\n",
       "    .dataframe tbody tr th {\n",
       "        vertical-align: top;\n",
       "    }\n",
       "\n",
       "    .dataframe thead th {\n",
       "        text-align: right;\n",
       "    }\n",
       "</style>\n",
       "<table border=\"1\" class=\"dataframe\">\n",
       "  <thead>\n",
       "    <tr style=\"text-align: right;\">\n",
       "      <th></th>\n",
       "      <th>หน่วยงาน</th>\n",
       "      <th>พิกัดศุลกากร</th>\n",
       "      <th>รหัสสถิติ</th>\n",
       "      <th>ประเภท</th>\n",
       "      <th>tax</th>\n",
       "      <th>Validate Indicator(2A)</th>\n",
       "      <th>Country Code(2A)</th>\n",
       "      <th>Quantity(14NDE3)</th>\n",
       "      <th>Quantity Unit(3A)</th>\n",
       "      <th>คำอธิบายภาษาไทย</th>\n",
       "      <th>คำอธิบายภาษาอังกฤษ</th>\n",
       "      <th>Condition(512A)</th>\n",
       "      <th>Announce Number(10A)</th>\n",
       "      <th>Announce Date(8N)</th>\n",
       "      <th>วันที่เริ่มต้น</th>\n",
       "      <th>Expire Date(8N)</th>\n",
       "      <th>ID</th>\n",
       "      <th>version</th>\n",
       "    </tr>\n",
       "  </thead>\n",
       "  <tbody>\n",
       "  </tbody>\n",
       "</table>\n",
       "</div>"
      ],
      "text/plain": [
       "Empty DataFrame\n",
       "Columns: [หน่วยงาน, พิกัดศุลกากร, รหัสสถิติ, ประเภท, tax, Validate Indicator(2A), Country Code(2A), Quantity(14NDE3), Quantity Unit(3A), คำอธิบายภาษาไทย, คำอธิบายภาษาอังกฤษ, Condition(512A), Announce Number(10A), Announce Date(8N), วันที่เริ่มต้น, Expire Date(8N), ID, version]\n",
       "Index: []"
      ]
     },
     "execution_count": 49,
     "metadata": {},
     "output_type": "execute_result"
    }
   ],
   "source": [
    "dupes"
   ]
  },
  {
   "cell_type": "code",
   "execution_count": 50,
   "metadata": {
    "ExecuteTime": {
     "end_time": "2020-02-12T08:13:09.476691Z",
     "start_time": "2020-02-12T08:13:09.470695Z"
    }
   },
   "outputs": [],
   "source": [
    "# Pull out the old and new data into separate dataframes\n",
    "change_new = dupes[(dupes[\"version\"] == \"new\")]\n",
    "change_old = dupes[(dupes[\"version\"] == \"old\")]"
   ]
  },
  {
   "cell_type": "code",
   "execution_count": 51,
   "metadata": {
    "ExecuteTime": {
     "end_time": "2020-02-12T08:13:10.116025Z",
     "start_time": "2020-02-12T08:13:10.110030Z"
    }
   },
   "outputs": [],
   "source": [
    "# Drop the temp columns - we don't need them now\n",
    "change_new = change_new.drop(['version'], axis=1)\n",
    "change_old = change_old.drop(['version'], axis=1)"
   ]
  },
  {
   "cell_type": "code",
   "execution_count": 52,
   "metadata": {
    "ExecuteTime": {
     "end_time": "2020-02-12T08:13:10.883220Z",
     "start_time": "2020-02-12T08:13:10.878222Z"
    }
   },
   "outputs": [],
   "source": [
    "# Index on the account numbers\n",
    "change_new.set_index('ID', inplace=True)\n",
    "change_old.set_index('ID', inplace=True)"
   ]
  },
  {
   "cell_type": "code",
   "execution_count": 53,
   "metadata": {
    "ExecuteTime": {
     "end_time": "2020-02-12T08:13:13.332365Z",
     "start_time": "2020-02-12T08:13:13.326368Z"
    }
   },
   "outputs": [],
   "source": [
    "df_all_changes = pd.concat([change_old, change_new],\n",
    "                           axis='columns',\n",
    "                           keys=['old', 'new'],\n",
    "                           join='outer')"
   ]
  },
  {
   "cell_type": "code",
   "execution_count": 54,
   "metadata": {
    "ExecuteTime": {
     "end_time": "2020-02-12T08:13:14.860155Z",
     "start_time": "2020-02-12T08:13:14.832170Z"
    }
   },
   "outputs": [
    {
     "data": {
      "text/html": [
       "<div>\n",
       "<style scoped>\n",
       "    .dataframe tbody tr th:only-of-type {\n",
       "        vertical-align: middle;\n",
       "    }\n",
       "\n",
       "    .dataframe tbody tr th {\n",
       "        vertical-align: top;\n",
       "    }\n",
       "\n",
       "    .dataframe thead tr th {\n",
       "        text-align: left;\n",
       "    }\n",
       "\n",
       "    .dataframe thead tr:last-of-type th {\n",
       "        text-align: right;\n",
       "    }\n",
       "</style>\n",
       "<table border=\"1\" class=\"dataframe\">\n",
       "  <thead>\n",
       "    <tr>\n",
       "      <th></th>\n",
       "      <th colspan=\"10\" halign=\"left\">old</th>\n",
       "      <th>...</th>\n",
       "      <th colspan=\"10\" halign=\"left\">new</th>\n",
       "    </tr>\n",
       "    <tr>\n",
       "      <th></th>\n",
       "      <th>หน่วยงาน</th>\n",
       "      <th>พิกัดศุลกากร</th>\n",
       "      <th>รหัสสถิติ</th>\n",
       "      <th>ประเภท</th>\n",
       "      <th>tax</th>\n",
       "      <th>Validate Indicator(2A)</th>\n",
       "      <th>Country Code(2A)</th>\n",
       "      <th>Quantity(14NDE3)</th>\n",
       "      <th>Quantity Unit(3A)</th>\n",
       "      <th>คำอธิบายภาษาไทย</th>\n",
       "      <th>...</th>\n",
       "      <th>Country Code(2A)</th>\n",
       "      <th>Quantity(14NDE3)</th>\n",
       "      <th>Quantity Unit(3A)</th>\n",
       "      <th>คำอธิบายภาษาไทย</th>\n",
       "      <th>คำอธิบายภาษาอังกฤษ</th>\n",
       "      <th>Condition(512A)</th>\n",
       "      <th>Announce Number(10A)</th>\n",
       "      <th>Announce Date(8N)</th>\n",
       "      <th>วันที่เริ่มต้น</th>\n",
       "      <th>Expire Date(8N)</th>\n",
       "    </tr>\n",
       "    <tr>\n",
       "      <th>ID</th>\n",
       "      <th></th>\n",
       "      <th></th>\n",
       "      <th></th>\n",
       "      <th></th>\n",
       "      <th></th>\n",
       "      <th></th>\n",
       "      <th></th>\n",
       "      <th></th>\n",
       "      <th></th>\n",
       "      <th></th>\n",
       "      <th></th>\n",
       "      <th></th>\n",
       "      <th></th>\n",
       "      <th></th>\n",
       "      <th></th>\n",
       "      <th></th>\n",
       "      <th></th>\n",
       "      <th></th>\n",
       "      <th></th>\n",
       "      <th></th>\n",
       "      <th></th>\n",
       "    </tr>\n",
       "  </thead>\n",
       "  <tbody>\n",
       "  </tbody>\n",
       "</table>\n",
       "<p>0 rows × 32 columns</p>\n",
       "</div>"
      ],
      "text/plain": [
       "Empty DataFrame\n",
       "Columns: [(old, หน่วยงาน), (old, พิกัดศุลกากร), (old, รหัสสถิติ), (old, ประเภท), (old, tax), (old, Validate Indicator(2A)), (old, Country Code(2A)), (old, Quantity(14NDE3)), (old, Quantity Unit(3A)), (old, คำอธิบายภาษาไทย), (old, คำอธิบายภาษาอังกฤษ), (old, Condition(512A)), (old, Announce Number(10A)), (old, Announce Date(8N)), (old, วันที่เริ่มต้น), (old, Expire Date(8N)), (new, หน่วยงาน), (new, พิกัดศุลกากร), (new, รหัสสถิติ), (new, ประเภท), (new, tax), (new, Validate Indicator(2A)), (new, Country Code(2A)), (new, Quantity(14NDE3)), (new, Quantity Unit(3A)), (new, คำอธิบายภาษาไทย), (new, คำอธิบายภาษาอังกฤษ), (new, Condition(512A)), (new, Announce Number(10A)), (new, Announce Date(8N)), (new, วันที่เริ่มต้น), (new, Expire Date(8N))]\n",
       "Index: []\n",
       "\n",
       "[0 rows x 32 columns]"
      ]
     },
     "execution_count": 54,
     "metadata": {},
     "output_type": "execute_result"
    }
   ],
   "source": [
    "df_all_changes"
   ]
  },
  {
   "cell_type": "code",
   "execution_count": 55,
   "metadata": {
    "ExecuteTime": {
     "end_time": "2020-02-12T08:13:15.414812Z",
     "start_time": "2020-02-12T08:13:15.406816Z"
    }
   },
   "outputs": [],
   "source": [
    "df_all_changes = df_all_changes.swaplevel(axis='columns')[change_new.columns[0:]]"
   ]
  },
  {
   "cell_type": "code",
   "execution_count": 56,
   "metadata": {
    "ExecuteTime": {
     "end_time": "2020-02-12T08:13:16.049007Z",
     "start_time": "2020-02-12T08:13:16.024022Z"
    }
   },
   "outputs": [
    {
     "data": {
      "text/html": [
       "<div>\n",
       "<style scoped>\n",
       "    .dataframe tbody tr th:only-of-type {\n",
       "        vertical-align: middle;\n",
       "    }\n",
       "\n",
       "    .dataframe tbody tr th {\n",
       "        vertical-align: top;\n",
       "    }\n",
       "\n",
       "    .dataframe thead tr th {\n",
       "        text-align: left;\n",
       "    }\n",
       "\n",
       "    .dataframe thead tr:last-of-type th {\n",
       "        text-align: right;\n",
       "    }\n",
       "</style>\n",
       "<table border=\"1\" class=\"dataframe\">\n",
       "  <thead>\n",
       "    <tr>\n",
       "      <th></th>\n",
       "      <th colspan=\"2\" halign=\"left\">หน่วยงาน</th>\n",
       "      <th colspan=\"2\" halign=\"left\">พิกัดศุลกากร</th>\n",
       "      <th colspan=\"2\" halign=\"left\">รหัสสถิติ</th>\n",
       "      <th colspan=\"2\" halign=\"left\">ประเภท</th>\n",
       "      <th colspan=\"2\" halign=\"left\">tax</th>\n",
       "      <th>...</th>\n",
       "      <th colspan=\"2\" halign=\"left\">Condition(512A)</th>\n",
       "      <th colspan=\"2\" halign=\"left\">Announce Number(10A)</th>\n",
       "      <th colspan=\"2\" halign=\"left\">Announce Date(8N)</th>\n",
       "      <th colspan=\"2\" halign=\"left\">วันที่เริ่มต้น</th>\n",
       "      <th colspan=\"2\" halign=\"left\">Expire Date(8N)</th>\n",
       "    </tr>\n",
       "    <tr>\n",
       "      <th></th>\n",
       "      <th>old</th>\n",
       "      <th>new</th>\n",
       "      <th>old</th>\n",
       "      <th>new</th>\n",
       "      <th>old</th>\n",
       "      <th>new</th>\n",
       "      <th>old</th>\n",
       "      <th>new</th>\n",
       "      <th>old</th>\n",
       "      <th>new</th>\n",
       "      <th>...</th>\n",
       "      <th>old</th>\n",
       "      <th>new</th>\n",
       "      <th>old</th>\n",
       "      <th>new</th>\n",
       "      <th>old</th>\n",
       "      <th>new</th>\n",
       "      <th>old</th>\n",
       "      <th>new</th>\n",
       "      <th>old</th>\n",
       "      <th>new</th>\n",
       "    </tr>\n",
       "    <tr>\n",
       "      <th>ID</th>\n",
       "      <th></th>\n",
       "      <th></th>\n",
       "      <th></th>\n",
       "      <th></th>\n",
       "      <th></th>\n",
       "      <th></th>\n",
       "      <th></th>\n",
       "      <th></th>\n",
       "      <th></th>\n",
       "      <th></th>\n",
       "      <th></th>\n",
       "      <th></th>\n",
       "      <th></th>\n",
       "      <th></th>\n",
       "      <th></th>\n",
       "      <th></th>\n",
       "      <th></th>\n",
       "      <th></th>\n",
       "      <th></th>\n",
       "      <th></th>\n",
       "      <th></th>\n",
       "    </tr>\n",
       "  </thead>\n",
       "  <tbody>\n",
       "  </tbody>\n",
       "</table>\n",
       "<p>0 rows × 32 columns</p>\n",
       "</div>"
      ],
      "text/plain": [
       "Empty DataFrame\n",
       "Columns: [(หน่วยงาน, old), (หน่วยงาน, new), (พิกัดศุลกากร, old), (พิกัดศุลกากร, new), (รหัสสถิติ, old), (รหัสสถิติ, new), (ประเภท, old), (ประเภท, new), (tax, old), (tax, new), (Validate Indicator(2A), old), (Validate Indicator(2A), new), (Country Code(2A), old), (Country Code(2A), new), (Quantity(14NDE3), old), (Quantity(14NDE3), new), (Quantity Unit(3A), old), (Quantity Unit(3A), new), (คำอธิบายภาษาไทย, old), (คำอธิบายภาษาไทย, new), (คำอธิบายภาษาอังกฤษ, old), (คำอธิบายภาษาอังกฤษ, new), (Condition(512A), old), (Condition(512A), new), (Announce Number(10A), old), (Announce Number(10A), new), (Announce Date(8N), old), (Announce Date(8N), new), (วันที่เริ่มต้น, old), (วันที่เริ่มต้น, new), (Expire Date(8N), old), (Expire Date(8N), new)]\n",
       "Index: []\n",
       "\n",
       "[0 rows x 32 columns]"
      ]
     },
     "execution_count": 56,
     "metadata": {},
     "output_type": "execute_result"
    }
   ],
   "source": [
    "df_all_changes"
   ]
  },
  {
   "cell_type": "code",
   "execution_count": 57,
   "metadata": {
    "ExecuteTime": {
     "end_time": "2020-02-12T08:13:16.690703Z",
     "start_time": "2020-02-12T08:13:16.662720Z"
    }
   },
   "outputs": [],
   "source": [
    "df_changed = df_all_changes.groupby(level=0, axis=1).apply(lambda frame: frame.apply(report_diff, axis=1))\n",
    "df_changed = df_changed.reset_index()"
   ]
  },
  {
   "cell_type": "code",
   "execution_count": 58,
   "metadata": {
    "ExecuteTime": {
     "end_time": "2020-02-12T08:13:17.489483Z",
     "start_time": "2020-02-12T08:13:17.464498Z"
    }
   },
   "outputs": [
    {
     "data": {
      "text/html": [
       "<div>\n",
       "<style scoped>\n",
       "    .dataframe tbody tr th:only-of-type {\n",
       "        vertical-align: middle;\n",
       "    }\n",
       "\n",
       "    .dataframe tbody tr th {\n",
       "        vertical-align: top;\n",
       "    }\n",
       "\n",
       "    .dataframe thead tr th {\n",
       "        text-align: left;\n",
       "    }\n",
       "</style>\n",
       "<table border=\"1\" class=\"dataframe\">\n",
       "  <thead>\n",
       "    <tr>\n",
       "      <th></th>\n",
       "      <th>ID</th>\n",
       "      <th colspan=\"2\" halign=\"left\">หน่วยงาน</th>\n",
       "      <th colspan=\"2\" halign=\"left\">พิกัดศุลกากร</th>\n",
       "      <th colspan=\"2\" halign=\"left\">รหัสสถิติ</th>\n",
       "      <th colspan=\"2\" halign=\"left\">ประเภท</th>\n",
       "      <th>tax</th>\n",
       "      <th>...</th>\n",
       "      <th colspan=\"2\" halign=\"left\">Condition(512A)</th>\n",
       "      <th colspan=\"2\" halign=\"left\">Announce Number(10A)</th>\n",
       "      <th colspan=\"2\" halign=\"left\">Announce Date(8N)</th>\n",
       "      <th colspan=\"2\" halign=\"left\">วันที่เริ่มต้น</th>\n",
       "      <th colspan=\"2\" halign=\"left\">Expire Date(8N)</th>\n",
       "    </tr>\n",
       "    <tr>\n",
       "      <th></th>\n",
       "      <th></th>\n",
       "      <th>old</th>\n",
       "      <th>new</th>\n",
       "      <th>old</th>\n",
       "      <th>new</th>\n",
       "      <th>old</th>\n",
       "      <th>new</th>\n",
       "      <th>old</th>\n",
       "      <th>new</th>\n",
       "      <th>old</th>\n",
       "      <th>...</th>\n",
       "      <th>old</th>\n",
       "      <th>new</th>\n",
       "      <th>old</th>\n",
       "      <th>new</th>\n",
       "      <th>old</th>\n",
       "      <th>new</th>\n",
       "      <th>old</th>\n",
       "      <th>new</th>\n",
       "      <th>old</th>\n",
       "      <th>new</th>\n",
       "    </tr>\n",
       "  </thead>\n",
       "  <tbody>\n",
       "  </tbody>\n",
       "</table>\n",
       "<p>0 rows × 33 columns</p>\n",
       "</div>"
      ],
      "text/plain": [
       "Empty DataFrame\n",
       "Columns: [(ID, ), (หน่วยงาน, old), (หน่วยงาน, new), (พิกัดศุลกากร, old), (พิกัดศุลกากร, new), (รหัสสถิติ, old), (รหัสสถิติ, new), (ประเภท, old), (ประเภท, new), (tax, old), (tax, new), (Validate Indicator(2A), old), (Validate Indicator(2A), new), (Country Code(2A), old), (Country Code(2A), new), (Quantity(14NDE3), old), (Quantity(14NDE3), new), (Quantity Unit(3A), old), (Quantity Unit(3A), new), (คำอธิบายภาษาไทย, old), (คำอธิบายภาษาไทย, new), (คำอธิบายภาษาอังกฤษ, old), (คำอธิบายภาษาอังกฤษ, new), (Condition(512A), old), (Condition(512A), new), (Announce Number(10A), old), (Announce Number(10A), new), (Announce Date(8N), old), (Announce Date(8N), new), (วันที่เริ่มต้น, old), (วันที่เริ่มต้น, new), (Expire Date(8N), old), (Expire Date(8N), new)]\n",
       "Index: []\n",
       "\n",
       "[0 rows x 33 columns]"
      ]
     },
     "execution_count": 58,
     "metadata": {},
     "output_type": "execute_result"
    }
   ],
   "source": [
    "df_changed"
   ]
  },
  {
   "cell_type": "code",
   "execution_count": 59,
   "metadata": {
    "ExecuteTime": {
     "end_time": "2020-02-12T08:13:18.120936Z",
     "start_time": "2020-02-12T08:13:18.095953Z"
    }
   },
   "outputs": [
    {
     "data": {
      "text/html": [
       "<div>\n",
       "<style scoped>\n",
       "    .dataframe tbody tr th:only-of-type {\n",
       "        vertical-align: middle;\n",
       "    }\n",
       "\n",
       "    .dataframe tbody tr th {\n",
       "        vertical-align: top;\n",
       "    }\n",
       "\n",
       "    .dataframe thead tr th {\n",
       "        text-align: left;\n",
       "    }\n",
       "</style>\n",
       "<table border=\"1\" class=\"dataframe\">\n",
       "  <thead>\n",
       "    <tr>\n",
       "      <th></th>\n",
       "      <th>ID</th>\n",
       "      <th colspan=\"2\" halign=\"left\">หน่วยงาน</th>\n",
       "      <th colspan=\"2\" halign=\"left\">พิกัดศุลกากร</th>\n",
       "      <th colspan=\"2\" halign=\"left\">รหัสสถิติ</th>\n",
       "      <th colspan=\"2\" halign=\"left\">ประเภท</th>\n",
       "      <th>tax</th>\n",
       "      <th>...</th>\n",
       "      <th colspan=\"2\" halign=\"left\">Condition(512A)</th>\n",
       "      <th colspan=\"2\" halign=\"left\">Announce Number(10A)</th>\n",
       "      <th colspan=\"2\" halign=\"left\">Announce Date(8N)</th>\n",
       "      <th colspan=\"2\" halign=\"left\">วันที่เริ่มต้น</th>\n",
       "      <th colspan=\"2\" halign=\"left\">Expire Date(8N)</th>\n",
       "    </tr>\n",
       "    <tr>\n",
       "      <th></th>\n",
       "      <th></th>\n",
       "      <th>old</th>\n",
       "      <th>new</th>\n",
       "      <th>old</th>\n",
       "      <th>new</th>\n",
       "      <th>old</th>\n",
       "      <th>new</th>\n",
       "      <th>old</th>\n",
       "      <th>new</th>\n",
       "      <th>old</th>\n",
       "      <th>...</th>\n",
       "      <th>old</th>\n",
       "      <th>new</th>\n",
       "      <th>old</th>\n",
       "      <th>new</th>\n",
       "      <th>old</th>\n",
       "      <th>new</th>\n",
       "      <th>old</th>\n",
       "      <th>new</th>\n",
       "      <th>old</th>\n",
       "      <th>new</th>\n",
       "    </tr>\n",
       "  </thead>\n",
       "  <tbody>\n",
       "  </tbody>\n",
       "</table>\n",
       "<p>0 rows × 33 columns</p>\n",
       "</div>"
      ],
      "text/plain": [
       "Empty DataFrame\n",
       "Columns: [(ID, ), (หน่วยงาน, old), (หน่วยงาน, new), (พิกัดศุลกากร, old), (พิกัดศุลกากร, new), (รหัสสถิติ, old), (รหัสสถิติ, new), (ประเภท, old), (ประเภท, new), (tax, old), (tax, new), (Validate Indicator(2A), old), (Validate Indicator(2A), new), (Country Code(2A), old), (Country Code(2A), new), (Quantity(14NDE3), old), (Quantity(14NDE3), new), (Quantity Unit(3A), old), (Quantity Unit(3A), new), (คำอธิบายภาษาไทย, old), (คำอธิบายภาษาไทย, new), (คำอธิบายภาษาอังกฤษ, old), (คำอธิบายภาษาอังกฤษ, new), (Condition(512A), old), (Condition(512A), new), (Announce Number(10A), old), (Announce Number(10A), new), (Announce Date(8N), old), (Announce Date(8N), new), (วันที่เริ่มต้น, old), (วันที่เริ่มต้น, new), (Expire Date(8N), old), (Expire Date(8N), new)]\n",
       "Index: []\n",
       "\n",
       "[0 rows x 33 columns]"
      ]
     },
     "execution_count": 59,
     "metadata": {},
     "output_type": "execute_result"
    }
   ],
   "source": [
    "df_changed"
   ]
  },
  {
   "cell_type": "markdown",
   "metadata": {
    "ExecuteTime": {
     "end_time": "2019-08-30T06:52:18.348553Z",
     "start_time": "2019-08-30T06:52:18.289589Z"
    }
   },
   "source": [
    "# Diff'ing is done, we need to get a list of removed and added items"
   ]
  },
  {
   "cell_type": "code",
   "execution_count": 60,
   "metadata": {
    "ExecuteTime": {
     "end_time": "2020-02-12T08:13:19.972244Z",
     "start_time": "2020-02-12T08:13:19.959254Z"
    }
   },
   "outputs": [
    {
     "data": {
      "text/html": [
       "<div>\n",
       "<style scoped>\n",
       "    .dataframe tbody tr th:only-of-type {\n",
       "        vertical-align: middle;\n",
       "    }\n",
       "\n",
       "    .dataframe tbody tr th {\n",
       "        vertical-align: top;\n",
       "    }\n",
       "\n",
       "    .dataframe thead th {\n",
       "        text-align: right;\n",
       "    }\n",
       "</style>\n",
       "<table border=\"1\" class=\"dataframe\">\n",
       "  <thead>\n",
       "    <tr style=\"text-align: right;\">\n",
       "      <th></th>\n",
       "      <th>หน่วยงาน</th>\n",
       "      <th>พิกัดศุลกากร</th>\n",
       "      <th>รหัสสถิติ</th>\n",
       "      <th>ประเภท</th>\n",
       "      <th>tax</th>\n",
       "      <th>Validate Indicator(2A)</th>\n",
       "      <th>Country Code(2A)</th>\n",
       "      <th>Quantity(14NDE3)</th>\n",
       "      <th>Quantity Unit(3A)</th>\n",
       "      <th>คำอธิบายภาษาไทย</th>\n",
       "      <th>คำอธิบายภาษาอังกฤษ</th>\n",
       "      <th>Condition(512A)</th>\n",
       "      <th>Announce Number(10A)</th>\n",
       "      <th>Announce Date(8N)</th>\n",
       "      <th>วันที่เริ่มต้น</th>\n",
       "      <th>Expire Date(8N)</th>\n",
       "      <th>ID</th>\n",
       "      <th>version</th>\n",
       "    </tr>\n",
       "  </thead>\n",
       "  <tbody>\n",
       "  </tbody>\n",
       "</table>\n",
       "</div>"
      ],
      "text/plain": [
       "Empty DataFrame\n",
       "Columns: [หน่วยงาน, พิกัดศุลกากร, รหัสสถิติ, ประเภท, tax, Validate Indicator(2A), Country Code(2A), Quantity(14NDE3), Quantity Unit(3A), คำอธิบายภาษาไทย, คำอธิบายภาษาอังกฤษ, Condition(512A), Announce Number(10A), Announce Date(8N), วันที่เริ่มต้น, Expire Date(8N), ID, version]\n",
       "Index: []"
      ]
     },
     "execution_count": 60,
     "metadata": {},
     "output_type": "execute_result"
    }
   ],
   "source": [
    "df_removed = changes[changes[\"ID\"].isin(dropped_accts)]\n",
    "df_removed"
   ]
  },
  {
   "cell_type": "code",
   "execution_count": 61,
   "metadata": {
    "ExecuteTime": {
     "end_time": "2020-02-12T08:13:20.798426Z",
     "start_time": "2020-02-12T08:13:20.776440Z"
    }
   },
   "outputs": [
    {
     "data": {
      "text/html": [
       "<div>\n",
       "<style scoped>\n",
       "    .dataframe tbody tr th:only-of-type {\n",
       "        vertical-align: middle;\n",
       "    }\n",
       "\n",
       "    .dataframe tbody tr th {\n",
       "        vertical-align: top;\n",
       "    }\n",
       "\n",
       "    .dataframe thead th {\n",
       "        text-align: right;\n",
       "    }\n",
       "</style>\n",
       "<table border=\"1\" class=\"dataframe\">\n",
       "  <thead>\n",
       "    <tr style=\"text-align: right;\">\n",
       "      <th></th>\n",
       "      <th>หน่วยงาน</th>\n",
       "      <th>พิกัดศุลกากร</th>\n",
       "      <th>รหัสสถิติ</th>\n",
       "      <th>ประเภท</th>\n",
       "      <th>tax</th>\n",
       "      <th>Validate Indicator(2A)</th>\n",
       "      <th>Country Code(2A)</th>\n",
       "      <th>Quantity(14NDE3)</th>\n",
       "      <th>Quantity Unit(3A)</th>\n",
       "      <th>คำอธิบายภาษาไทย</th>\n",
       "      <th>คำอธิบายภาษาอังกฤษ</th>\n",
       "      <th>Condition(512A)</th>\n",
       "      <th>Announce Number(10A)</th>\n",
       "      <th>Announce Date(8N)</th>\n",
       "      <th>วันที่เริ่มต้น</th>\n",
       "      <th>Expire Date(8N)</th>\n",
       "      <th>ID</th>\n",
       "      <th>version</th>\n",
       "    </tr>\n",
       "  </thead>\n",
       "  <tbody>\n",
       "    <tr>\n",
       "      <th>13989</th>\n",
       "      <td>กรมปศุสัตว์</td>\n",
       "      <td>29313900</td>\n",
       "      <td>028</td>\n",
       "      <td>นำเข้าและส่งออก</td>\n",
       "      <td>9.940002e+11</td>\n",
       "      <td>Y</td>\n",
       "      <td>NaN</td>\n",
       "      <td>0.0</td>\n",
       "      <td>KGM</td>\n",
       "      <td>ไตรคลอร์ฟอน</td>\n",
       "      <td>Trichlorfon</td>\n",
       "      <td>NaN</td>\n",
       "      <td>2563-02-01 00:00:00</td>\n",
       "      <td>0.0</td>\n",
       "      <td>20200212.0</td>\n",
       "      <td>99999999.0</td>\n",
       "      <td>2931390002830994000159251</td>\n",
       "      <td>new</td>\n",
       "    </tr>\n",
       "  </tbody>\n",
       "</table>\n",
       "</div>"
      ],
      "text/plain": [
       "          หน่วยงาน พิกัดศุลกากร รหัสสถิติ           ประเภท           tax  \\\n",
       "13989  กรมปศุสัตว์     29313900       028  นำเข้าและส่งออก  9.940002e+11   \n",
       "\n",
       "      Validate Indicator(2A) Country Code(2A)  Quantity(14NDE3)  \\\n",
       "13989                      Y              NaN               0.0   \n",
       "\n",
       "      Quantity Unit(3A) คำอธิบายภาษาไทย คำอธิบายภาษาอังกฤษ Condition(512A)  \\\n",
       "13989               KGM     ไตรคลอร์ฟอน        Trichlorfon             NaN   \n",
       "\n",
       "      Announce Number(10A)  Announce Date(8N)  วันที่เริ่มต้น  \\\n",
       "13989  2563-02-01 00:00:00                0.0      20200212.0   \n",
       "\n",
       "       Expire Date(8N)                         ID version  \n",
       "13989       99999999.0  2931390002830994000159251     new  "
      ]
     },
     "execution_count": 61,
     "metadata": {},
     "output_type": "execute_result"
    }
   ],
   "source": [
    "df_added = changes[changes[\"ID\"].isin(added_accts)]\n",
    "df_added"
   ]
  },
  {
   "cell_type": "code",
   "execution_count": 67,
   "metadata": {
    "ExecuteTime": {
     "end_time": "2020-02-12T08:21:42.930379Z",
     "start_time": "2020-02-12T08:21:40.677447Z"
    },
    "scrolled": true
   },
   "outputs": [
    {
     "name": "stdout",
     "output_type": "stream",
     "text": [
      "success\n"
     ]
    }
   ],
   "source": [
    "#Save the changes to excel but only include the columns we care about\n",
    "output_columns = [\"พิกัดศุลกากร\",\"รหัสสถิติ\",'ประเภท',\"หน่วยงาน\",\"คำอธิบายภาษาไทย\",'คำอธิบายภาษาอังกฤษ','วันที่เริ่มต้น']                \n",
    "writer = pd.ExcelWriter(\"data/my-diff.xlsx\")\n",
    "\n",
    "if df_changed.size > 0:\n",
    "    df_changed.to_excel(writer,\"changed\", index=False, columns=output_columns)\n",
    "if df_removed.size > 0:\n",
    "    df_removed.to_excel(writer,\"removed\",index=False, columns=output_columns)\n",
    "if df_added.size > 0:\n",
    "    df_added.to_excel(writer,\"added\",index=False, columns=output_columns)\n",
    "data_new = new[ [\"พิกัดศุลกากร\",\"รหัสสถิติ\",'ประเภท',\"หน่วยงาน\",\"คำอธิบายภาษาไทย\",'คำอธิบายภาษาอังกฤษ','วันที่เริ่มต้น']]\n",
    "data_new.to_excel(writer,\"temp\",index=False, columns=output_columns)\n",
    "writer.save()\n",
    "print('success')"
   ]
  },
  {
   "cell_type": "code",
   "execution_count": 28,
   "metadata": {
    "ExecuteTime": {
     "end_time": "2020-02-12T08:03:03.224310Z",
     "start_time": "2020-02-12T08:03:03.219314Z"
    }
   },
   "outputs": [
    {
     "data": {
      "text/plain": [
       "0"
      ]
     },
     "execution_count": 28,
     "metadata": {},
     "output_type": "execute_result"
    }
   ],
   "source": [
    "df_removed.shape[0]"
   ]
  },
  {
   "cell_type": "code",
   "execution_count": 29,
   "metadata": {
    "ExecuteTime": {
     "end_time": "2020-02-12T08:03:03.646051Z",
     "start_time": "2020-02-12T08:03:03.640054Z"
    }
   },
   "outputs": [
    {
     "data": {
      "text/plain": [
       "0"
      ]
     },
     "execution_count": 29,
     "metadata": {},
     "output_type": "execute_result"
    }
   ],
   "source": [
    "df_changed.size"
   ]
  },
  {
   "cell_type": "code",
   "execution_count": 30,
   "metadata": {
    "ExecuteTime": {
     "end_time": "2020-02-12T08:03:04.078785Z",
     "start_time": "2020-02-12T08:03:04.073788Z"
    }
   },
   "outputs": [
    {
     "data": {
      "text/plain": [
       "18"
      ]
     },
     "execution_count": 30,
     "metadata": {},
     "output_type": "execute_result"
    }
   ],
   "source": [
    "df_added.size"
   ]
  },
  {
   "cell_type": "code",
   "execution_count": 31,
   "metadata": {
    "ExecuteTime": {
     "end_time": "2020-02-12T08:03:04.504523Z",
     "start_time": "2020-02-12T08:03:04.496527Z"
    }
   },
   "outputs": [
    {
     "data": {
      "text/plain": [
       "['กรมการอุตสาหกรรมทหาร',\n",
       " 'กรมอุตสาหกรรมพื้นฐานและการเหมืองแร่',\n",
       " 'กรมธุรกิจพลังงาน',\n",
       " 'สำนักงานมาตรฐานสินค้าเกษตรและอาหารแห่งชาติ',\n",
       " 'กรมอุทยานแห่งชาติ สัตว์ป่าและพันธุ์พืช',\n",
       " 'สำนักงานคณะกรรมการกิจการกระจายเสียง กิจการโทรทัศน์ และกิจการโทรคมนาคมแห่งชาติ',\n",
       " 'สำนักงานคณะกรรมการอ้อยและน้ำตาลทราย',\n",
       " 'กรมวิชาการเกษตร',\n",
       " 'กรมปศุสัตว์',\n",
       " 'สำนักงานปรมาณูเพื่อสันติ',\n",
       " 'กรมการค้าต่างประเทศ',\n",
       " 'กรมป่าไม้',\n",
       " 'กรมประมง',\n",
       " 'กรมสรรพสามิต',\n",
       " 'กรมวิทยาศาสตร์การแพทย์',\n",
       " 'กรมทรัพยากรธรณี',\n",
       " 'กรมการค้าภายใน',\n",
       " 'กรมการปกครอง',\n",
       " 'กรมศิลปากร',\n",
       " 'สำนักงานมาตรฐานผลิตภัณฑ์อุตสาหกรรม',\n",
       " 'สำนักงานคณะกรรมการอาหารและยา',\n",
       " 'กรมโรงงานอุตสาหกรรม',\n",
       " 'การยางแห่งประเทศไทย',\n",
       " nan]"
      ]
     },
     "execution_count": 31,
     "metadata": {},
     "output_type": "execute_result"
    }
   ],
   "source": [
    "aut = list(new['หน่วยงาน'].unique())\n",
    "aut"
   ]
  },
  {
   "cell_type": "code",
   "execution_count": 32,
   "metadata": {
    "ExecuteTime": {
     "end_time": "2020-02-12T08:03:05.525925Z",
     "start_time": "2020-02-12T08:03:05.522926Z"
    }
   },
   "outputs": [
    {
     "data": {
      "text/plain": [
       "(11060, 18)"
      ]
     },
     "execution_count": 32,
     "metadata": {},
     "output_type": "execute_result"
    }
   ],
   "source": [
    "new.shape"
   ]
  },
  {
   "cell_type": "markdown",
   "metadata": {},
   "source": [
    "## Write to Excel for e-mail"
   ]
  },
  {
   "cell_type": "code",
   "execution_count": 33,
   "metadata": {
    "ExecuteTime": {
     "end_time": "2020-02-12T08:03:08.308481Z",
     "start_time": "2020-02-12T08:03:08.285495Z"
    },
    "scrolled": false
   },
   "outputs": [
    {
     "data": {
      "text/html": [
       "<div>\n",
       "<style scoped>\n",
       "    .dataframe tbody tr th:only-of-type {\n",
       "        vertical-align: middle;\n",
       "    }\n",
       "\n",
       "    .dataframe tbody tr th {\n",
       "        vertical-align: top;\n",
       "    }\n",
       "\n",
       "    .dataframe thead th {\n",
       "        text-align: right;\n",
       "    }\n",
       "</style>\n",
       "<table border=\"1\" class=\"dataframe\">\n",
       "  <thead>\n",
       "    <tr style=\"text-align: right;\">\n",
       "      <th></th>\n",
       "      <th>หน่วยงาน</th>\n",
       "      <th>พิกัดศุลกากร</th>\n",
       "      <th>รหัสสถิติ</th>\n",
       "      <th>ประเภท</th>\n",
       "      <th>tax</th>\n",
       "      <th>Validate Indicator(2A)</th>\n",
       "      <th>Country Code(2A)</th>\n",
       "      <th>Quantity(14NDE3)</th>\n",
       "      <th>Quantity Unit(3A)</th>\n",
       "      <th>คำอธิบายภาษาไทย</th>\n",
       "      <th>คำอธิบายภาษาอังกฤษ</th>\n",
       "      <th>Condition(512A)</th>\n",
       "      <th>Announce Number(10A)</th>\n",
       "      <th>Announce Date(8N)</th>\n",
       "      <th>วันที่เริ่มต้น</th>\n",
       "      <th>Expire Date(8N)</th>\n",
       "      <th>ID</th>\n",
       "      <th>version</th>\n",
       "    </tr>\n",
       "  </thead>\n",
       "  <tbody>\n",
       "    <tr>\n",
       "      <th>0</th>\n",
       "      <td>กรมการอุตสาหกรรมทหาร</td>\n",
       "      <td>28011000</td>\n",
       "      <td>000</td>\n",
       "      <td>นำเข้า</td>\n",
       "      <td>9.940000e+11</td>\n",
       "      <td>Y</td>\n",
       "      <td>NaN</td>\n",
       "      <td>0.0</td>\n",
       "      <td>KGM</td>\n",
       "      <td>NaN</td>\n",
       "      <td>CHLORINE</td>\n",
       "      <td>NaN</td>\n",
       "      <td>NaN</td>\n",
       "      <td>20130401.0</td>\n",
       "      <td>20130501.0</td>\n",
       "      <td>99999999.0</td>\n",
       "      <td>2801100000000994000011679</td>\n",
       "      <td>new</td>\n",
       "    </tr>\n",
       "    <tr>\n",
       "      <th>1</th>\n",
       "      <td>กรมการอุตสาหกรรมทหาร</td>\n",
       "      <td>28013000</td>\n",
       "      <td>002</td>\n",
       "      <td>นำเข้าและส่งออก</td>\n",
       "      <td>9.940000e+11</td>\n",
       "      <td>Y</td>\n",
       "      <td>NaN</td>\n",
       "      <td>0.0</td>\n",
       "      <td>KGM</td>\n",
       "      <td>โบรมีน</td>\n",
       "      <td>BROMINE</td>\n",
       "      <td>NaN</td>\n",
       "      <td>NaN</td>\n",
       "      <td>20130401.0</td>\n",
       "      <td>20130501.0</td>\n",
       "      <td>99999999.0</td>\n",
       "      <td>2801300000230994000011679</td>\n",
       "      <td>new</td>\n",
       "    </tr>\n",
       "    <tr>\n",
       "      <th>2</th>\n",
       "      <td>กรมการอุตสาหกรรมทหาร</td>\n",
       "      <td>28047000</td>\n",
       "      <td>000</td>\n",
       "      <td>นำเข้าและส่งออก</td>\n",
       "      <td>9.940000e+11</td>\n",
       "      <td>Y</td>\n",
       "      <td>NaN</td>\n",
       "      <td>0.0</td>\n",
       "      <td>NaN</td>\n",
       "      <td>ฟอสฟอรัส</td>\n",
       "      <td>Phosphorus</td>\n",
       "      <td>NaN</td>\n",
       "      <td>NaN</td>\n",
       "      <td>0.0</td>\n",
       "      <td>20141101.0</td>\n",
       "      <td>99999999.0</td>\n",
       "      <td>2804700000030994000011679</td>\n",
       "      <td>new</td>\n",
       "    </tr>\n",
       "    <tr>\n",
       "      <th>3</th>\n",
       "      <td>กรมการอุตสาหกรรมทหาร</td>\n",
       "      <td>28062000</td>\n",
       "      <td>001</td>\n",
       "      <td>นำเข้าและส่งออก</td>\n",
       "      <td>9.940000e+11</td>\n",
       "      <td>Y</td>\n",
       "      <td>NaN</td>\n",
       "      <td>0.0</td>\n",
       "      <td>KGM</td>\n",
       "      <td>NaN</td>\n",
       "      <td>CHLOROSULPHONIC ACID</td>\n",
       "      <td>NaN</td>\n",
       "      <td>NaN</td>\n",
       "      <td>20130401.0</td>\n",
       "      <td>20130501.0</td>\n",
       "      <td>99999999.0</td>\n",
       "      <td>2806200000130994000011679</td>\n",
       "      <td>new</td>\n",
       "    </tr>\n",
       "    <tr>\n",
       "      <th>4</th>\n",
       "      <td>กรมการอุตสาหกรรมทหาร</td>\n",
       "      <td>28111100</td>\n",
       "      <td>201</td>\n",
       "      <td>นำเข้าและส่งออก</td>\n",
       "      <td>9.940000e+11</td>\n",
       "      <td>Y</td>\n",
       "      <td>NaN</td>\n",
       "      <td>0.0</td>\n",
       "      <td>KGM</td>\n",
       "      <td>NaN</td>\n",
       "      <td>HYDROGEN FLUOURIDE (GAS)</td>\n",
       "      <td>NaN</td>\n",
       "      <td>NaN</td>\n",
       "      <td>20130401.0</td>\n",
       "      <td>20130501.0</td>\n",
       "      <td>99999999.0</td>\n",
       "      <td>2811110020130994000011679</td>\n",
       "      <td>new</td>\n",
       "    </tr>\n",
       "  </tbody>\n",
       "</table>\n",
       "</div>"
      ],
      "text/plain": [
       "               หน่วยงาน พิกัดศุลกากร รหัสสถิติ           ประเภท           tax  \\\n",
       "0  กรมการอุตสาหกรรมทหาร     28011000       000           นำเข้า  9.940000e+11   \n",
       "1  กรมการอุตสาหกรรมทหาร     28013000       002  นำเข้าและส่งออก  9.940000e+11   \n",
       "2  กรมการอุตสาหกรรมทหาร     28047000       000  นำเข้าและส่งออก  9.940000e+11   \n",
       "3  กรมการอุตสาหกรรมทหาร     28062000       001  นำเข้าและส่งออก  9.940000e+11   \n",
       "4  กรมการอุตสาหกรรมทหาร     28111100       201  นำเข้าและส่งออก  9.940000e+11   \n",
       "\n",
       "  Validate Indicator(2A) Country Code(2A)  Quantity(14NDE3) Quantity Unit(3A)  \\\n",
       "0                      Y              NaN               0.0               KGM   \n",
       "1                      Y              NaN               0.0               KGM   \n",
       "2                      Y              NaN               0.0               NaN   \n",
       "3                      Y              NaN               0.0               KGM   \n",
       "4                      Y              NaN               0.0               KGM   \n",
       "\n",
       "  คำอธิบายภาษาไทย        คำอธิบายภาษาอังกฤษ Condition(512A)  \\\n",
       "0             NaN                  CHLORINE             NaN   \n",
       "1          โบรมีน                   BROMINE             NaN   \n",
       "2        ฟอสฟอรัส                Phosphorus             NaN   \n",
       "3             NaN      CHLOROSULPHONIC ACID             NaN   \n",
       "4             NaN  HYDROGEN FLUOURIDE (GAS)             NaN   \n",
       "\n",
       "  Announce Number(10A)  Announce Date(8N)  วันที่เริ่มต้น  Expire Date(8N)  \\\n",
       "0                  NaN         20130401.0      20130501.0       99999999.0   \n",
       "1                  NaN         20130401.0      20130501.0       99999999.0   \n",
       "2                  NaN                0.0      20141101.0       99999999.0   \n",
       "3                  NaN         20130401.0      20130501.0       99999999.0   \n",
       "4                  NaN         20130401.0      20130501.0       99999999.0   \n",
       "\n",
       "                          ID version  \n",
       "0  2801100000000994000011679     new  \n",
       "1  2801300000230994000011679     new  \n",
       "2  2804700000030994000011679     new  \n",
       "3  2806200000130994000011679     new  \n",
       "4  2811110020130994000011679     new  "
      ]
     },
     "execution_count": 33,
     "metadata": {},
     "output_type": "execute_result"
    }
   ],
   "source": [
    "new.head()"
   ]
  },
  {
   "cell_type": "code",
   "execution_count": 34,
   "metadata": {
    "ExecuteTime": {
     "end_time": "2020-02-12T08:03:18.740230Z",
     "start_time": "2020-02-12T08:03:13.996147Z"
    },
    "scrolled": true
   },
   "outputs": [
    {
     "data": {
      "text/html": [
       "<div>\n",
       "<style scoped>\n",
       "    .dataframe tbody tr th:only-of-type {\n",
       "        vertical-align: middle;\n",
       "    }\n",
       "\n",
       "    .dataframe tbody tr th {\n",
       "        vertical-align: top;\n",
       "    }\n",
       "\n",
       "    .dataframe thead th {\n",
       "        text-align: right;\n",
       "    }\n",
       "</style>\n",
       "<table border=\"1\" class=\"dataframe\">\n",
       "  <thead>\n",
       "    <tr style=\"text-align: right;\">\n",
       "      <th></th>\n",
       "      <th>หน่วยงาน</th>\n",
       "      <th>พิกัดศุลกากร</th>\n",
       "      <th>รหัสสถิติ</th>\n",
       "      <th>ประเภท</th>\n",
       "      <th>tax</th>\n",
       "      <th>Validate Indicator(2A)</th>\n",
       "      <th>Country Code(2A)</th>\n",
       "      <th>Quantity(14NDE3)</th>\n",
       "      <th>Quantity Unit(3A)</th>\n",
       "      <th>คำอธิบายภาษาไทย</th>\n",
       "      <th>คำอธิบายภาษาอังกฤษ</th>\n",
       "      <th>Condition(512A)</th>\n",
       "      <th>Announce Number(10A)</th>\n",
       "      <th>Announce Date(8N)</th>\n",
       "      <th>วันที่เริ่มต้น</th>\n",
       "      <th>Expire Date(8N)</th>\n",
       "      <th>ID</th>\n",
       "      <th>version</th>\n",
       "    </tr>\n",
       "  </thead>\n",
       "  <tbody>\n",
       "    <tr>\n",
       "      <th>1</th>\n",
       "      <td>กรมการอุตสาหกรรมทหาร</td>\n",
       "      <td>28011000</td>\n",
       "      <td>000</td>\n",
       "      <td>นำเข้า</td>\n",
       "      <td>9.940000e+11</td>\n",
       "      <td>Y</td>\n",
       "      <td>NaN</td>\n",
       "      <td>0.0</td>\n",
       "      <td>KGM</td>\n",
       "      <td>NaN</td>\n",
       "      <td>CHLORINE</td>\n",
       "      <td>NaN</td>\n",
       "      <td>NaN</td>\n",
       "      <td>20130401.0</td>\n",
       "      <td>20130501.0</td>\n",
       "      <td>99999999.0</td>\n",
       "      <td>2801100000000994000011679</td>\n",
       "      <td>new</td>\n",
       "    </tr>\n",
       "    <tr>\n",
       "      <th>2</th>\n",
       "      <td>กรมการอุตสาหกรรมทหาร</td>\n",
       "      <td>28013000</td>\n",
       "      <td>002</td>\n",
       "      <td>นำเข้าและส่งออก</td>\n",
       "      <td>9.940000e+11</td>\n",
       "      <td>Y</td>\n",
       "      <td>NaN</td>\n",
       "      <td>0.0</td>\n",
       "      <td>KGM</td>\n",
       "      <td>โบรมีน</td>\n",
       "      <td>BROMINE</td>\n",
       "      <td>NaN</td>\n",
       "      <td>NaN</td>\n",
       "      <td>20130401.0</td>\n",
       "      <td>20130501.0</td>\n",
       "      <td>99999999.0</td>\n",
       "      <td>2801300000230994000011679</td>\n",
       "      <td>new</td>\n",
       "    </tr>\n",
       "    <tr>\n",
       "      <th>3</th>\n",
       "      <td>กรมการอุตสาหกรรมทหาร</td>\n",
       "      <td>28047000</td>\n",
       "      <td>000</td>\n",
       "      <td>นำเข้าและส่งออก</td>\n",
       "      <td>9.940000e+11</td>\n",
       "      <td>Y</td>\n",
       "      <td>NaN</td>\n",
       "      <td>0.0</td>\n",
       "      <td>NaN</td>\n",
       "      <td>ฟอสฟอรัส</td>\n",
       "      <td>Phosphorus</td>\n",
       "      <td>NaN</td>\n",
       "      <td>NaN</td>\n",
       "      <td>0.0</td>\n",
       "      <td>20141101.0</td>\n",
       "      <td>99999999.0</td>\n",
       "      <td>2804700000030994000011679</td>\n",
       "      <td>new</td>\n",
       "    </tr>\n",
       "    <tr>\n",
       "      <th>4</th>\n",
       "      <td>กรมการอุตสาหกรรมทหาร</td>\n",
       "      <td>28062000</td>\n",
       "      <td>001</td>\n",
       "      <td>นำเข้าและส่งออก</td>\n",
       "      <td>9.940000e+11</td>\n",
       "      <td>Y</td>\n",
       "      <td>NaN</td>\n",
       "      <td>0.0</td>\n",
       "      <td>KGM</td>\n",
       "      <td>NaN</td>\n",
       "      <td>CHLOROSULPHONIC ACID</td>\n",
       "      <td>NaN</td>\n",
       "      <td>NaN</td>\n",
       "      <td>20130401.0</td>\n",
       "      <td>20130501.0</td>\n",
       "      <td>99999999.0</td>\n",
       "      <td>2806200000130994000011679</td>\n",
       "      <td>new</td>\n",
       "    </tr>\n",
       "    <tr>\n",
       "      <th>5</th>\n",
       "      <td>กรมการอุตสาหกรรมทหาร</td>\n",
       "      <td>28111100</td>\n",
       "      <td>201</td>\n",
       "      <td>นำเข้าและส่งออก</td>\n",
       "      <td>9.940000e+11</td>\n",
       "      <td>Y</td>\n",
       "      <td>NaN</td>\n",
       "      <td>0.0</td>\n",
       "      <td>KGM</td>\n",
       "      <td>NaN</td>\n",
       "      <td>HYDROGEN FLUOURIDE (GAS)</td>\n",
       "      <td>NaN</td>\n",
       "      <td>NaN</td>\n",
       "      <td>20130401.0</td>\n",
       "      <td>20130501.0</td>\n",
       "      <td>99999999.0</td>\n",
       "      <td>2811110020130994000011679</td>\n",
       "      <td>new</td>\n",
       "    </tr>\n",
       "  </tbody>\n",
       "</table>\n",
       "</div>"
      ],
      "text/plain": [
       "               หน่วยงาน พิกัดศุลกากร รหัสสถิติ           ประเภท           tax  \\\n",
       "1  กรมการอุตสาหกรรมทหาร     28011000       000           นำเข้า  9.940000e+11   \n",
       "2  กรมการอุตสาหกรรมทหาร     28013000       002  นำเข้าและส่งออก  9.940000e+11   \n",
       "3  กรมการอุตสาหกรรมทหาร     28047000       000  นำเข้าและส่งออก  9.940000e+11   \n",
       "4  กรมการอุตสาหกรรมทหาร     28062000       001  นำเข้าและส่งออก  9.940000e+11   \n",
       "5  กรมการอุตสาหกรรมทหาร     28111100       201  นำเข้าและส่งออก  9.940000e+11   \n",
       "\n",
       "  Validate Indicator(2A) Country Code(2A)  Quantity(14NDE3) Quantity Unit(3A)  \\\n",
       "1                      Y              NaN               0.0               KGM   \n",
       "2                      Y              NaN               0.0               KGM   \n",
       "3                      Y              NaN               0.0               NaN   \n",
       "4                      Y              NaN               0.0               KGM   \n",
       "5                      Y              NaN               0.0               KGM   \n",
       "\n",
       "  คำอธิบายภาษาไทย        คำอธิบายภาษาอังกฤษ Condition(512A)  \\\n",
       "1             NaN                  CHLORINE             NaN   \n",
       "2          โบรมีน                   BROMINE             NaN   \n",
       "3        ฟอสฟอรัส                Phosphorus             NaN   \n",
       "4             NaN      CHLOROSULPHONIC ACID             NaN   \n",
       "5             NaN  HYDROGEN FLUOURIDE (GAS)             NaN   \n",
       "\n",
       "  Announce Number(10A)  Announce Date(8N)  วันที่เริ่มต้น  Expire Date(8N)  \\\n",
       "1                  NaN         20130401.0      20130501.0       99999999.0   \n",
       "2                  NaN         20130401.0      20130501.0       99999999.0   \n",
       "3                  NaN                0.0      20141101.0       99999999.0   \n",
       "4                  NaN         20130401.0      20130501.0       99999999.0   \n",
       "5                  NaN         20130401.0      20130501.0       99999999.0   \n",
       "\n",
       "                          ID version  \n",
       "1  2801100000000994000011679     new  \n",
       "2  2801300000230994000011679     new  \n",
       "3  2804700000030994000011679     new  \n",
       "4  2806200000130994000011679     new  \n",
       "5  2811110020130994000011679     new  "
      ]
     },
     "execution_count": 34,
     "metadata": {},
     "output_type": "execute_result"
    }
   ],
   "source": [
    "new.index += 1\n",
    "new.to_excel('data/export_permission.xlsx' ,index=True)\n",
    "new.head()"
   ]
  },
  {
   "cell_type": "markdown",
   "metadata": {},
   "source": [
    "## Create Markdown"
   ]
  },
  {
   "cell_type": "code",
   "execution_count": 36,
   "metadata": {
    "ExecuteTime": {
     "end_time": "2020-02-04T08:06:17.994990Z",
     "start_time": "2020-02-04T08:06:17.977001Z"
    }
   },
   "outputs": [],
   "source": [
    "def create_md(df):\n",
    "    col_name = df.columns\n",
    "    md = \"| \"\n",
    "    for i in range (len(col_name)):\n",
    "        \n",
    "        md += col_name[i]+\" |\"\n",
    "    md += '\\n'+\"|\"\n",
    "    for i in range (len(col_name)):\n",
    "        word = len(col_name[i])\n",
    "        if word <= 5:\n",
    "            md += \"-----|\"\n",
    "        else:\n",
    "            md += \"----------|\"\n",
    "    md += '\\n' \n",
    "  \n",
    "    \n",
    "    lst_heads = list(col_name)\n",
    "    for col_idx,data in df.iterrows():    \n",
    "      # md += \"|\"+ str(col_idx+1)+\"|\"\n",
    "        md +=  \"| \"\n",
    "        for i in range(len(lst_heads)):\n",
    "            md +=  str(data[i]) + \" |\"\n",
    "        md += '\\n'    \n",
    "    print(md)       "
   ]
  },
  {
   "cell_type": "code",
   "execution_count": 41,
   "metadata": {
    "ExecuteTime": {
     "end_time": "2020-02-04T08:09:18.562032Z",
     "start_time": "2020-02-04T08:09:18.546043Z"
    }
   },
   "outputs": [
    {
     "data": {
      "text/html": [
       "<div>\n",
       "<style scoped>\n",
       "    .dataframe tbody tr th:only-of-type {\n",
       "        vertical-align: middle;\n",
       "    }\n",
       "\n",
       "    .dataframe tbody tr th {\n",
       "        vertical-align: top;\n",
       "    }\n",
       "\n",
       "    .dataframe thead th {\n",
       "        text-align: right;\n",
       "    }\n",
       "</style>\n",
       "<table border=\"1\" class=\"dataframe\">\n",
       "  <thead>\n",
       "    <tr style=\"text-align: right;\">\n",
       "      <th></th>\n",
       "      <th>No</th>\n",
       "      <th>พิกัดศุลกากร</th>\n",
       "      <th>รหัสสถิติ</th>\n",
       "      <th>ประเภท</th>\n",
       "      <th>หน่วยงาน</th>\n",
       "      <th>คำอธิบายภาษาไทย</th>\n",
       "      <th>คำอธิบายภาษาอังกฤษ</th>\n",
       "    </tr>\n",
       "  </thead>\n",
       "  <tbody>\n",
       "    <tr>\n",
       "      <th>0</th>\n",
       "      <td>1</td>\n",
       "      <td>38089190</td>\n",
       "      <td>409</td>\n",
       "      <td>นำเข้าและส่งออก</td>\n",
       "      <td>กรมวิชาการเกษตร</td>\n",
       "      <td>แลมบ์ดา-ไซฮาโลทริน</td>\n",
       "      <td>lambda-cyhalothrin</td>\n",
       "    </tr>\n",
       "    <tr>\n",
       "      <th>1</th>\n",
       "      <td>2</td>\n",
       "      <td>38089190</td>\n",
       "      <td>406</td>\n",
       "      <td>ส่งออก</td>\n",
       "      <td>สำนักงานคณะกรรมการอาหารและยา</td>\n",
       "      <td>ไซฟลูทริน</td>\n",
       "      <td>CYFLUTHRIN</td>\n",
       "    </tr>\n",
       "    <tr>\n",
       "      <th>2</th>\n",
       "      <td>3</td>\n",
       "      <td>38089190</td>\n",
       "      <td>409</td>\n",
       "      <td>ส่งออก</td>\n",
       "      <td>สำนักงานคณะกรรมการอาหารและยา</td>\n",
       "      <td>แลมบ์ดา-ไซฮาโลทริน</td>\n",
       "      <td>lambda-CYHALOTHRIN</td>\n",
       "    </tr>\n",
       "    <tr>\n",
       "      <th>3</th>\n",
       "      <td>4</td>\n",
       "      <td>38089190</td>\n",
       "      <td>409</td>\n",
       "      <td>นำเข้า</td>\n",
       "      <td>สำนักงานคณะกรรมการอาหารและยา</td>\n",
       "      <td>แลมบ์ดา-ไซฮาโลทริน</td>\n",
       "      <td>lambda-CYHALOTHRIN</td>\n",
       "    </tr>\n",
       "  </tbody>\n",
       "</table>\n",
       "</div>"
      ],
      "text/plain": [
       "   No  พิกัดศุลกากร  รหัสสถิติ           ประเภท                      หน่วยงาน  \\\n",
       "0   1      38089190        409  นำเข้าและส่งออก               กรมวิชาการเกษตร   \n",
       "1   2      38089190        406           ส่งออก  สำนักงานคณะกรรมการอาหารและยา   \n",
       "2   3      38089190        409           ส่งออก  สำนักงานคณะกรรมการอาหารและยา   \n",
       "3   4      38089190        409           นำเข้า  สำนักงานคณะกรรมการอาหารและยา   \n",
       "\n",
       "      คำอธิบายภาษาไทย  คำอธิบายภาษาอังกฤษ  \n",
       "0  แลมบ์ดา-ไซฮาโลทริน  lambda-cyhalothrin  \n",
       "1           ไซฟลูทริน          CYFLUTHRIN  \n",
       "2  แลมบ์ดา-ไซฮาโลทริน  lambda-CYHALOTHRIN  \n",
       "3  แลมบ์ดา-ไซฮาโลทริน  lambda-CYHALOTHRIN  "
      ]
     },
     "execution_count": 41,
     "metadata": {},
     "output_type": "execute_result"
    }
   ],
   "source": [
    "## Read  data from Clipboard\n",
    "\n",
    "df = pd.read_clipboard()\n",
    "df"
   ]
  },
  {
   "cell_type": "code",
   "execution_count": 42,
   "metadata": {
    "ExecuteTime": {
     "end_time": "2020-02-04T08:09:19.757890Z",
     "start_time": "2020-02-04T08:09:19.751892Z"
    }
   },
   "outputs": [
    {
     "name": "stdout",
     "output_type": "stream",
     "text": [
      "| No |พิกัดศุลกากร |รหัสสถิติ |ประเภท |หน่วยงาน |คำอธิบายภาษาไทย |คำอธิบายภาษาอังกฤษ |\n",
      "|-----|----------|----------|----------|----------|----------|----------|\n",
      "| 1 |38089190 |409 |นำเข้าและส่งออก |กรมวิชาการเกษตร |แลมบ์ดา-ไซฮาโลทริน |lambda-cyhalothrin |\n",
      "| 2 |38089190 |406 |ส่งออก |สำนักงานคณะกรรมการอาหารและยา |ไซฟลูทริน |CYFLUTHRIN |\n",
      "| 3 |38089190 |409 |ส่งออก |สำนักงานคณะกรรมการอาหารและยา |แลมบ์ดา-ไซฮาโลทริน |lambda-CYHALOTHRIN |\n",
      "| 4 |38089190 |409 |นำเข้า |สำนักงานคณะกรรมการอาหารและยา |แลมบ์ดา-ไซฮาโลทริน |lambda-CYHALOTHRIN |\n",
      "\n"
     ]
    }
   ],
   "source": [
    "## Create Markdown\n",
    "\n",
    "create_md(df)"
   ]
  },
  {
   "cell_type": "code",
   "execution_count": null,
   "metadata": {},
   "outputs": [],
   "source": []
  },
  {
   "cell_type": "code",
   "execution_count": null,
   "metadata": {},
   "outputs": [],
   "source": []
  }
 ],
 "metadata": {
  "kernelspec": {
   "display_name": "Python 3",
   "language": "python",
   "name": "python3"
  },
  "language_info": {
   "codemirror_mode": {
    "name": "ipython",
    "version": 3
   },
   "file_extension": ".py",
   "mimetype": "text/x-python",
   "name": "python",
   "nbconvert_exporter": "python",
   "pygments_lexer": "ipython3",
   "version": "3.6.10"
  },
  "latex_envs": {
   "LaTeX_envs_menu_present": true,
   "autoclose": false,
   "autocomplete": true,
   "bibliofile": "biblio.bib",
   "cite_by": "apalike",
   "current_citInitial": 1,
   "eqLabelWithNumbers": true,
   "eqNumInitial": 1,
   "hotkeys": {
    "equation": "Ctrl-E",
    "itemize": "Ctrl-I"
   },
   "labels_anchors": false,
   "latex_user_defs": false,
   "report_style_numbering": false,
   "user_envs_cfg": false
  },
  "toc": {
   "base_numbering": 1,
   "nav_menu": {},
   "number_sections": false,
   "sideBar": true,
   "skip_h1_title": false,
   "title_cell": "Table of Contents",
   "title_sidebar": "Contents",
   "toc_cell": false,
   "toc_position": {
    "height": "calc(100% - 180px)",
    "left": "10px",
    "top": "150px",
    "width": "384px"
   },
   "toc_section_display": true,
   "toc_window_display": true
  },
  "varInspector": {
   "cols": {
    "lenName": 16,
    "lenType": 16,
    "lenVar": 40
   },
   "kernels_config": {
    "python": {
     "delete_cmd_postfix": "",
     "delete_cmd_prefix": "del ",
     "library": "var_list.py",
     "varRefreshCmd": "print(var_dic_list())"
    },
    "r": {
     "delete_cmd_postfix": ") ",
     "delete_cmd_prefix": "rm(",
     "library": "var_list.r",
     "varRefreshCmd": "cat(var_dic_list()) "
    }
   },
   "types_to_exclude": [
    "module",
    "function",
    "builtin_function_or_method",
    "instance",
    "_Feature"
   ],
   "window_display": false
  }
 },
 "nbformat": 4,
 "nbformat_minor": 2
}
