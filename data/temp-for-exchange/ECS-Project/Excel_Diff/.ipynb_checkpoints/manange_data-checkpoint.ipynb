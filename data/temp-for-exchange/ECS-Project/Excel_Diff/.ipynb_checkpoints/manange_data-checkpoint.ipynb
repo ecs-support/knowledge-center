{
 "cells": [
  {
   "cell_type": "code",
   "execution_count": null,
   "metadata": {},
   "outputs": [],
   "source": [
    "Permission_Goods_1\n",
    "\n",
    "msft = pd.read_csv(\"data/msft.csv\", \n",
    "                   dtype = { 'Volume' : np.float64})\n",
    "msft.dtypes"
   ]
  },
  {
   "cell_type": "code",
   "execution_count": 8,
   "metadata": {
    "ExecuteTime": {
     "end_time": "2019-08-29T11:01:06.036735Z",
     "start_time": "2019-08-29T11:01:04.133656Z"
    }
   },
   "outputs": [
    {
     "data": {
      "text/plain": [
       "หน่วยงาน                                      object\n",
       "Tariff Classification(12 N)                    int64\n",
       "Tariff Statistical Code (3N)                  object\n",
       "Permission Goods Type(2A)                      int64\n",
       "Company Tax Number(17A)                        int64\n",
       "Validate Indicator(2A)                        object\n",
       "Country Code(2A)                              object\n",
       "Quantity(14NDE3)                               int64\n",
       "Quantity Unit(3A)                             object\n",
       "Permission Goods Thai Description(512A)       object\n",
       "Permission Goods English Description(512A)    object\n",
       "Condition(512A)                               object\n",
       "Announce Number(10A)                          object\n",
       "Announce Date(8N)                              int64\n",
       "Start Date(8N)                                 int64\n",
       "Expire Date(8N)                                int64\n",
       "dtype: object"
      ]
     },
     "execution_count": 8,
     "metadata": {},
     "output_type": "execute_result"
    }
   ],
   "source": [
    "import pandas as pd\n",
    "\n",
    "df = pd.read_excel('data/Permission_Goods_1.xlsx', 'Sheet1', na_values=['NA'],\n",
    "                  dtype = { 'Tariff Statistical Code (3N)' : np.object})\n",
    "df.dtypes"
   ]
  },
  {
   "cell_type": "code",
   "execution_count": 10,
   "metadata": {
    "ExecuteTime": {
     "end_time": "2019-08-29T11:01:27.367814Z",
     "start_time": "2019-08-29T11:01:27.349823Z"
    }
   },
   "outputs": [
    {
     "data": {
      "text/html": [
       "<div>\n",
       "<style scoped>\n",
       "    .dataframe tbody tr th:only-of-type {\n",
       "        vertical-align: middle;\n",
       "    }\n",
       "\n",
       "    .dataframe tbody tr th {\n",
       "        vertical-align: top;\n",
       "    }\n",
       "\n",
       "    .dataframe thead th {\n",
       "        text-align: right;\n",
       "    }\n",
       "</style>\n",
       "<table border=\"1\" class=\"dataframe\">\n",
       "  <thead>\n",
       "    <tr style=\"text-align: right;\">\n",
       "      <th></th>\n",
       "      <th>หน่วยงาน</th>\n",
       "      <th>Tariff Classification(12 N)</th>\n",
       "      <th>Tariff Statistical Code (3N)</th>\n",
       "      <th>Permission Goods Type(2A)</th>\n",
       "      <th>Company Tax Number(17A)</th>\n",
       "      <th>Validate Indicator(2A)</th>\n",
       "      <th>Country Code(2A)</th>\n",
       "      <th>Quantity(14NDE3)</th>\n",
       "      <th>Quantity Unit(3A)</th>\n",
       "      <th>Permission Goods Thai Description(512A)</th>\n",
       "      <th>Permission Goods English Description(512A)</th>\n",
       "      <th>Condition(512A)</th>\n",
       "      <th>Announce Number(10A)</th>\n",
       "      <th>Announce Date(8N)</th>\n",
       "      <th>Start Date(8N)</th>\n",
       "      <th>Expire Date(8N)</th>\n",
       "    </tr>\n",
       "  </thead>\n",
       "  <tbody>\n",
       "    <tr>\n",
       "      <th>0</th>\n",
       "      <td>กรมการอุตสาหกรรมทหาร</td>\n",
       "      <td>28011000</td>\n",
       "      <td>000</td>\n",
       "      <td>0</td>\n",
       "      <td>994000011679</td>\n",
       "      <td>Y</td>\n",
       "      <td>NaN</td>\n",
       "      <td>0</td>\n",
       "      <td>KGM</td>\n",
       "      <td>NaN</td>\n",
       "      <td>CHLORINE</td>\n",
       "      <td>NaN</td>\n",
       "      <td>NaN</td>\n",
       "      <td>20130401</td>\n",
       "      <td>20130501</td>\n",
       "      <td>99999999</td>\n",
       "    </tr>\n",
       "    <tr>\n",
       "      <th>1</th>\n",
       "      <td>กรมการอุตสาหกรรมทหาร</td>\n",
       "      <td>28013000</td>\n",
       "      <td>002</td>\n",
       "      <td>3</td>\n",
       "      <td>994000011679</td>\n",
       "      <td>Y</td>\n",
       "      <td>NaN</td>\n",
       "      <td>0</td>\n",
       "      <td>KGM</td>\n",
       "      <td>โบรมีน</td>\n",
       "      <td>BROMINE</td>\n",
       "      <td>NaN</td>\n",
       "      <td>NaN</td>\n",
       "      <td>20130401</td>\n",
       "      <td>20130501</td>\n",
       "      <td>99999999</td>\n",
       "    </tr>\n",
       "    <tr>\n",
       "      <th>2</th>\n",
       "      <td>กรมการอุตสาหกรรมทหาร</td>\n",
       "      <td>28047000</td>\n",
       "      <td>000</td>\n",
       "      <td>3</td>\n",
       "      <td>994000011679</td>\n",
       "      <td>Y</td>\n",
       "      <td>NaN</td>\n",
       "      <td>0</td>\n",
       "      <td>NaN</td>\n",
       "      <td>ฟอสฟอรัส</td>\n",
       "      <td>Phosphorus</td>\n",
       "      <td>NaN</td>\n",
       "      <td>NaN</td>\n",
       "      <td>0</td>\n",
       "      <td>20141101</td>\n",
       "      <td>99999999</td>\n",
       "    </tr>\n",
       "    <tr>\n",
       "      <th>3</th>\n",
       "      <td>กรมการอุตสาหกรรมทหาร</td>\n",
       "      <td>28062000</td>\n",
       "      <td>001</td>\n",
       "      <td>3</td>\n",
       "      <td>994000011679</td>\n",
       "      <td>Y</td>\n",
       "      <td>NaN</td>\n",
       "      <td>0</td>\n",
       "      <td>KGM</td>\n",
       "      <td>NaN</td>\n",
       "      <td>CHLOROSULPHONIC ACID</td>\n",
       "      <td>NaN</td>\n",
       "      <td>NaN</td>\n",
       "      <td>20130401</td>\n",
       "      <td>20130501</td>\n",
       "      <td>99999999</td>\n",
       "    </tr>\n",
       "    <tr>\n",
       "      <th>4</th>\n",
       "      <td>กรมการอุตสาหกรรมทหาร</td>\n",
       "      <td>28111100</td>\n",
       "      <td>201</td>\n",
       "      <td>3</td>\n",
       "      <td>994000011679</td>\n",
       "      <td>Y</td>\n",
       "      <td>NaN</td>\n",
       "      <td>0</td>\n",
       "      <td>KGM</td>\n",
       "      <td>NaN</td>\n",
       "      <td>HYDROGEN FLUOURIDE (GAS)</td>\n",
       "      <td>NaN</td>\n",
       "      <td>NaN</td>\n",
       "      <td>20130401</td>\n",
       "      <td>20130501</td>\n",
       "      <td>99999999</td>\n",
       "    </tr>\n",
       "  </tbody>\n",
       "</table>\n",
       "</div>"
      ],
      "text/plain": [
       "               หน่วยงาน  Tariff Classification(12 N)  \\\n",
       "0  กรมการอุตสาหกรรมทหาร                     28011000   \n",
       "1  กรมการอุตสาหกรรมทหาร                     28013000   \n",
       "2  กรมการอุตสาหกรรมทหาร                     28047000   \n",
       "3  กรมการอุตสาหกรรมทหาร                     28062000   \n",
       "4  กรมการอุตสาหกรรมทหาร                     28111100   \n",
       "\n",
       "  Tariff Statistical Code (3N)  Permission Goods Type(2A)  \\\n",
       "0                          000                          0   \n",
       "1                          002                          3   \n",
       "2                          000                          3   \n",
       "3                          001                          3   \n",
       "4                          201                          3   \n",
       "\n",
       "   Company Tax Number(17A) Validate Indicator(2A) Country Code(2A)  \\\n",
       "0             994000011679                      Y              NaN   \n",
       "1             994000011679                      Y              NaN   \n",
       "2             994000011679                      Y              NaN   \n",
       "3             994000011679                      Y              NaN   \n",
       "4             994000011679                      Y              NaN   \n",
       "\n",
       "   Quantity(14NDE3) Quantity Unit(3A) Permission Goods Thai Description(512A)  \\\n",
       "0                 0               KGM                                     NaN   \n",
       "1                 0               KGM                                  โบรมีน   \n",
       "2                 0               NaN                                ฟอสฟอรัส   \n",
       "3                 0               KGM                                     NaN   \n",
       "4                 0               KGM                                     NaN   \n",
       "\n",
       "  Permission Goods English Description(512A) Condition(512A)  \\\n",
       "0                                   CHLORINE             NaN   \n",
       "1                                    BROMINE             NaN   \n",
       "2                                 Phosphorus             NaN   \n",
       "3                       CHLOROSULPHONIC ACID             NaN   \n",
       "4                   HYDROGEN FLUOURIDE (GAS)             NaN   \n",
       "\n",
       "  Announce Number(10A)  Announce Date(8N)  Start Date(8N)  Expire Date(8N)  \n",
       "0                  NaN           20130401        20130501         99999999  \n",
       "1                  NaN           20130401        20130501         99999999  \n",
       "2                  NaN                  0        20141101         99999999  \n",
       "3                  NaN           20130401        20130501         99999999  \n",
       "4                  NaN           20130401        20130501         99999999  "
      ]
     },
     "execution_count": 10,
     "metadata": {},
     "output_type": "execute_result"
    }
   ],
   "source": [
    "df.head()"
   ]
  },
  {
   "cell_type": "code",
   "execution_count": null,
   "metadata": {},
   "outputs": [],
   "source": []
  },
  {
   "cell_type": "code",
   "execution_count": null,
   "metadata": {},
   "outputs": [],
   "source": []
  }
 ],
 "metadata": {
  "kernelspec": {
   "display_name": "Python 3",
   "language": "python",
   "name": "python3"
  },
  "language_info": {
   "codemirror_mode": {
    "name": "ipython",
    "version": 3
   },
   "file_extension": ".py",
   "mimetype": "text/x-python",
   "name": "python",
   "nbconvert_exporter": "python",
   "pygments_lexer": "ipython3",
   "version": "3.6.8"
  },
  "toc": {
   "base_numbering": 1,
   "nav_menu": {},
   "number_sections": false,
   "sideBar": true,
   "skip_h1_title": false,
   "title_cell": "Table of Contents",
   "title_sidebar": "Contents",
   "toc_cell": false,
   "toc_position": {},
   "toc_section_display": true,
   "toc_window_display": false
  },
  "varInspector": {
   "cols": {
    "lenName": 16,
    "lenType": 16,
    "lenVar": 40
   },
   "kernels_config": {
    "python": {
     "delete_cmd_postfix": "",
     "delete_cmd_prefix": "del ",
     "library": "var_list.py",
     "varRefreshCmd": "print(var_dic_list())"
    },
    "r": {
     "delete_cmd_postfix": ") ",
     "delete_cmd_prefix": "rm(",
     "library": "var_list.r",
     "varRefreshCmd": "cat(var_dic_list()) "
    }
   },
   "types_to_exclude": [
    "module",
    "function",
    "builtin_function_or_method",
    "instance",
    "_Feature"
   ],
   "window_display": false
  }
 },
 "nbformat": 4,
 "nbformat_minor": 2
}
