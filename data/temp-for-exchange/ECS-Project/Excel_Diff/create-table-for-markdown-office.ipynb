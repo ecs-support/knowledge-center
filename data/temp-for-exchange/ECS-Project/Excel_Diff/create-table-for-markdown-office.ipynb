{
 "cells": [
  {
   "cell_type": "markdown",
   "metadata": {},
   "source": [
    "# Create Table to Markdown"
   ]
  },
  {
   "cell_type": "markdown",
   "metadata": {},
   "source": [
    "## Exchange rate"
   ]
  },
  {
   "cell_type": "code",
   "execution_count": 1,
   "metadata": {
    "ExecuteTime": {
     "end_time": "2020-02-12T08:27:24.710780Z",
     "start_time": "2020-02-12T08:27:19.628399Z"
    }
   },
   "outputs": [
    {
     "name": "stdout",
     "output_type": "stream",
     "text": [
      "pandas version = 1.0.1\n",
      "bs4    version = 4.8.2\n"
     ]
    },
    {
     "data": {
      "text/plain": [
       "Timestamp('2020-02-12 15:27:24.628831')"
      ]
     },
     "execution_count": 1,
     "metadata": {},
     "output_type": "execute_result"
    }
   ],
   "source": [
    "import pandas as pd\n",
    "import requests\n",
    "import bs4\n",
    "from bs4 import BeautifulSoup\n",
    "import pandas as pd\n",
    "\n",
    "# Set some pandas options controlling output format\n",
    "\n",
    "pd.set_option('display.notebook_repr_html', False)\n",
    "pd.set_option('display.max_columns', 30)\n",
    "pd.set_option('display.max_rows', 10)\n",
    "pd.set_option('display.width', 1000)\n",
    "%config InlineBackend.figure_format='retina'\n",
    "\n",
    "\n",
    "print(f'pandas version = {pd.__version__}')\n",
    "print(f'bs4    version = {bs4.__version__}') # beautifulsoup4\n",
    "pd.Timestamp.today()"
   ]
  },
  {
   "cell_type": "code",
   "execution_count": 4,
   "metadata": {
    "ExecuteTime": {
     "end_time": "2019-12-17T10:27:20.149199Z",
     "start_time": "2019-12-17T10:27:19.391225Z"
    }
   },
   "outputs": [
    {
     "data": {
      "text/plain": [
       "     #         ประเทศ        สกุลเงิน รหัสสกุลเงิน  การส่งออก  การนำเข้า\n",
       "0    1   สหรัฐอเมริกา    ดอลลาร์สหรัฐ          USD    29.9374    30.3796\n",
       "1    2  สหราชอาณาจักร  ปอนด์สเตอร์ลิง          GBP    38.4571    39.4561\n",
       "2    3        ยูโรโซน            ยูโร          EUR    32.9220    33.7438\n",
       "3    4        ญี่ปุ่น       เยน (100)          JPY    27.3318    28.1958\n",
       "4    5         ฮ่องกง   ดอลลาร์ฮ่องกง          HKD     3.8031     3.8982\n",
       "..  ..            ...             ...          ...        ...        ...\n",
       "44  45   ปาปัวนิวกินี            กินา          PGK     8.8058     8.9090\n",
       "45  46       อิสราเอล          เชคเกล          ILS     8.6523     8.7538\n",
       "46  47        ฮังการี         โฟรินต์          HUF     0.0993     0.1005\n",
       "47  48       ปากีสถาน    รูปีปากีสถาน          PKR     0.1927     0.1950\n",
       "48  49            ไทย             บาท          THB     1.0000     1.0000\n",
       "\n",
       "[49 rows x 6 columns]"
      ]
     },
     "execution_count": 4,
     "metadata": {},
     "output_type": "execute_result"
    }
   ],
   "source": [
    "data = pd.read_html('http://www.customs.go.th/content_special.php?link=exch_search.php&lang=th&left_menu=nmenu_esevice_003')  # First Page\n",
    "table = data[2]\n",
    "table"
   ]
  },
  {
   "cell_type": "code",
   "execution_count": 17,
   "metadata": {
    "ExecuteTime": {
     "end_time": "2020-01-17T15:18:39.419310Z",
     "start_time": "2020-01-17T15:18:39.388357Z"
    },
    "scrolled": true
   },
   "outputs": [
    {
     "ename": "ValueError",
     "evalue": "Length mismatch: Expected axis has 3 elements, new values have 4 elements",
     "output_type": "error",
     "traceback": [
      "\u001b[1;31m---------------------------------------------------------------------------\u001b[0m",
      "\u001b[1;31mValueError\u001b[0m                                Traceback (most recent call last)",
      "\u001b[1;32m<ipython-input-17-e2d25cec8b1e>\u001b[0m in \u001b[0;36m<module>\u001b[1;34m\u001b[0m\n\u001b[0;32m      1\u001b[0m \u001b[0mtable\u001b[0m \u001b[1;33m=\u001b[0m \u001b[0mpd\u001b[0m\u001b[1;33m.\u001b[0m\u001b[0mread_clipboard\u001b[0m\u001b[1;33m(\u001b[0m\u001b[1;33m)\u001b[0m\u001b[1;33m\u001b[0m\u001b[1;33m\u001b[0m\u001b[0m\n\u001b[1;32m----> 2\u001b[1;33m \u001b[0mtable\u001b[0m\u001b[1;33m.\u001b[0m\u001b[0mcolumns\u001b[0m \u001b[1;33m=\u001b[0m \u001b[1;33m[\u001b[0m\u001b[1;34m'Dest'\u001b[0m\u001b[1;33m,\u001b[0m\u001b[1;34m'AAPL'\u001b[0m\u001b[1;33m,\u001b[0m \u001b[1;34m'MSFT'\u001b[0m\u001b[1;33m,\u001b[0m \u001b[1;34m'SPY'\u001b[0m\u001b[1;33m]\u001b[0m\u001b[1;33m\u001b[0m\u001b[1;33m\u001b[0m\u001b[0m\n\u001b[0m\u001b[0;32m      3\u001b[0m \u001b[0mtable\u001b[0m\u001b[1;33m\u001b[0m\u001b[1;33m\u001b[0m\u001b[0m\n",
      "\u001b[1;32mc:\\users\\user\\appdata\\local\\programs\\python\\python37-32\\lib\\site-packages\\pandas\\core\\generic.py\u001b[0m in \u001b[0;36m__setattr__\u001b[1;34m(self, name, value)\u001b[0m\n\u001b[0;32m   5190\u001b[0m         \u001b[1;32mtry\u001b[0m\u001b[1;33m:\u001b[0m\u001b[1;33m\u001b[0m\u001b[1;33m\u001b[0m\u001b[0m\n\u001b[0;32m   5191\u001b[0m             \u001b[0mobject\u001b[0m\u001b[1;33m.\u001b[0m\u001b[0m__getattribute__\u001b[0m\u001b[1;33m(\u001b[0m\u001b[0mself\u001b[0m\u001b[1;33m,\u001b[0m \u001b[0mname\u001b[0m\u001b[1;33m)\u001b[0m\u001b[1;33m\u001b[0m\u001b[1;33m\u001b[0m\u001b[0m\n\u001b[1;32m-> 5192\u001b[1;33m             \u001b[1;32mreturn\u001b[0m \u001b[0mobject\u001b[0m\u001b[1;33m.\u001b[0m\u001b[0m__setattr__\u001b[0m\u001b[1;33m(\u001b[0m\u001b[0mself\u001b[0m\u001b[1;33m,\u001b[0m \u001b[0mname\u001b[0m\u001b[1;33m,\u001b[0m \u001b[0mvalue\u001b[0m\u001b[1;33m)\u001b[0m\u001b[1;33m\u001b[0m\u001b[1;33m\u001b[0m\u001b[0m\n\u001b[0m\u001b[0;32m   5193\u001b[0m         \u001b[1;32mexcept\u001b[0m \u001b[0mAttributeError\u001b[0m\u001b[1;33m:\u001b[0m\u001b[1;33m\u001b[0m\u001b[1;33m\u001b[0m\u001b[0m\n\u001b[0;32m   5194\u001b[0m             \u001b[1;32mpass\u001b[0m\u001b[1;33m\u001b[0m\u001b[1;33m\u001b[0m\u001b[0m\n",
      "\u001b[1;32mpandas/_libs/properties.pyx\u001b[0m in \u001b[0;36mpandas._libs.properties.AxisProperty.__set__\u001b[1;34m()\u001b[0m\n",
      "\u001b[1;32mc:\\users\\user\\appdata\\local\\programs\\python\\python37-32\\lib\\site-packages\\pandas\\core\\generic.py\u001b[0m in \u001b[0;36m_set_axis\u001b[1;34m(self, axis, labels)\u001b[0m\n\u001b[0;32m    688\u001b[0m \u001b[1;33m\u001b[0m\u001b[0m\n\u001b[0;32m    689\u001b[0m     \u001b[1;32mdef\u001b[0m \u001b[0m_set_axis\u001b[0m\u001b[1;33m(\u001b[0m\u001b[0mself\u001b[0m\u001b[1;33m,\u001b[0m \u001b[0maxis\u001b[0m\u001b[1;33m,\u001b[0m \u001b[0mlabels\u001b[0m\u001b[1;33m)\u001b[0m\u001b[1;33m:\u001b[0m\u001b[1;33m\u001b[0m\u001b[1;33m\u001b[0m\u001b[0m\n\u001b[1;32m--> 690\u001b[1;33m         \u001b[0mself\u001b[0m\u001b[1;33m.\u001b[0m\u001b[0m_data\u001b[0m\u001b[1;33m.\u001b[0m\u001b[0mset_axis\u001b[0m\u001b[1;33m(\u001b[0m\u001b[0maxis\u001b[0m\u001b[1;33m,\u001b[0m \u001b[0mlabels\u001b[0m\u001b[1;33m)\u001b[0m\u001b[1;33m\u001b[0m\u001b[1;33m\u001b[0m\u001b[0m\n\u001b[0m\u001b[0;32m    691\u001b[0m         \u001b[0mself\u001b[0m\u001b[1;33m.\u001b[0m\u001b[0m_clear_item_cache\u001b[0m\u001b[1;33m(\u001b[0m\u001b[1;33m)\u001b[0m\u001b[1;33m\u001b[0m\u001b[1;33m\u001b[0m\u001b[0m\n\u001b[0;32m    692\u001b[0m \u001b[1;33m\u001b[0m\u001b[0m\n",
      "\u001b[1;32mc:\\users\\user\\appdata\\local\\programs\\python\\python37-32\\lib\\site-packages\\pandas\\core\\internals\\managers.py\u001b[0m in \u001b[0;36mset_axis\u001b[1;34m(self, axis, new_labels)\u001b[0m\n\u001b[0;32m    181\u001b[0m             raise ValueError(\n\u001b[0;32m    182\u001b[0m                 \u001b[1;34m\"Length mismatch: Expected axis has {old} elements, new \"\u001b[0m\u001b[1;33m\u001b[0m\u001b[1;33m\u001b[0m\u001b[0m\n\u001b[1;32m--> 183\u001b[1;33m                 \u001b[1;34m\"values have {new} elements\"\u001b[0m\u001b[1;33m.\u001b[0m\u001b[0mformat\u001b[0m\u001b[1;33m(\u001b[0m\u001b[0mold\u001b[0m\u001b[1;33m=\u001b[0m\u001b[0mold_len\u001b[0m\u001b[1;33m,\u001b[0m \u001b[0mnew\u001b[0m\u001b[1;33m=\u001b[0m\u001b[0mnew_len\u001b[0m\u001b[1;33m)\u001b[0m\u001b[1;33m\u001b[0m\u001b[1;33m\u001b[0m\u001b[0m\n\u001b[0m\u001b[0;32m    184\u001b[0m             )\n\u001b[0;32m    185\u001b[0m \u001b[1;33m\u001b[0m\u001b[0m\n",
      "\u001b[1;31mValueError\u001b[0m: Length mismatch: Expected axis has 3 elements, new values have 4 elements"
     ]
    }
   ],
   "source": [
    "table = pd.read_clipboard()\n",
    "table.columns = ['Dest','AAPL', 'MSFT', 'SPY']\n",
    "table"
   ]
  },
  {
   "cell_type": "code",
   "execution_count": 74,
   "metadata": {
    "ExecuteTime": {
     "end_time": "2019-10-25T05:16:40.475228Z",
     "start_time": "2019-10-25T05:16:39.503136Z"
    }
   },
   "outputs": [
    {
     "name": "stdout",
     "output_type": "stream",
     "text": [
      "success\n"
     ]
    }
   ],
   "source": [
    "table.to_excel('exchange-rate.xlsx')\n",
    "print('success')"
   ]
  },
  {
   "cell_type": "code",
   "execution_count": 14,
   "metadata": {
    "ExecuteTime": {
     "end_time": "2020-01-17T15:16:31.910746Z",
     "start_time": "2020-01-17T15:16:31.904764Z"
    }
   },
   "outputs": [
    {
     "data": {
      "text/plain": [
       "Index(['AAPL', 'MSFT', 'SPY'], dtype='object')"
      ]
     },
     "execution_count": 14,
     "metadata": {},
     "output_type": "execute_result"
    }
   ],
   "source": [
    "table.columns"
   ]
  },
  {
   "cell_type": "code",
   "execution_count": 11,
   "metadata": {
    "ExecuteTime": {
     "end_time": "2020-01-17T15:15:12.591994Z",
     "start_time": "2020-01-17T15:15:12.581023Z"
    }
   },
   "outputs": [
    {
     "data": {
      "text/plain": [
       "              AAPL         MSFT          SPY\n",
       "count  1825.000000  1825.000000  1825.000000\n",
       "mean     79.413167    37.118405   164.674986\n",
       "std      28.302440    10.814263    37.049846\n",
       "min      27.440000    23.010000   102.200000\n",
       "25%      55.460000    27.840000   131.280000\n",
       "50%      78.440000    33.030000   165.220000\n",
       "75%     103.120000    46.110000   201.990000\n",
       "max     133.000000    63.620000   227.760000"
      ]
     },
     "execution_count": 11,
     "metadata": {},
     "output_type": "execute_result"
    }
   ],
   "source": [
    "#df  = table[['ประเทศ', 'สกุลเงิน', 'รหัสสกุลเงิน', 'การส่งออก', 'การนำเข้า']]\n",
    "df = table.copy()\n",
    "df"
   ]
  },
  {
   "cell_type": "markdown",
   "metadata": {},
   "source": [
    "## จัดการส่วน Columns"
   ]
  },
  {
   "cell_type": "code",
   "execution_count": 2,
   "metadata": {
    "ExecuteTime": {
     "end_time": "2020-02-12T08:27:58.328944Z",
     "start_time": "2020-02-12T08:27:58.321948Z"
    }
   },
   "outputs": [],
   "source": [
    "def create_md(df):\n",
    "    col_name = df.columns\n",
    "    md = \"| \"\n",
    "    for i in range (len(col_name)):\n",
    "        \n",
    "        md += col_name[i]+\" |\"\n",
    "    md += '\\n'+\"|\"\n",
    "    for i in range (len(col_name)):\n",
    "        word = len(col_name[i])\n",
    "        if word <= 5:\n",
    "            md += \"-----|\"\n",
    "        else:\n",
    "            md += \"----------|\"\n",
    "    md += '\\n' \n",
    "  \n",
    "    \n",
    "    lst_heads = list(col_name)\n",
    "    for col_idx,data in df.iterrows():    \n",
    "      # md += \"|\"+ str(col_idx+1)+\"|\"\n",
    "        md +=  \"| \"\n",
    "        for i in range(len(lst_heads)):\n",
    "            md +=  str(data[i]) + \" |\"\n",
    "        md += '\\n'    \n",
    "    print(md)       "
   ]
  },
  {
   "cell_type": "code",
   "execution_count": 3,
   "metadata": {
    "ExecuteTime": {
     "end_time": "2020-02-12T08:27:59.700132Z",
     "start_time": "2020-02-12T08:27:59.432705Z"
    }
   },
   "outputs": [
    {
     "data": {
      "text/plain": [
       "   No  พิกัดศุลกากร  รหัสสถิติ           ประเภท     หน่วยงาน คำอธิบายภาษาไทย คำอธิบายภาษาอังกฤษ  วันที่เริ่มต้น\n",
       "0   1      29313900         28  นำเข้าและส่งออก  กรมปศุสัตว์     ไตรคลอร์ฟอน        Trichlorfon        20200212"
      ]
     },
     "execution_count": 3,
     "metadata": {},
     "output_type": "execute_result"
    }
   ],
   "source": [
    "df = pd.read_clipboard()\n",
    "\n",
    "df\n"
   ]
  },
  {
   "cell_type": "code",
   "execution_count": 4,
   "metadata": {
    "ExecuteTime": {
     "end_time": "2020-02-12T08:28:01.310008Z",
     "start_time": "2020-02-12T08:28:01.305010Z"
    }
   },
   "outputs": [
    {
     "name": "stdout",
     "output_type": "stream",
     "text": [
      "| No |พิกัดศุลกากร |รหัสสถิติ |ประเภท |หน่วยงาน |คำอธิบายภาษาไทย |คำอธิบายภาษาอังกฤษ |วันที่เริ่มต้น |\n",
      "|-----|----------|----------|----------|----------|----------|----------|----------|\n",
      "| 1 |29313900 |28 |นำเข้าและส่งออก |กรมปศุสัตว์ |ไตรคลอร์ฟอน |Trichlorfon |20200212 |\n",
      "\n"
     ]
    }
   ],
   "source": [
    "create_md(df)\n"
   ]
  },
  {
   "cell_type": "code",
   "execution_count": null,
   "metadata": {},
   "outputs": [],
   "source": []
  },
  {
   "cell_type": "code",
   "execution_count": 7,
   "metadata": {
    "ExecuteTime": {
     "end_time": "2020-01-31T08:48:59.460648Z",
     "start_time": "2020-01-31T08:48:59.454653Z"
    }
   },
   "outputs": [
    {
     "name": "stdout",
     "output_type": "stream",
     "text": [
      "|ลำดับ  |หน่วยงาน|จำนวน|\n",
      "|-----|-----|-----|\n",
      "\n"
     ]
    }
   ],
   "source": [
    "heads = df.columns\n",
    "txt = \"|ลำดับ  |\"   #  ถ้าเป็นกรณีอื่่นควรเว้นว่างไว้ (index)\n",
    "for  i in range(len(heads)):\n",
    "    txt += heads[i]+\"|\"\n",
    "txt += '\\n' + \"|-----|\"\n",
    "for  i in range(len(heads)):\n",
    "    txt += \"-----|\"\n",
    "txt += '\\n' \n",
    "print(txt)    "
   ]
  },
  {
   "cell_type": "markdown",
   "metadata": {
    "ExecuteTime": {
     "end_time": "2019-10-25T05:01:32.565336Z",
     "start_time": "2019-10-25T05:01:32.558340Z"
    }
   },
   "source": [
    "## EXAMPT   "
   ]
  },
  {
   "cell_type": "code",
   "execution_count": 8,
   "metadata": {
    "ExecuteTime": {
     "end_time": "2020-01-31T08:49:06.262553Z",
     "start_time": "2020-01-31T08:49:06.254557Z"
    }
   },
   "outputs": [
    {
     "name": "stdout",
     "output_type": "stream",
     "text": [
      "| หน่วยงาน |จำนวน |\n",
      "|----------|-----|\n",
      "| สำนักงานคณะกรรมการอาหารและยา | 4,050  |\n",
      "| กรมวิชาการเกษตร | 2,161  |\n",
      "| กรมโรงงานอุตสาหกรรม | 1,085  |\n",
      "| สำนักงานมาตรฐานผลิตภัณฑ์อุตสาหกรรม | 1,142  |\n",
      "| กรมการค้าต่างประเทศ | 768  |\n",
      "| กรมประมง | 679  |\n",
      "| กรมการอุตสาหกรรมทหาร | 343  |\n",
      "| กรมปศุสัตว์ | 330  |\n",
      "| กรมสรรพสามิต | 114  |\n",
      "| กรมอุทยานแห่งชาติ สัตว์ป่าและพันธุ์พืช | 73  |\n",
      "| การยางแห่งประเทศไทย | 52  |\n",
      "| กรมการปกครอง | 40  |\n",
      "| กรมธุรกิจพลังงาน | 40  |\n",
      "| กรมอุตสาหกรรมพื้นฐานและการเหมืองแร่ | 35  |\n",
      "| สำนักงานคณะกรรมการกิจการกระจายเสียง กิจการโทรทัศน์ และกิจการโทรคมนาคมแห่งชาติ | 34  |\n",
      "| สำนักงานคณะกรรมการอ้อยและน้ำตาลทราย | 33  |\n",
      "| สำนักงานปรมาณูเพื่อสันติ | 27  |\n",
      "| กรมการค้าภายใน | 26  |\n",
      "| กรมศิลปากร | 10  |\n",
      "| กรมวิทยาศาสตร์การแพทย์ | 9  |\n",
      "| กรมป่าไม้ | 4  |\n",
      "| สำนักงานมาตรฐานสินค้าเกษตรและอาหารแห่งชาติ | 4  |\n",
      "| กรมทรัพยากรธรณี | 1  |\n",
      "| รวม | 11,060  |\n",
      "\n"
     ]
    }
   ],
   "source": [
    "create_md(df)"
   ]
  },
  {
   "cell_type": "code",
   "execution_count": 12,
   "metadata": {
    "ExecuteTime": {
     "end_time": "2019-10-25T04:33:03.821394Z",
     "start_time": "2019-10-25T04:33:03.814397Z"
    }
   },
   "outputs": [
    {
     "data": {
      "text/plain": [
       "                          0               1\n",
       "0  อัตราแลกเปลี่ยนของวันที่  25 ตุลาคม 2562"
      ]
     },
     "execution_count": 12,
     "metadata": {},
     "output_type": "execute_result"
    }
   ],
   "source": [
    "for col_idx,data in df.iterrows():    \n",
    "      # md += \"|\"+ str(col_idx+1)+\"|\""
   ]
  },
  {
   "cell_type": "code",
   "execution_count": 5,
   "metadata": {
    "ExecuteTime": {
     "end_time": "2019-10-25T04:19:14.385894Z",
     "start_time": "2019-10-25T04:19:14.381896Z"
    }
   },
   "outputs": [
    {
     "data": {
      "text/plain": [
       "Index(['#', 'ประเทศ', 'สกุลเงิน', 'รหัสสกุลเงิน', 'การส่งออก', 'การนำเข้า'], dtype='object')"
      ]
     },
     "execution_count": 5,
     "metadata": {},
     "output_type": "execute_result"
    }
   ],
   "source": [
    "t = table.copy()\n",
    "\n",
    "\n",
    "t.columns"
   ]
  },
  {
   "cell_type": "code",
   "execution_count": 8,
   "metadata": {
    "ExecuteTime": {
     "end_time": "2019-10-25T04:20:29.336567Z",
     "start_time": "2019-10-25T04:20:29.332570Z"
    }
   },
   "outputs": [
    {
     "data": {
      "text/plain": [
       "6"
      ]
     },
     "execution_count": 8,
     "metadata": {},
     "output_type": "execute_result"
    }
   ],
   "source": [
    "len(t.columns[1])"
   ]
  },
  {
   "cell_type": "code",
   "execution_count": 19,
   "metadata": {
    "ExecuteTime": {
     "end_time": "2019-11-07T08:32:50.674365Z",
     "start_time": "2019-11-07T08:32:50.665371Z"
    }
   },
   "outputs": [
    {
     "ename": "AttributeError",
     "evalue": "module 'camelot' has no attribute 'read_pdf'",
     "output_type": "error",
     "traceback": [
      "\u001b[1;31m---------------------------------------------------------------------------\u001b[0m",
      "\u001b[1;31mAttributeError\u001b[0m                            Traceback (most recent call last)",
      "\u001b[1;32m<ipython-input-19-17568fa80226>\u001b[0m in \u001b[0;36m<module>\u001b[1;34m\u001b[0m\n\u001b[0;32m      1\u001b[0m \u001b[1;32mimport\u001b[0m \u001b[0mcamelot\u001b[0m\u001b[1;33m\u001b[0m\u001b[1;33m\u001b[0m\u001b[0m\n\u001b[1;32m----> 2\u001b[1;33m \u001b[0mtables\u001b[0m \u001b[1;33m=\u001b[0m \u001b[0mcamelot\u001b[0m\u001b[1;33m.\u001b[0m\u001b[0mread_pdf\u001b[0m\u001b[1;33m(\u001b[0m\u001b[1;34m'foo.pdf'\u001b[0m\u001b[1;33m)\u001b[0m\u001b[1;33m\u001b[0m\u001b[1;33m\u001b[0m\u001b[0m\n\u001b[0m\u001b[0;32m      3\u001b[0m \u001b[0mtables\u001b[0m\u001b[1;33m\u001b[0m\u001b[1;33m\u001b[0m\u001b[0m\n",
      "\u001b[1;31mAttributeError\u001b[0m: module 'camelot' has no attribute 'read_pdf'"
     ]
    }
   ],
   "source": [
    "import camelot\n",
    "tables = camelot.read_pdf('foo.pdf')\n",
    "tables"
   ]
  },
  {
   "cell_type": "code",
   "execution_count": 32,
   "metadata": {
    "ExecuteTime": {
     "end_time": "2019-11-07T09:15:02.004339Z",
     "start_time": "2019-11-07T09:14:58.905260Z"
    }
   },
   "outputs": [
    {
     "data": {
      "text/html": [
       "<div>\n",
       "<style scoped>\n",
       "    .dataframe tbody tr th:only-of-type {\n",
       "        vertical-align: middle;\n",
       "    }\n",
       "\n",
       "    .dataframe tbody tr th {\n",
       "        vertical-align: top;\n",
       "    }\n",
       "\n",
       "    .dataframe thead th {\n",
       "        text-align: right;\n",
       "    }\n",
       "</style>\n",
       "<table border=\"1\" class=\"dataframe\">\n",
       "  <thead>\n",
       "    <tr style=\"text-align: right;\">\n",
       "      <th></th>\n",
       "      <th>Unnamed: 0</th>\n",
       "      <th>Unnamed: 1</th>\n",
       "      <th>Unnamed: 2</th>\n",
       "      <th>Unnamed: 3</th>\n",
       "      <th>Percent Fuel Savings</th>\n",
       "      <th>Unnamed: 5</th>\n",
       "    </tr>\n",
       "  </thead>\n",
       "  <tbody>\n",
       "    <tr>\n",
       "      <th>0</th>\n",
       "      <td>Cycle</td>\n",
       "      <td>KI</td>\n",
       "      <td>Distance</td>\n",
       "      <td>NaN</td>\n",
       "      <td>NaN</td>\n",
       "      <td>NaN</td>\n",
       "    </tr>\n",
       "    <tr>\n",
       "      <th>1</th>\n",
       "      <td>Name</td>\n",
       "      <td>(1/km)</td>\n",
       "      <td>(mi)</td>\n",
       "      <td>Improved</td>\n",
       "      <td>Decreased Eliminate</td>\n",
       "      <td>Decreased</td>\n",
       "    </tr>\n",
       "    <tr>\n",
       "      <th>2</th>\n",
       "      <td>NaN</td>\n",
       "      <td>NaN</td>\n",
       "      <td>NaN</td>\n",
       "      <td>Speed</td>\n",
       "      <td>Accel Stops</td>\n",
       "      <td>Idle</td>\n",
       "    </tr>\n",
       "    <tr>\n",
       "      <th>3</th>\n",
       "      <td>2012_2</td>\n",
       "      <td>3.30</td>\n",
       "      <td>1.3</td>\n",
       "      <td>5.9%</td>\n",
       "      <td>9.5% 29.2%</td>\n",
       "      <td>17.4%</td>\n",
       "    </tr>\n",
       "    <tr>\n",
       "      <th>4</th>\n",
       "      <td>2145_1</td>\n",
       "      <td>0.68</td>\n",
       "      <td>11.2</td>\n",
       "      <td>2.4%</td>\n",
       "      <td>0.1% 9.5%</td>\n",
       "      <td>2.7%</td>\n",
       "    </tr>\n",
       "    <tr>\n",
       "      <th>5</th>\n",
       "      <td>4234_1</td>\n",
       "      <td>0.59</td>\n",
       "      <td>58.7</td>\n",
       "      <td>8.5%</td>\n",
       "      <td>1.3% 8.5%</td>\n",
       "      <td>3.3%</td>\n",
       "    </tr>\n",
       "    <tr>\n",
       "      <th>6</th>\n",
       "      <td>2032_2</td>\n",
       "      <td>0.17</td>\n",
       "      <td>57.8</td>\n",
       "      <td>21.7%</td>\n",
       "      <td>0.3% 2.7%</td>\n",
       "      <td>1.2%</td>\n",
       "    </tr>\n",
       "    <tr>\n",
       "      <th>7</th>\n",
       "      <td>4171_1</td>\n",
       "      <td>0.07</td>\n",
       "      <td>173.9</td>\n",
       "      <td>58.1%</td>\n",
       "      <td>1.6% 2.1%</td>\n",
       "      <td>0.5%</td>\n",
       "    </tr>\n",
       "  </tbody>\n",
       "</table>\n",
       "</div>"
      ],
      "text/plain": [
       "  Unnamed: 0 Unnamed: 1 Unnamed: 2 Unnamed: 3 Percent Fuel Savings Unnamed: 5\n",
       "0      Cycle         KI   Distance        NaN                  NaN        NaN\n",
       "1       Name     (1/km)       (mi)   Improved  Decreased Eliminate  Decreased\n",
       "2        NaN        NaN        NaN      Speed          Accel Stops       Idle\n",
       "3     2012_2       3.30        1.3       5.9%           9.5% 29.2%      17.4%\n",
       "4     2145_1       0.68       11.2       2.4%            0.1% 9.5%       2.7%\n",
       "5     4234_1       0.59       58.7       8.5%            1.3% 8.5%       3.3%\n",
       "6     2032_2       0.17       57.8      21.7%            0.3% 2.7%       1.2%\n",
       "7     4171_1       0.07      173.9      58.1%            1.6% 2.1%       0.5%"
      ]
     },
     "execution_count": 32,
     "metadata": {},
     "output_type": "execute_result"
    }
   ],
   "source": [
    "import tabula\n",
    "# readinf the PDF file that contain Table Data\n",
    "# you can find find the pdf file with complete code in below\n",
    "# read_pdf will save the pdf table into Pandas Dataframe\n",
    "df = tabula.read_pdf(\"foo.pdf\")\n",
    "# in order to print first 5 lines of Table\n",
    "\n",
    "df"
   ]
  },
  {
   "cell_type": "code",
   "execution_count": 31,
   "metadata": {
    "ExecuteTime": {
     "end_time": "2019-11-07T09:12:39.593768Z",
     "start_time": "2019-11-07T09:12:39.462850Z"
    }
   },
   "outputs": [
    {
     "name": "stdout",
     "output_type": "stream",
     "text": [
      "58\n",
      " \n",
      "\n",
      "3\n",
      "\n",
      " \n",
      "\n",
      "\n",
      "\n",
      "\n",
      "\n",
      "\n",
      "\n",
      "\n",
      "\n",
      "\n",
      "\n",
      "\n",
      "\n",
      "\n",
      " \n",
      "\n",
      "\n",
      " \n",
      "\n",
      "\n",
      "\n",
      "\n",
      "\n",
      "\n",
      " \n",
      "1.\n",
      " \n",
      "European Union Agency for Network and Information Security \n",
      "\n",
      "ENISA\n",
      "\n",
      ", \n",
      "Technical \n",
      "guidelines for the implementation of minimum security measures for \n",
      "Digital \n",
      "Service \n",
      "providers\n",
      ", \n",
      "D\n",
      "ecember\n",
      ", 2016\n",
      "\n",
      " \n",
      "2.\n",
      " \n",
      "ISO\n",
      "\n",
      "IEC \n",
      "27001\n",
      "\n",
      "2013, Information technology \n",
      "\n",
      "\n",
      "Security techniques \n",
      "\n",
      "\n",
      "I\n",
      "nformation security \n",
      "management systems \n",
      "\n",
      "\n",
      "Requirements\n",
      ", 2013\n",
      "\n",
      " \n",
      "3.\n",
      " \n",
      "ISO\n",
      "\n",
      "IEC \n",
      "27002\n",
      "\n",
      "2013, Information technology \n",
      "\n",
      "\n",
      "Security techniques \n",
      "\n",
      "\n",
      "Code of practice for \n",
      "Information security Controls\n",
      ", 2013\n",
      "\n",
      " \n",
      "4.\n",
      " \n",
      "\n",
      "\n",
      " \n",
      "\n",
      "\n",
      "\n",
      "2555\n",
      " \n",
      "\n",
      "\n",
      "\n",
      "\n",
      "\n",
      "\n",
      " \n",
      " \n",
      " \n",
      "\n",
      "\n",
      "\n",
      "\n",
      "\n",
      "\n",
      "\n",
      "\n",
      "\n",
      "\n",
      "\n",
      "\n",
      "\n",
      "\n",
      "\n",
      "\n",
      "\n",
      "\n",
      "\n",
      "\n",
      "\n",
      "\n",
      "\n",
      "\n",
      "\n",
      "\n",
      " \n",
      " \n",
      " \n",
      "\n",
      " \n",
      "\n",
      "21\n",
      "\n",
      "\n",
      "33\n",
      "\n",
      "4\n",
      "\n",
      "\n",
      "9\n",
      " \n",
      "\n",
      "10310\n",
      " \n",
      "\n",
      "0\n",
      "\n",
      "2123\n",
      "\n",
      "1234\n",
      "\n",
      "\n",
      "0\n",
      "\n",
      "2123\n",
      "\n",
      "1200\n",
      " \n",
      "E\n",
      "\n",
      "mail\n",
      "\n",
      "estandard\n",
      "\n",
      "center@etda\n",
      "\n",
      "or\n",
      "\n",
      "th\n",
      "\n",
      " \n",
      "Website\n",
      "\n",
      "www\n",
      "\n",
      "etda\n",
      "\n",
      "or\n",
      "\n",
      "th\n",
      "\n",
      " \n",
      " \n",
      " \n",
      "\n"
     ]
    }
   ],
   "source": [
    "# modules for \n",
    "import PyPDF2\n",
    "# pdf file object\n",
    "# you can find find the pdf file with complete code in below\n",
    "pdfFileObj = open('test.pdf', 'rb')\n",
    "# pdf reader object\n",
    "pdfReader = PyPDF2.PdfFileReader(pdfFileObj)\n",
    "# number of pages in pdf\n",
    "print(pdfReader.numPages)\n",
    "# a page object\n",
    "pageObj = pdfReader.getPage(3)\n",
    "# extracting text from page.\n",
    "# this will print the text you can also save that into String\n",
    "print(pageObj.extractText())"
   ]
  },
  {
   "cell_type": "code",
   "execution_count": null,
   "metadata": {},
   "outputs": [],
   "source": []
  }
 ],
 "metadata": {
  "kernelspec": {
   "display_name": "Python 3",
   "language": "python",
   "name": "python3"
  },
  "language_info": {
   "codemirror_mode": {
    "name": "ipython",
    "version": 3
   },
   "file_extension": ".py",
   "mimetype": "text/x-python",
   "name": "python",
   "nbconvert_exporter": "python",
   "pygments_lexer": "ipython3",
   "version": "3.6.10"
  },
  "latex_envs": {
   "LaTeX_envs_menu_present": true,
   "autoclose": false,
   "autocomplete": true,
   "bibliofile": "biblio.bib",
   "cite_by": "apalike",
   "current_citInitial": 1,
   "eqLabelWithNumbers": true,
   "eqNumInitial": 1,
   "hotkeys": {
    "equation": "Ctrl-E",
    "itemize": "Ctrl-I"
   },
   "labels_anchors": false,
   "latex_user_defs": false,
   "report_style_numbering": false,
   "user_envs_cfg": false
  },
  "toc": {
   "base_numbering": 1,
   "nav_menu": {},
   "number_sections": false,
   "sideBar": true,
   "skip_h1_title": false,
   "title_cell": "Table of Contents",
   "title_sidebar": "Contents",
   "toc_cell": false,
   "toc_position": {
    "height": "calc(100% - 180px)",
    "left": "10px",
    "top": "150px",
    "width": "384px"
   },
   "toc_section_display": true,
   "toc_window_display": true
  },
  "varInspector": {
   "cols": {
    "lenName": 16,
    "lenType": 16,
    "lenVar": 40
   },
   "kernels_config": {
    "python": {
     "delete_cmd_postfix": "",
     "delete_cmd_prefix": "del ",
     "library": "var_list.py",
     "varRefreshCmd": "print(var_dic_list())"
    },
    "r": {
     "delete_cmd_postfix": ") ",
     "delete_cmd_prefix": "rm(",
     "library": "var_list.r",
     "varRefreshCmd": "cat(var_dic_list()) "
    }
   },
   "types_to_exclude": [
    "module",
    "function",
    "builtin_function_or_method",
    "instance",
    "_Feature"
   ],
   "window_display": false
  }
 },
 "nbformat": 4,
 "nbformat_minor": 2
}
