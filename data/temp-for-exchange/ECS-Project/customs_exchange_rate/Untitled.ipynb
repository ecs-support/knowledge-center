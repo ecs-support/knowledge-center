{
 "cells": [
  {
   "cell_type": "markdown",
   "metadata": {},
   "source": [
    "# การจัดการ xml ด้วย elementtree\n",
    "\n",
    "- https://phyblas.hinaboshi.com/20200218"
   ]
  },
  {
   "cell_type": "code",
   "execution_count": 3,
   "metadata": {
    "ExecuteTime": {
     "end_time": "2020-03-25T09:56:25.324061Z",
     "start_time": "2020-03-25T09:56:25.317066Z"
    }
   },
   "outputs": [
    {
     "name": "stdout",
     "output_type": "stream",
     "text": [
      "<xml.etree.ElementTree.ElementTree object at 0x000002765A591550>\n",
      "<Element '{http://ebxml.customs.go.th/XMLSchema/CustomsExportDeclaration_4_00}CustomsExportDeclaration' at 0x000002765A589318>\n"
     ]
    }
   ],
   "source": [
    "import xml.etree.ElementTree as et\n",
    "\n",
    "xmlpdata = et.parse('pdata.xml')\n",
    "print(xmlpdata) # ได้ <xml.etree.ElementTree.ElementTree object at 0x105155b50>\n",
    "roottag = xmlpdata.getroot()\n",
    "print(roottag) # ได้ <Element 'pdata' at 0x105150650>"
   ]
  },
  {
   "cell_type": "code",
   "execution_count": 4,
   "metadata": {
    "ExecuteTime": {
     "end_time": "2020-03-25T09:56:39.570121Z",
     "start_time": "2020-03-25T09:56:39.565124Z"
    }
   },
   "outputs": [
    {
     "name": "stdout",
     "output_type": "stream",
     "text": [
      "<ns0:CustomsExportDeclaration xmlns:ns0=\"http://ebxml.customs.go.th/XMLSchema/CustomsExportDeclaration_4_00\" xmlns:ns1=\"http://www.w3.org/2000/09/xmldsig#\" xmlns:ns2=\"http://www.ietf.org/rfc/rfc3369.txt#\"><DocumentControl><ReferenceNumber>DMKJ000098728</ReferenceNumber><DocumentType>1</DocumentType><Exporter><TaxNumber>0105516011280</TaxNumber><Branch>0000</Branch><ThaiName>บริษัท ซี.พี.สหอุตสาหกรรม จำกัด</ThaiName><EnglishName>C.P.POLY-INDUSTRY CO.,LTD.</EnglishName><StreetAndNumber>313 อาคารซี.พี.ทาวเวอร์ ชั้น18</StreetAndNumber><District>สีลม</District><SubProvince>บางรัก</SubProvince><Province>กรุงเทพมหานคร</Province><Postcode>10500</Postcode></Exporter><Agent><TaxNumber>0105532122660</TaxNumber><Branch>0000</Branch></Agent><AuthorisedPerson><CustomsClearanceIDCard>5100100005543</CustomsClearanceIDCard><CustomsClearanceName>นายณัคร ศรีกรณ์</CustomsClearanceName><ManagerIDCard>5100100005543</ManagerIDCard><ManagerName>ณัคร ศรีกรณ์</ManagerName></AuthorisedPerson><BorderTransportMeans><ModeCode>1</ModeCode><CargoTypeCode>3</CargoTypeCode><VesselName>HYUNDAI JAKARTA</VesselName><DepartureDate>2019-12-12</DepartureDate></BorderTransportMeans><BillofLading><Master> </Master><House> </House></BillofLading><ReleasePort>2820</ReleasePort><LoadPort>2801</LoadPort><PurchaseCountryCode>US</PurchaseCountryCode><DestinationCountryCode>US</DestinationCountryCode><TotalPackage><ShippingMarks>  </ShippingMarks><Amount>10</Amount><UnitCode>PX</UnitCode></TotalPackage><TotalNetWeight><Weight>2750.000</Weight><UnitCode>KGM</UnitCode></TotalNetWeight><TotalGrossWeight><Weight>3090.000</Weight><UnitCode>KGM</UnitCode></TotalGrossWeight><CurrencyCode>USD</CurrencyCode><RateofExchange>30.01410</RateofExchange><FOBValue><Foreign>11450.00</Foreign><Baht>343661.45</Baht></FOBValue><BankInfo><PaymentMethod>L</PaymentMethod></BankInfo><TotalTax>0.00</TotalTax><TotalDeposit>0.00</TotalDeposit><AssessmentRequestCode>N</AssessmentRequestCode><InspectionRequestCode>N</InspectionRequestCode><ObligationGuarantee><Method>L</Method></ObligationGuarantee><ExportTaxIncentivesID> </ExportTaxIncentivesID><RegistrationID>TH0031019235370000000000002P3</RegistrationID></DocumentControl><GoodsShipment><Invoice><Number>273-A/19</Number><Date>2019-11-21</Date><PurchaseOrderNumber> </PurchaseOrderNumber><TermsofPaymentCode>T/T</TermsofPaymentCode><TradeTerms>FOB</TradeTerms><SellerStatus>OT</SellerStatus><ConsigneeInfo><Status>OT</Status><Name>CPPC MARKETING INC.</Name><StreetAndNumber>7500 EMPIRE DRIVE,FLORENCE KENTUCKY</StreetAndNumber><District>N/A</District><SubProvince>N/A</SubProvince><Province>N/A</Province><Postcode>41042</Postcode><CountryCode>US</CountryCode><Email> </Email></ConsigneeInfo><CommercialLevel>WO</CommercialLevel><CurrencyCode>USD</CurrencyCode><TotalAmount>11450.00</TotalAmount><SelfCertificateRemark> </SelfCertificateRemark><AEOsReferenceNumber> </AEOsReferenceNumber></Invoice><Detail><ItemNumber>1</ItemNumber><Invoice><Number>273-A/19</Number><Item>1</Item></Invoice><TariffInfo><Code>000063053320</Code><Sequence>50001</Sequence><Statistical>090</Statistical><ExportTariff>9PART3</ExportTariff></TariffInfo><PrivilegeCode>003</PrivilegeCode><NatureofTransaction>11</NatureofTransaction><GoodsDescription><Thai>กระสอบเคลือบฟิล์ม PP/PE</Thai><English>EMPTY BAGS-LAMINATED POLY PROPYLENE MADE WITH PLASTIC STRIPS THAT EXCEED 5.5MM IN WIDTH</English></GoodsDescription><ProductInfo><CustomsCode> </CustomsCode><Attribute1> </Attribute1><Attribute2> </Attribute2><Year>2019</Year><BrandName>\"NO BRAND\"</BrandName><Remark> </Remark><OriginCountryCode>TH</OriginCountryCode><NetWeight><Weight>2750.000</Weight><UnitCode>KGM</UnitCode></NetWeight><Quantity><Quantity>50000.000</Quantity><UnitCode>BG</UnitCode></Quantity><CurrencyCode>USD</CurrencyCode><RateofExchange>30.01410</RateofExchange><UnitPrice><Foreign>0.22900</Foreign><Baht>6.87</Baht></UnitPrice><InvoiceQuantity><Quantity>50000.000</Quantity><UnitCode>BG</UnitCode></InvoiceQuantity><InvoiceAmount><Foreign>11450.00</Foreign><Baht>343661.45</Baht></InvoiceAmount><FOBValue><Foreign>11450.00</Foreign><Baht>343661.45</Baht><Assess>0.00</Assess></FOBValue><ShippingMarks>CPPC MKTNG/PRM FLORENCE,KY 41042    DATE: 859.384.0378 NESTLE'PURINA PETCARE CO. MAT#:      LIN PALLET#:           QUANTITY :</ShippingMarks><Package><Amount>10</Amount><UnitCode>PX</UnitCode></Package></ProductInfo><ReImportationCertificate>N</ReImportationCertificate><BOI>N</BOI><Bond>N</Bond><Bis19>N</Bis19><ReExport>N</ReExport><FZ>N</FZ><IEAT>N</IEAT><Compensation>Y</Compensation><BOILicenseNumber> </BOILicenseNumber><PurchaseCountryCode>US</PurchaseCountryCode><ImportTaxIncentivesID> </ImportTaxIncentivesID><OriginCriteria> </OriginCriteria><CertifiedExporterNumber> </CertifiedExporterNumber><GrossWeight>3090.000</GrossWeight><ProcedureCode> </ProcedureCode><DeductedAmount>0.00</DeductedAmount><LastEntry>Y</LastEntry></Detail></GoodsShipment><ns1:Signature><ns1:SignedInfo><ns1:CanonicalizationMethod Algorithm=\"http://www.w3.org/TR/2001/REC-xml-c14n-20010315\" /><ns1:SignatureMethod Algorithm=\"http://www.w3.org/2000/09/xmldsig#rsa-sha1\" /><ns1:Reference URI=\"\"><ns1:Transforms><ns1:Transform Algorithm=\"http://www.w3.org/2000/09/xmldsig#enveloped-signature\" /></ns1:Transforms><ns1:DigestMethod Algorithm=\"http://www.w3.org/2000/09/xmldsig#sha1\" /><ns1:DigestValue>BNoOqObhNxWUocvSaJmIfL+FQcA=</ns1:DigestValue></ns1:Reference></ns1:SignedInfo><ns1:SignatureValue>BKfXqKzV9hTJLklmnYOUDw8Wa03AIofKyY3+dutyd3hUAfDF3mnf6bItiKyyhuJUnZs02DpuJGDmfML3IASo6Q6vopXsgdyK/1qLsiQyxwkZgHFyp8B+Tncrt5rJ9pM2gz8msu0jspJzzX8NvJEuvn6LEr0XeNvKv76GukSSe9xkL+U1gWlKItuJyO+tnS9U1ndCJI58ZimK60px7dirurGS98dQaZMAwFgrTesgOqnIHvSmBOIkE6HiZEMDlOBYkTBhgzdEh8FpVTJ7lxOkCB/z3SfQuGnKNEc4nhUn+AvtJ6Y7ENBFz1Ud4bBLH2L2VjL/wFzJ31BVxhZqumdUEA==</ns1:SignatureValue><ns1:KeyInfo><ns1:KeyValue><ns1:RSAKeyValue><ns1:Modulus>vDkK6VNQuQXAdJaM2gxRBuClBv+fwLfXUPbfSkpMP/ufh+u8Lkq/A0qn25f3PYdqRmqjQ6f12GGm2v5tidrFXEAB1QVF8zEIjR41Kt7w2u55ER+UwoySpkoijger25t8jqLgfhxF/0Ft5s2lktlXLsCk0t3xwZOXGJZVgwDIvL/TTFyKSUQOSAe7nMVo9LGVoIEXpyC6lpJwvaBnzbC/EhcapFYngznA6RAWf+Hzyu1hTj+AkutQNFLxCe2x7aMEmu6q/NZuJjo5vIhtAfY5sFmeKx8Wk7ztQRqazWx8Pam2Cd8Pan2kcJ6EUIyV6BwYlJ43+H0wPOi/B2nONuZ/Dw==</ns1:Modulus><ns1:Exponent>AQAB</ns1:Exponent></ns1:RSAKeyValue></ns1:KeyValue><ns1:X509Data><ns1:X509Certificate>MIIFojCCA4qgAwIBAgIIPj1dRiipEB8wDQYJKoZIhvcNAQELBQAwRjELMAkGA1UEBhMCVEgxIzAhBgNVBAoMGlRPVCBQdWJsaWMgQ29tcGFueSBMaW1pdGVkMRIwEAYDVQQDDAlUT1RST09UQ0EwHhcNMTkwODA2MDEwMDAwWhcNMjIwODA2MDEwMDAwWjCBvDELMAkGA1UEBhMCVEgxEDAOBgNVBAcMB0JBTkdLT0sxKTAnBgNVBAoMIERZTkFNSUMgSU5URVJUUkFOU1BPUlQgQ08uLCBMVEQuMRwwGgYDVQQLDBNUQVhJRDowMTA1NTMyMTIyNjYwMSkwJwYDVQQDDCBEWU5BTUlDIElOVEVSVFJBTlNQT1JUIENPLiwgTFRELjEnMCUGCSqGSIb3DQEJARYYY2MuZHluYW1pY0BkeW5hbWljLmNvLnRoMIIBIjANBgkqhkiG9w0BAQEFAAOCAQ8AMIIBCgKCAQEAvDkK6VNQuQXAdJaM2gxRBuClBv+fwLfXUPbfSkpMP/ufh+u8Lkq/A0qn25f3PYdqRmqjQ6f12GGm2v5tidrFXEAB1QVF8zEIjR41Kt7w2u55ER+UwoySpkoijger25t8jqLgfhxF/0Ft5s2lktlXLsCk0t3xwZOXGJZVgwDIvL/TTFyKSUQOSAe7nMVo9LGVoIEXpyC6lpJwvaBnzbC/EhcapFYngznA6RAWf+Hzyu1hTj+AkutQNFLxCe2x7aMEmu6q/NZuJjo5vIhtAfY5sFmeKx8Wk7ztQRqazWx8Pam2Cd8Pan2kcJ6EUIyV6BwYlJ43+H0wPOi/B2nONuZ/DwIDAQABo4IBGzCCARcwHQYDVR0OBBYEFLO024SZZJ/+/YdAcXHNXrH7C2u/MAwGA1UdEwEB/wQCMAAwHwYDVR0jBBgwFoAUoG6ZSm4Qq9xaq8m02ZqPOdh6CSgwPwYDVR0gBDgwNjA0BgsrBgEEAf9egUgBATAlMCMGCCsGAQUFBwIBFhdodHRwOi8vd3d3LmNhLnRvdC5jby50aDAyBgNVHR8EKzApMCegJaAjhiFodHRwOi8vY3JsLmNhLnRvdC5jby50aC90b3RjYS5jcmwwDgYDVR0PAQH/BAQDAgTwMB0GA1UdJQQWMBQGCCsGAQUFBwMCBggrBgEFBQcDBDAjBgNVHREEHDAagRhjYy5keW5hbWljQGR5bmFtaWMuY28udGgwDQYJKoZIhvcNAQELBQADggIBAFXvQGscEjChaxN8RpdkC0azEMqR29OzdFFLXLZ4EdTzshQl7yFzAN9zWJ/RauOQsrFf47CveCKqIxeQJdRKpHxfNNRXa2cYU7kNMelediGnTnPtKpwO4q9NaEyW1ln5OOrRWWL8Gh50wgMM+pQb+jAE/tqlZNyZsN/FrTtBXLv9zxVG+WIOptClSOt/kjKyUppGZjCBeR+w3JTUxmj4b3uGngayihtMTuwFLx8qH3yvZBXimRu43eLoeqVHzBUrepX8I2kTOj395TD3w3+iNubpixFniPN8QTI7JSMuRj2XojFl9r8ZI+GNDeyGe/S5hjyGFnshH7ReDP04alwVgd2i7Y3nFWcl9+ms4svT5/WHAKQsGyNhY108YTleSx0V+KGyGwkKhy1raXn61SU80qdw8ddFShC31KJko9mDkKhKgcRvi3P4dMnka8KIT0aXZIdvxZ+RXV4n+h6UA0zNels4msdwHYhETAhPxpDwgjXKsDDfemaB7/p51ebtCYspWXaG8cMcrX7RybmXg6V7agOfg6wrTQo+E76YPpXaADR+4Pig5jxuLm0Dj0lhT170AtIZlsFsTBNqMIZzCn2PL3Z5Yk8mjzW77z1h3YlS2WprZDbuRO9AFR/hZiJwP+By9YfFFY2BTEGDa4T5xnqZZNN6J5Voi6HTOjHi6DNFZnzU</ns1:X509Certificate></ns1:X509Data></ns1:KeyInfo><ns1:Object><SignatureProperties><SignatureProperty Id=\"TIMESTAMP1\" Target=\"#DSIG1\"><ns2:SigningTime><GeneralizedTime>20191122173052+0700</GeneralizedTime></ns2:SigningTime></SignatureProperty></SignatureProperties></ns1:Object></ns1:Signature></ns0:CustomsExportDeclaration>\n"
     ]
    }
   ],
   "source": [
    "print(et.tostring(roottag,encoding='unicode'))"
   ]
  },
  {
   "cell_type": "code",
   "execution_count": 5,
   "metadata": {
    "ExecuteTime": {
     "end_time": "2020-03-25T09:56:56.912387Z",
     "start_time": "2020-03-25T09:56:56.908390Z"
    }
   },
   "outputs": [
    {
     "name": "stdout",
     "output_type": "stream",
     "text": [
      "<Element '{http://ebxml.customs.go.th/XMLSchema/CustomsExportDeclaration_4_00}CustomsExportDeclaration' at 0x0000027659024868>\n"
     ]
    }
   ],
   "source": [
    "xmlpdata = et.ElementTree(file='pdata.xml')\n",
    "roottag = xmlpdata.getroot()\n",
    "print(roottag) # ได้ <Element 'pdata' at 0x105178a10>"
   ]
  },
  {
   "cell_type": "code",
   "execution_count": 6,
   "metadata": {
    "ExecuteTime": {
     "end_time": "2020-03-25T09:57:13.383531Z",
     "start_time": "2020-03-25T09:57:13.379534Z"
    }
   },
   "outputs": [
    {
     "name": "stdout",
     "output_type": "stream",
     "text": [
      "{http://ebxml.customs.go.th/XMLSchema/CustomsExportDeclaration_4_00}CustomsExportDeclaration\n",
      "{}\n"
     ]
    }
   ],
   "source": [
    "print(roottag.tag) # ได้ pdata\n",
    "print(roottag.attrib) # ได้ {}"
   ]
  },
  {
   "cell_type": "code",
   "execution_count": 7,
   "metadata": {
    "ExecuteTime": {
     "end_time": "2020-03-25T09:57:26.183431Z",
     "start_time": "2020-03-25T09:57:26.179433Z"
    }
   },
   "outputs": [
    {
     "name": "stdout",
     "output_type": "stream",
     "text": [
      "3\n",
      "DocumentControl\n",
      "{}\n",
      "GoodsShipment\n"
     ]
    }
   ],
   "source": [
    "print(len(roottag)) # ได้ 2\n",
    "satoshi = roottag[0]\n",
    "print(satoshi.tag) # ได้ trainer\n",
    "print(satoshi.attrib) # ได้ {'name': 'ซาโตชิ'}\n",
    "trainerA = roottag[1] \n",
    "print(trainerA.tag) # ได้ trainer"
   ]
  },
  {
   "cell_type": "code",
   "execution_count": 8,
   "metadata": {
    "ExecuteTime": {
     "end_time": "2020-03-25T09:57:40.423591Z",
     "start_time": "2020-03-25T09:57:40.419595Z"
    }
   },
   "outputs": [
    {
     "name": "stdout",
     "output_type": "stream",
     "text": [
      "DocumentControl; GoodsShipment; {http://www.w3.org/2000/09/xmldsig#}Signature; \n"
     ]
    }
   ],
   "source": [
    "s = ''\n",
    "for tag in roottag:\n",
    "    s += tag.tag+'; '\n",
    "print(s) # ได้ trainer; trainer; "
   ]
  },
  {
   "cell_type": "code",
   "execution_count": 9,
   "metadata": {
    "ExecuteTime": {
     "end_time": "2020-03-25T09:58:05.271361Z",
     "start_time": "2020-03-25T09:58:05.267364Z"
    }
   },
   "outputs": [
    {
     "name": "stdout",
     "output_type": "stream",
     "text": [
      "{http://ebxml.customs.go.th/XMLSchema/CustomsExportDeclaration_4_00}CustomsExportDeclaration; DocumentControl; ReferenceNumber; DocumentType; Exporter; TaxNumber; Branch; ThaiName; EnglishName; StreetAndNumber; District; SubProvince; Province; Postcode; Agent; TaxNumber; Branch; AuthorisedPerson; CustomsClearanceIDCard; CustomsClearanceName; ManagerIDCard; ManagerName; BorderTransportMeans; ModeCode; CargoTypeCode; VesselName; DepartureDate; BillofLading; Master; House; ReleasePort; LoadPort; PurchaseCountryCode; DestinationCountryCode; TotalPackage; ShippingMarks; Amount; UnitCode; TotalNetWeight; Weight; UnitCode; TotalGrossWeight; Weight; UnitCode; CurrencyCode; RateofExchange; FOBValue; Foreign; Baht; BankInfo; PaymentMethod; TotalTax; TotalDeposit; AssessmentRequestCode; InspectionRequestCode; ObligationGuarantee; Method; ExportTaxIncentivesID; RegistrationID; GoodsShipment; Invoice; Number; Date; PurchaseOrderNumber; TermsofPaymentCode; TradeTerms; SellerStatus; ConsigneeInfo; Status; Name; StreetAndNumber; District; SubProvince; Province; Postcode; CountryCode; Email; CommercialLevel; CurrencyCode; TotalAmount; SelfCertificateRemark; AEOsReferenceNumber; Detail; ItemNumber; Invoice; Number; Item; TariffInfo; Code; Sequence; Statistical; ExportTariff; PrivilegeCode; NatureofTransaction; GoodsDescription; Thai; English; ProductInfo; CustomsCode; Attribute1; Attribute2; Year; BrandName; Remark; OriginCountryCode; NetWeight; Weight; UnitCode; Quantity; Quantity; UnitCode; CurrencyCode; RateofExchange; UnitPrice; Foreign; Baht; InvoiceQuantity; Quantity; UnitCode; InvoiceAmount; Foreign; Baht; FOBValue; Foreign; Baht; Assess; ShippingMarks; Package; Amount; UnitCode; ReImportationCertificate; BOI; Bond; Bis19; ReExport; FZ; IEAT; Compensation; BOILicenseNumber; PurchaseCountryCode; ImportTaxIncentivesID; OriginCriteria; CertifiedExporterNumber; GrossWeight; ProcedureCode; DeductedAmount; LastEntry; {http://www.w3.org/2000/09/xmldsig#}Signature; {http://www.w3.org/2000/09/xmldsig#}SignedInfo; {http://www.w3.org/2000/09/xmldsig#}CanonicalizationMethod; {http://www.w3.org/2000/09/xmldsig#}SignatureMethod; {http://www.w3.org/2000/09/xmldsig#}Reference; {http://www.w3.org/2000/09/xmldsig#}Transforms; {http://www.w3.org/2000/09/xmldsig#}Transform; {http://www.w3.org/2000/09/xmldsig#}DigestMethod; {http://www.w3.org/2000/09/xmldsig#}DigestValue; {http://www.w3.org/2000/09/xmldsig#}SignatureValue; {http://www.w3.org/2000/09/xmldsig#}KeyInfo; {http://www.w3.org/2000/09/xmldsig#}KeyValue; {http://www.w3.org/2000/09/xmldsig#}RSAKeyValue; {http://www.w3.org/2000/09/xmldsig#}Modulus; {http://www.w3.org/2000/09/xmldsig#}Exponent; {http://www.w3.org/2000/09/xmldsig#}X509Data; {http://www.w3.org/2000/09/xmldsig#}X509Certificate; {http://www.w3.org/2000/09/xmldsig#}Object; SignatureProperties; SignatureProperty; {http://www.ietf.org/rfc/rfc3369.txt#}SigningTime; GeneralizedTime; \n"
     ]
    }
   ],
   "source": [
    "s = ''\n",
    "for tag in roottag.iter():\n",
    "    s += tag.tag+'; '\n",
    "print(s) "
   ]
  },
  {
   "cell_type": "code",
   "execution_count": 13,
   "metadata": {
    "ExecuteTime": {
     "end_time": "2020-03-25T10:00:31.340445Z",
     "start_time": "2020-03-25T10:00:31.331452Z"
    }
   },
   "outputs": [
    {
     "ename": "KeyError",
     "evalue": "'Province'",
     "output_type": "error",
     "traceback": [
      "\u001b[1;31m---------------------------------------------------------------------------\u001b[0m",
      "\u001b[1;31mKeyError\u001b[0m                                  Traceback (most recent call last)",
      "\u001b[1;32m<ipython-input-13-ab0ee691ec52>\u001b[0m in \u001b[0;36m<module>\u001b[1;34m\u001b[0m\n\u001b[1;32m----> 1\u001b[1;33m \u001b[0mprint\u001b[0m\u001b[1;33m(\u001b[0m\u001b[0msatoshi\u001b[0m\u001b[1;33m.\u001b[0m\u001b[0mattrib\u001b[0m\u001b[1;33m[\u001b[0m\u001b[1;34m'Province'\u001b[0m\u001b[1;33m]\u001b[0m\u001b[1;33m)\u001b[0m \u001b[1;31m# ได้ ซาโตชิ\u001b[0m\u001b[1;33m\u001b[0m\u001b[1;33m\u001b[0m\u001b[0m\n\u001b[0m\u001b[0;32m      2\u001b[0m \u001b[0mprint\u001b[0m\u001b[1;33m(\u001b[0m\u001b[0msatoshi\u001b[0m\u001b[1;33m.\u001b[0m\u001b[0mget\u001b[0m\u001b[1;33m(\u001b[0m\u001b[1;34m'KeyValue'\u001b[0m\u001b[1;33m)\u001b[0m\u001b[1;33m)\u001b[0m \u001b[1;31m# ได้ ซาโตชิ\u001b[0m\u001b[1;33m\u001b[0m\u001b[1;33m\u001b[0m\u001b[0m\n",
      "\u001b[1;31mKeyError\u001b[0m: 'Province'"
     ]
    }
   ],
   "source": [
    "print(satoshi.attrib['Province']) # ได้ ซาโตชิ\n",
    "print(satoshi.get('KeyValue')) # ได้ ซาโตชิ"
   ]
  },
  {
   "cell_type": "code",
   "execution_count": null,
   "metadata": {},
   "outputs": [],
   "source": []
  }
 ],
 "metadata": {
  "kernelspec": {
   "display_name": "Python 3",
   "language": "python",
   "name": "python3"
  },
  "language_info": {
   "codemirror_mode": {
    "name": "ipython",
    "version": 3
   },
   "file_extension": ".py",
   "mimetype": "text/x-python",
   "name": "python",
   "nbconvert_exporter": "python",
   "pygments_lexer": "ipython3",
   "version": "3.6.10"
  },
  "toc": {
   "base_numbering": 1,
   "nav_menu": {},
   "number_sections": false,
   "sideBar": true,
   "skip_h1_title": false,
   "title_cell": "Table of Contents",
   "title_sidebar": "Contents",
   "toc_cell": false,
   "toc_position": {},
   "toc_section_display": true,
   "toc_window_display": true
  },
  "varInspector": {
   "cols": {
    "lenName": 16,
    "lenType": 16,
    "lenVar": 40
   },
   "kernels_config": {
    "python": {
     "delete_cmd_postfix": "",
     "delete_cmd_prefix": "del ",
     "library": "var_list.py",
     "varRefreshCmd": "print(var_dic_list())"
    },
    "r": {
     "delete_cmd_postfix": ") ",
     "delete_cmd_prefix": "rm(",
     "library": "var_list.r",
     "varRefreshCmd": "cat(var_dic_list()) "
    }
   },
   "types_to_exclude": [
    "module",
    "function",
    "builtin_function_or_method",
    "instance",
    "_Feature"
   ],
   "window_display": false
  }
 },
 "nbformat": 4,
 "nbformat_minor": 4
}
