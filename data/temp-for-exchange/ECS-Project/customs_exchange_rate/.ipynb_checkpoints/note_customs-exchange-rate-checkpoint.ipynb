{
 "cells": [
  {
   "cell_type": "code",
   "execution_count": 2,
   "metadata": {
    "hide_input": true
   },
   "outputs": [
    {
     "data": {
      "text/html": [
       "\n",
       "<span style=color:blue;font-size:200%>โปรแกรมสำหรับสร้าง text file อัตราแลกเปลี่ยนกรมศุลกากร</span>\n"
      ],
      "text/plain": [
       "<IPython.core.display.HTML object>"
      ]
     },
     "execution_count": 2,
     "metadata": {},
     "output_type": "execute_result"
    }
   ],
   "source": [
    "from IPython.display import IFrame, YouTubeVideo, SVG, HTML\n",
    "s='''\n",
    "<span style=color:blue;font-size:200%>โปรแกรมสำหรับสร้าง text file อัตราแลกเปลี่ยนกรมศุลกากร</span>\n",
    "'''\n",
    "HTML(s)"
   ]
  },
  {
   "cell_type": "code",
   "execution_count": 1,
   "metadata": {},
   "outputs": [],
   "source": [
    "# import numpy and pandas\n",
    "import numpy as np\n",
    "import pandas as pd\n",
    "\n",
    "# used for dates\n",
    "import datetime\n",
    "from datetime import datetime, date\n",
    "\n"
   ]
  },
  {
   "cell_type": "code",
   "execution_count": 2,
   "metadata": {},
   "outputs": [
    {
     "name": "stdout",
     "output_type": "stream",
     "text": [
      "pandas  version = 0.24.2\n"
     ]
    }
   ],
   "source": [
    "print(f\"pandas  version = {pd.__version__}\")"
   ]
  },
  {
   "cell_type": "code",
   "execution_count": 3,
   "metadata": {},
   "outputs": [
    {
     "data": {
      "text/plain": [
       "Timestamp('2019-06-18 08:59:18.581127')"
      ]
     },
     "execution_count": 3,
     "metadata": {},
     "output_type": "execute_result"
    }
   ],
   "source": [
    "pd.Timestamp.today()"
   ]
  },
  {
   "cell_type": "markdown",
   "metadata": {},
   "source": [
    "# FIRST / LAST DAY OF THE MONTH (PYTHON RECIPE)\n",
    "\n",
    "- http://code.activestate.com/recipes/476197-first-last-day-of-the-month/"
   ]
  },
  {
   "cell_type": "code",
   "execution_count": 4,
   "metadata": {},
   "outputs": [
    {
     "data": {
      "text/html": [
       "<div>\n",
       "<style scoped>\n",
       "    .dataframe tbody tr th:only-of-type {\n",
       "        vertical-align: middle;\n",
       "    }\n",
       "\n",
       "    .dataframe tbody tr th {\n",
       "        vertical-align: top;\n",
       "    }\n",
       "\n",
       "    .dataframe thead th {\n",
       "        text-align: right;\n",
       "    }\n",
       "</style>\n",
       "<table border=\"1\" class=\"dataframe\">\n",
       "  <thead>\n",
       "    <tr style=\"text-align: right;\">\n",
       "      <th></th>\n",
       "      <th>ประเทศ</th>\n",
       "      <th>สกุลเงิน</th>\n",
       "      <th>รหัสสกุลเงิน</th>\n",
       "      <th>การส่งของออก</th>\n",
       "      <th>การนำเข้า</th>\n",
       "    </tr>\n",
       "  </thead>\n",
       "  <tbody>\n",
       "    <tr>\n",
       "      <th>0</th>\n",
       "      <td>สหรัฐอเมริกา</td>\n",
       "      <td>ดอลลาร์สหรัฐ</td>\n",
       "      <td>USD</td>\n",
       "      <td>31.6142</td>\n",
       "      <td>32.0432</td>\n",
       "    </tr>\n",
       "    <tr>\n",
       "      <th>1</th>\n",
       "      <td>สหราชอาณาจักร</td>\n",
       "      <td>ปอนด์สเตอร์ลิง</td>\n",
       "      <td>GBP</td>\n",
       "      <td>39.9786</td>\n",
       "      <td>40.9706</td>\n",
       "    </tr>\n",
       "    <tr>\n",
       "      <th>2</th>\n",
       "      <td>สหภาพยุโรป</td>\n",
       "      <td>ยูโร</td>\n",
       "      <td>EUR</td>\n",
       "      <td>35.1011</td>\n",
       "      <td>35.9121</td>\n",
       "    </tr>\n",
       "    <tr>\n",
       "      <th>3</th>\n",
       "      <td>ญี่ปุ่น</td>\n",
       "      <td>เยน (100)</td>\n",
       "      <td>JPY</td>\n",
       "      <td>28.4457</td>\n",
       "      <td>29.3012</td>\n",
       "    </tr>\n",
       "    <tr>\n",
       "      <th>4</th>\n",
       "      <td>ฮ่องกง</td>\n",
       "      <td>ดอลลาร์ฮ่องกง</td>\n",
       "      <td>HKD</td>\n",
       "      <td>4.0065</td>\n",
       "      <td>4.1004</td>\n",
       "    </tr>\n",
       "    <tr>\n",
       "      <th>5</th>\n",
       "      <td>มาเลเซีย</td>\n",
       "      <td>ริงกิต</td>\n",
       "      <td>MYR</td>\n",
       "      <td>7.4708</td>\n",
       "      <td>7.7289</td>\n",
       "    </tr>\n",
       "    <tr>\n",
       "      <th>6</th>\n",
       "      <td>สิงคโปร์</td>\n",
       "      <td>ดอลลาร์สิงคโปร์</td>\n",
       "      <td>SGD</td>\n",
       "      <td>22.8014</td>\n",
       "      <td>23.4243</td>\n",
       "    </tr>\n",
       "    <tr>\n",
       "      <th>7</th>\n",
       "      <td>บรูไน</td>\n",
       "      <td>ดอลลาร์บรูไน</td>\n",
       "      <td>BND</td>\n",
       "      <td>22.6644</td>\n",
       "      <td>23.4914</td>\n",
       "    </tr>\n",
       "    <tr>\n",
       "      <th>8</th>\n",
       "      <td>ฟิลิปปินส์</td>\n",
       "      <td>เปโซฟิลิปปินส์</td>\n",
       "      <td>PHP</td>\n",
       "      <td>0.5917</td>\n",
       "      <td>0.6195</td>\n",
       "    </tr>\n",
       "    <tr>\n",
       "      <th>9</th>\n",
       "      <td>อินโดนีเซีย</td>\n",
       "      <td>รูเปียอินโดนีเซีย (1000)</td>\n",
       "      <td>IDR</td>\n",
       "      <td>2.0434</td>\n",
       "      <td>2.3181</td>\n",
       "    </tr>\n",
       "    <tr>\n",
       "      <th>10</th>\n",
       "      <td>อินเดีย</td>\n",
       "      <td>รูปีอินเดีย</td>\n",
       "      <td>INR</td>\n",
       "      <td>0.4033</td>\n",
       "      <td>0.4892</td>\n",
       "    </tr>\n",
       "    <tr>\n",
       "      <th>11</th>\n",
       "      <td>สวิสเซอร์แลนด์</td>\n",
       "      <td>ฟรังก์</td>\n",
       "      <td>CHF</td>\n",
       "      <td>31.1280</td>\n",
       "      <td>31.8866</td>\n",
       "    </tr>\n",
       "    <tr>\n",
       "      <th>12</th>\n",
       "      <td>ออสเตรเลีย</td>\n",
       "      <td>ดอลลาร์ออสเตรเลีย</td>\n",
       "      <td>AUD</td>\n",
       "      <td>21.4673</td>\n",
       "      <td>22.3269</td>\n",
       "    </tr>\n",
       "    <tr>\n",
       "      <th>13</th>\n",
       "      <td>นิวซีแลนด์</td>\n",
       "      <td>ดอลลาร์นิวซีแลนด์</td>\n",
       "      <td>NZD</td>\n",
       "      <td>20.3642</td>\n",
       "      <td>21.0568</td>\n",
       "    </tr>\n",
       "    <tr>\n",
       "      <th>14</th>\n",
       "      <td>แคนาดา</td>\n",
       "      <td>ดอลลาร์แคนาดา</td>\n",
       "      <td>CAD</td>\n",
       "      <td>23.3644</td>\n",
       "      <td>23.9890</td>\n",
       "    </tr>\n",
       "    <tr>\n",
       "      <th>15</th>\n",
       "      <td>สวีเดน</td>\n",
       "      <td>โครนา</td>\n",
       "      <td>SEK</td>\n",
       "      <td>3.2479</td>\n",
       "      <td>3.3377</td>\n",
       "    </tr>\n",
       "    <tr>\n",
       "      <th>16</th>\n",
       "      <td>เดนมาร์ก</td>\n",
       "      <td>โครน</td>\n",
       "      <td>DKK</td>\n",
       "      <td>4.6968</td>\n",
       "      <td>4.8108</td>\n",
       "    </tr>\n",
       "    <tr>\n",
       "      <th>17</th>\n",
       "      <td>นอร์เวย์</td>\n",
       "      <td>โครน</td>\n",
       "      <td>NOK</td>\n",
       "      <td>3.5787</td>\n",
       "      <td>3.6741</td>\n",
       "    </tr>\n",
       "    <tr>\n",
       "      <th>18</th>\n",
       "      <td>สาธารณรัฐประชาชนจีน</td>\n",
       "      <td>เรนมินบิ</td>\n",
       "      <td>CNY</td>\n",
       "      <td>4.5175</td>\n",
       "      <td>4.6649</td>\n",
       "    </tr>\n",
       "    <tr>\n",
       "      <th>19</th>\n",
       "      <td>เม็กซิโก</td>\n",
       "      <td>เปโซเม็กซิโก</td>\n",
       "      <td>MXN</td>\n",
       "      <td>1.6645</td>\n",
       "      <td>1.6822</td>\n",
       "    </tr>\n",
       "    <tr>\n",
       "      <th>20</th>\n",
       "      <td>สหภาพแอฟริกาใต้</td>\n",
       "      <td>แรนด์</td>\n",
       "      <td>ZAR</td>\n",
       "      <td>2.2073</td>\n",
       "      <td>2.2307</td>\n",
       "    </tr>\n",
       "    <tr>\n",
       "      <th>21</th>\n",
       "      <td>เกาหลีใต้</td>\n",
       "      <td>วอน</td>\n",
       "      <td>KRW</td>\n",
       "      <td>0.0265</td>\n",
       "      <td>0.0268</td>\n",
       "    </tr>\n",
       "    <tr>\n",
       "      <th>22</th>\n",
       "      <td>ไต้หวัน</td>\n",
       "      <td>ดอลลาร์ไต้หวัน</td>\n",
       "      <td>TWD</td>\n",
       "      <td>1.0103</td>\n",
       "      <td>1.0211</td>\n",
       "    </tr>\n",
       "    <tr>\n",
       "      <th>23</th>\n",
       "      <td>คูเวต</td>\n",
       "      <td>ดีนาร์คูเวต</td>\n",
       "      <td>KWD</td>\n",
       "      <td>104.1779</td>\n",
       "      <td>105.2839</td>\n",
       "    </tr>\n",
       "    <tr>\n",
       "      <th>24</th>\n",
       "      <td>ซาอุดิอาระเบีย</td>\n",
       "      <td>เรียลซาอุดิอาระเบีย</td>\n",
       "      <td>SAR</td>\n",
       "      <td>8.4546</td>\n",
       "      <td>8.5444</td>\n",
       "    </tr>\n",
       "    <tr>\n",
       "      <th>25</th>\n",
       "      <td>สหรัฐอาหรับ</td>\n",
       "      <td>ดีแรห์น</td>\n",
       "      <td>AED</td>\n",
       "      <td>8.6322</td>\n",
       "      <td>8.7239</td>\n",
       "    </tr>\n",
       "    <tr>\n",
       "      <th>26</th>\n",
       "      <td>พม่า</td>\n",
       "      <td>จัด</td>\n",
       "      <td>MMK</td>\n",
       "      <td>0.0206</td>\n",
       "      <td>0.0208</td>\n",
       "    </tr>\n",
       "    <tr>\n",
       "      <th>27</th>\n",
       "      <td>บังคลาเทศ</td>\n",
       "      <td>ตากา</td>\n",
       "      <td>BDT</td>\n",
       "      <td>0.3761</td>\n",
       "      <td>0.3801</td>\n",
       "    </tr>\n",
       "    <tr>\n",
       "      <th>28</th>\n",
       "      <td>สาธารณรัฐเชก</td>\n",
       "      <td>คราวน์</td>\n",
       "      <td>CZK</td>\n",
       "      <td>1.3731</td>\n",
       "      <td>1.3877</td>\n",
       "    </tr>\n",
       "    <tr>\n",
       "      <th>29</th>\n",
       "      <td>กัมพูชา</td>\n",
       "      <td>เรียลกัมพูชา</td>\n",
       "      <td>KHR</td>\n",
       "      <td>0.0078</td>\n",
       "      <td>0.0079</td>\n",
       "    </tr>\n",
       "    <tr>\n",
       "      <th>30</th>\n",
       "      <td>คีนยา</td>\n",
       "      <td>ชิลลิ่ง</td>\n",
       "      <td>KES</td>\n",
       "      <td>0.3133</td>\n",
       "      <td>0.3166</td>\n",
       "    </tr>\n",
       "    <tr>\n",
       "      <th>31</th>\n",
       "      <td>ลาว</td>\n",
       "      <td>กีบ</td>\n",
       "      <td>LAK</td>\n",
       "      <td>0.0036</td>\n",
       "      <td>0.0037</td>\n",
       "    </tr>\n",
       "    <tr>\n",
       "      <th>32</th>\n",
       "      <td>รัสเซีย</td>\n",
       "      <td>รูเบิล</td>\n",
       "      <td>RUB</td>\n",
       "      <td>0.4917</td>\n",
       "      <td>0.4969</td>\n",
       "    </tr>\n",
       "    <tr>\n",
       "      <th>33</th>\n",
       "      <td>เวียตนาม</td>\n",
       "      <td>ดอง</td>\n",
       "      <td>VND</td>\n",
       "      <td>0.0014</td>\n",
       "      <td>0.0014</td>\n",
       "    </tr>\n",
       "    <tr>\n",
       "      <th>34</th>\n",
       "      <td>อียิปต์</td>\n",
       "      <td>ปอนด์</td>\n",
       "      <td>EGP</td>\n",
       "      <td>1.8643</td>\n",
       "      <td>1.8840</td>\n",
       "    </tr>\n",
       "    <tr>\n",
       "      <th>35</th>\n",
       "      <td>โปแลนด์</td>\n",
       "      <td>สล็อตตี</td>\n",
       "      <td>PLN</td>\n",
       "      <td>8.2240</td>\n",
       "      <td>8.3113</td>\n",
       "    </tr>\n",
       "    <tr>\n",
       "      <th>36</th>\n",
       "      <td>ศรีลังกา</td>\n",
       "      <td>รูปีศรีลังกา</td>\n",
       "      <td>LKR</td>\n",
       "      <td>0.1800</td>\n",
       "      <td>0.1819</td>\n",
       "    </tr>\n",
       "    <tr>\n",
       "      <th>37</th>\n",
       "      <td>อิรัก</td>\n",
       "      <td>ดีนาร์อิรัก</td>\n",
       "      <td>IQD</td>\n",
       "      <td>0.0265</td>\n",
       "      <td>0.0268</td>\n",
       "    </tr>\n",
       "    <tr>\n",
       "      <th>38</th>\n",
       "      <td>บาห์เรน</td>\n",
       "      <td>ดีนาร์บาห์เรน</td>\n",
       "      <td>BHD</td>\n",
       "      <td>84.1023</td>\n",
       "      <td>84.9952</td>\n",
       "    </tr>\n",
       "    <tr>\n",
       "      <th>39</th>\n",
       "      <td>โอมาน์</td>\n",
       "      <td>เรียลโอมาน์</td>\n",
       "      <td>OMR</td>\n",
       "      <td>82.3548</td>\n",
       "      <td>83.2290</td>\n",
       "    </tr>\n",
       "    <tr>\n",
       "      <th>40</th>\n",
       "      <td>จอร์แดน</td>\n",
       "      <td>ดอลลาร์จอร์แดน</td>\n",
       "      <td>JOD</td>\n",
       "      <td>44.7359</td>\n",
       "      <td>45.2108</td>\n",
       "    </tr>\n",
       "    <tr>\n",
       "      <th>41</th>\n",
       "      <td>กาตาร์</td>\n",
       "      <td>เรียลกาตาร์</td>\n",
       "      <td>QAR</td>\n",
       "      <td>8.6878</td>\n",
       "      <td>8.7801</td>\n",
       "    </tr>\n",
       "    <tr>\n",
       "      <th>42</th>\n",
       "      <td>มัลดีฟส์</td>\n",
       "      <td>รูฟียา</td>\n",
       "      <td>MVR</td>\n",
       "      <td>2.0523</td>\n",
       "      <td>2.0741</td>\n",
       "    </tr>\n",
       "    <tr>\n",
       "      <th>43</th>\n",
       "      <td>เนปาล</td>\n",
       "      <td>รูปีเนปาล</td>\n",
       "      <td>NPR</td>\n",
       "      <td>0.2839</td>\n",
       "      <td>0.2869</td>\n",
       "    </tr>\n",
       "    <tr>\n",
       "      <th>44</th>\n",
       "      <td>ปาปัวนิวกินี</td>\n",
       "      <td>กินา</td>\n",
       "      <td>PGK</td>\n",
       "      <td>9.4010</td>\n",
       "      <td>9.5008</td>\n",
       "    </tr>\n",
       "    <tr>\n",
       "      <th>45</th>\n",
       "      <td>อิสราเอล</td>\n",
       "      <td>เชคเกล</td>\n",
       "      <td>ILS</td>\n",
       "      <td>8.8158</td>\n",
       "      <td>8.9094</td>\n",
       "    </tr>\n",
       "    <tr>\n",
       "      <th>46</th>\n",
       "      <td>ฮังการี</td>\n",
       "      <td>โฟรินต์</td>\n",
       "      <td>HUF</td>\n",
       "      <td>0.1086</td>\n",
       "      <td>0.1097</td>\n",
       "    </tr>\n",
       "    <tr>\n",
       "      <th>47</th>\n",
       "      <td>ปากีสถาน</td>\n",
       "      <td>รูปีปากีสถาน</td>\n",
       "      <td>PKR</td>\n",
       "      <td>0.2120</td>\n",
       "      <td>0.2143</td>\n",
       "    </tr>\n",
       "    <tr>\n",
       "      <th>48</th>\n",
       "      <td>ไทย</td>\n",
       "      <td>บาท</td>\n",
       "      <td>THB</td>\n",
       "      <td>1.0000</td>\n",
       "      <td>1.0000</td>\n",
       "    </tr>\n",
       "  </tbody>\n",
       "</table>\n",
       "</div>"
      ],
      "text/plain": [
       "                 ประเทศ                  สกุลเงิน รหัสสกุลเงิน  การส่งของออก  \\\n",
       "0          สหรัฐอเมริกา              ดอลลาร์สหรัฐ          USD       31.6142   \n",
       "1         สหราชอาณาจักร            ปอนด์สเตอร์ลิง          GBP       39.9786   \n",
       "2            สหภาพยุโรป                      ยูโร          EUR       35.1011   \n",
       "3               ญี่ปุ่น                 เยน (100)          JPY       28.4457   \n",
       "4                ฮ่องกง             ดอลลาร์ฮ่องกง          HKD        4.0065   \n",
       "5              มาเลเซีย                    ริงกิต          MYR        7.4708   \n",
       "6              สิงคโปร์           ดอลลาร์สิงคโปร์          SGD       22.8014   \n",
       "7                 บรูไน              ดอลลาร์บรูไน          BND       22.6644   \n",
       "8            ฟิลิปปินส์            เปโซฟิลิปปินส์          PHP        0.5917   \n",
       "9           อินโดนีเซีย  รูเปียอินโดนีเซีย (1000)          IDR        2.0434   \n",
       "10              อินเดีย               รูปีอินเดีย          INR        0.4033   \n",
       "11       สวิสเซอร์แลนด์                    ฟรังก์          CHF       31.1280   \n",
       "12           ออสเตรเลีย         ดอลลาร์ออสเตรเลีย          AUD       21.4673   \n",
       "13           นิวซีแลนด์         ดอลลาร์นิวซีแลนด์          NZD       20.3642   \n",
       "14               แคนาดา             ดอลลาร์แคนาดา          CAD       23.3644   \n",
       "15               สวีเดน                     โครนา          SEK        3.2479   \n",
       "16             เดนมาร์ก                      โครน          DKK        4.6968   \n",
       "17             นอร์เวย์                      โครน          NOK        3.5787   \n",
       "18  สาธารณรัฐประชาชนจีน                  เรนมินบิ          CNY        4.5175   \n",
       "19             เม็กซิโก              เปโซเม็กซิโก          MXN        1.6645   \n",
       "20      สหภาพแอฟริกาใต้                     แรนด์          ZAR        2.2073   \n",
       "21            เกาหลีใต้                       วอน          KRW        0.0265   \n",
       "22              ไต้หวัน            ดอลลาร์ไต้หวัน          TWD        1.0103   \n",
       "23                คูเวต               ดีนาร์คูเวต          KWD      104.1779   \n",
       "24       ซาอุดิอาระเบีย       เรียลซาอุดิอาระเบีย          SAR        8.4546   \n",
       "25          สหรัฐอาหรับ                   ดีแรห์น          AED        8.6322   \n",
       "26                 พม่า                       จัด          MMK        0.0206   \n",
       "27            บังคลาเทศ                      ตากา          BDT        0.3761   \n",
       "28         สาธารณรัฐเชก                    คราวน์          CZK        1.3731   \n",
       "29              กัมพูชา              เรียลกัมพูชา          KHR        0.0078   \n",
       "30                คีนยา                   ชิลลิ่ง          KES        0.3133   \n",
       "31                  ลาว                       กีบ          LAK        0.0036   \n",
       "32              รัสเซีย                    รูเบิล          RUB        0.4917   \n",
       "33             เวียตนาม                       ดอง          VND        0.0014   \n",
       "34              อียิปต์                     ปอนด์          EGP        1.8643   \n",
       "35              โปแลนด์                   สล็อตตี          PLN        8.2240   \n",
       "36             ศรีลังกา              รูปีศรีลังกา          LKR        0.1800   \n",
       "37                อิรัก               ดีนาร์อิรัก          IQD        0.0265   \n",
       "38              บาห์เรน             ดีนาร์บาห์เรน          BHD       84.1023   \n",
       "39               โอมาน์               เรียลโอมาน์          OMR       82.3548   \n",
       "40              จอร์แดน            ดอลลาร์จอร์แดน          JOD       44.7359   \n",
       "41               กาตาร์               เรียลกาตาร์          QAR        8.6878   \n",
       "42             มัลดีฟส์                    รูฟียา          MVR        2.0523   \n",
       "43                เนปาล                 รูปีเนปาล          NPR        0.2839   \n",
       "44         ปาปัวนิวกินี                      กินา          PGK        9.4010   \n",
       "45             อิสราเอล                    เชคเกล          ILS        8.8158   \n",
       "46              ฮังการี                   โฟรินต์          HUF        0.1086   \n",
       "47             ปากีสถาน              รูปีปากีสถาน          PKR        0.2120   \n",
       "48                  ไทย                       บาท          THB        1.0000   \n",
       "\n",
       "    การนำเข้า  \n",
       "0     32.0432  \n",
       "1     40.9706  \n",
       "2     35.9121  \n",
       "3     29.3012  \n",
       "4      4.1004  \n",
       "5      7.7289  \n",
       "6     23.4243  \n",
       "7     23.4914  \n",
       "8      0.6195  \n",
       "9      2.3181  \n",
       "10     0.4892  \n",
       "11    31.8866  \n",
       "12    22.3269  \n",
       "13    21.0568  \n",
       "14    23.9890  \n",
       "15     3.3377  \n",
       "16     4.8108  \n",
       "17     3.6741  \n",
       "18     4.6649  \n",
       "19     1.6822  \n",
       "20     2.2307  \n",
       "21     0.0268  \n",
       "22     1.0211  \n",
       "23   105.2839  \n",
       "24     8.5444  \n",
       "25     8.7239  \n",
       "26     0.0208  \n",
       "27     0.3801  \n",
       "28     1.3877  \n",
       "29     0.0079  \n",
       "30     0.3166  \n",
       "31     0.0037  \n",
       "32     0.4969  \n",
       "33     0.0014  \n",
       "34     1.8840  \n",
       "35     8.3113  \n",
       "36     0.1819  \n",
       "37     0.0268  \n",
       "38    84.9952  \n",
       "39    83.2290  \n",
       "40    45.2108  \n",
       "41     8.7801  \n",
       "42     2.0741  \n",
       "43     0.2869  \n",
       "44     9.5008  \n",
       "45     8.9094  \n",
       "46     0.1097  \n",
       "47     0.2143  \n",
       "48     1.0000  "
      ]
     },
     "execution_count": 4,
     "metadata": {},
     "output_type": "execute_result"
    }
   ],
   "source": [
    "# Reading from an excel file.\n",
    "df = pd.read_excel('exchange-rate.xlsx', 'Sheet1', index_col=None, na_values=['NA'])\n",
    "df"
   ]
  },
  {
   "cell_type": "code",
   "execution_count": 307,
   "metadata": {},
   "outputs": [
    {
     "name": "stdout",
     "output_type": "stream",
     "text": [
      "<class 'pandas.core.frame.DataFrame'>\n",
      "RangeIndex: 49 entries, 0 to 48\n",
      "Data columns (total 5 columns):\n",
      "ประเทศ          49 non-null object\n",
      "สกุลเงิน        49 non-null object\n",
      "รหัสสกุลเงิน    49 non-null object\n",
      "การส่งของออก    49 non-null float64\n",
      "การนำเข้า       49 non-null float64\n",
      "dtypes: float64(2), object(3)\n",
      "memory usage: 2.0+ KB\n"
     ]
    }
   ],
   "source": [
    "df.info()"
   ]
  },
  {
   "cell_type": "code",
   "execution_count": 308,
   "metadata": {},
   "outputs": [
    {
     "data": {
      "text/plain": [
       "Index(['ประเทศ', 'สกุลเงิน', 'รหัสสกุลเงิน', 'การส่งของออก', 'การนำเข้า'], dtype='object')"
      ]
     },
     "execution_count": 308,
     "metadata": {},
     "output_type": "execute_result"
    }
   ],
   "source": [
    "df.columns"
   ]
  },
  {
   "cell_type": "code",
   "execution_count": 309,
   "metadata": {},
   "outputs": [
    {
     "data": {
      "text/html": [
       "<div>\n",
       "<style scoped>\n",
       "    .dataframe tbody tr th:only-of-type {\n",
       "        vertical-align: middle;\n",
       "    }\n",
       "\n",
       "    .dataframe tbody tr th {\n",
       "        vertical-align: top;\n",
       "    }\n",
       "\n",
       "    .dataframe thead th {\n",
       "        text-align: right;\n",
       "    }\n",
       "</style>\n",
       "<table border=\"1\" class=\"dataframe\">\n",
       "  <thead>\n",
       "    <tr style=\"text-align: right;\">\n",
       "      <th></th>\n",
       "      <th>การส่งของออก</th>\n",
       "      <th>การนำเข้า</th>\n",
       "    </tr>\n",
       "  </thead>\n",
       "  <tbody>\n",
       "    <tr>\n",
       "      <th>count</th>\n",
       "      <td>49.000000</td>\n",
       "      <td>49.00000</td>\n",
       "    </tr>\n",
       "    <tr>\n",
       "      <th>mean</th>\n",
       "      <td>14.046857</td>\n",
       "      <td>14.30588</td>\n",
       "    </tr>\n",
       "    <tr>\n",
       "      <th>std</th>\n",
       "      <td>23.148922</td>\n",
       "      <td>23.44198</td>\n",
       "    </tr>\n",
       "    <tr>\n",
       "      <th>min</th>\n",
       "      <td>0.001400</td>\n",
       "      <td>0.00140</td>\n",
       "    </tr>\n",
       "    <tr>\n",
       "      <th>25%</th>\n",
       "      <td>0.403300</td>\n",
       "      <td>0.48920</td>\n",
       "    </tr>\n",
       "    <tr>\n",
       "      <th>50%</th>\n",
       "      <td>3.578700</td>\n",
       "      <td>3.67410</td>\n",
       "    </tr>\n",
       "    <tr>\n",
       "      <th>75%</th>\n",
       "      <td>21.467300</td>\n",
       "      <td>22.32690</td>\n",
       "    </tr>\n",
       "    <tr>\n",
       "      <th>max</th>\n",
       "      <td>104.177900</td>\n",
       "      <td>105.28390</td>\n",
       "    </tr>\n",
       "  </tbody>\n",
       "</table>\n",
       "</div>"
      ],
      "text/plain": [
       "       การส่งของออก  การนำเข้า\n",
       "count     49.000000   49.00000\n",
       "mean      14.046857   14.30588\n",
       "std       23.148922   23.44198\n",
       "min        0.001400    0.00140\n",
       "25%        0.403300    0.48920\n",
       "50%        3.578700    3.67410\n",
       "75%       21.467300   22.32690\n",
       "max      104.177900  105.28390"
      ]
     },
     "execution_count": 309,
     "metadata": {},
     "output_type": "execute_result"
    }
   ],
   "source": [
    "df.describe()"
   ]
  },
  {
   "cell_type": "code",
   "execution_count": 310,
   "metadata": {},
   "outputs": [
    {
     "data": {
      "text/html": [
       "<div>\n",
       "<style scoped>\n",
       "    .dataframe tbody tr th:only-of-type {\n",
       "        vertical-align: middle;\n",
       "    }\n",
       "\n",
       "    .dataframe tbody tr th {\n",
       "        vertical-align: top;\n",
       "    }\n",
       "\n",
       "    .dataframe thead th {\n",
       "        text-align: right;\n",
       "    }\n",
       "</style>\n",
       "<table border=\"1\" class=\"dataframe\">\n",
       "  <thead>\n",
       "    <tr style=\"text-align: right;\">\n",
       "      <th></th>\n",
       "      <th>รหัสสกุลเงิน</th>\n",
       "      <th>การส่งของออก</th>\n",
       "      <th>การนำเข้า</th>\n",
       "    </tr>\n",
       "  </thead>\n",
       "  <tbody>\n",
       "    <tr>\n",
       "      <th>44</th>\n",
       "      <td>PGK</td>\n",
       "      <td>9.4010</td>\n",
       "      <td>9.5008</td>\n",
       "    </tr>\n",
       "    <tr>\n",
       "      <th>48</th>\n",
       "      <td>THB</td>\n",
       "      <td>1.0000</td>\n",
       "      <td>1.0000</td>\n",
       "    </tr>\n",
       "    <tr>\n",
       "      <th>3</th>\n",
       "      <td>JPY</td>\n",
       "      <td>28.4457</td>\n",
       "      <td>29.3012</td>\n",
       "    </tr>\n",
       "    <tr>\n",
       "      <th>23</th>\n",
       "      <td>KWD</td>\n",
       "      <td>104.1779</td>\n",
       "      <td>105.2839</td>\n",
       "    </tr>\n",
       "    <tr>\n",
       "      <th>2</th>\n",
       "      <td>EUR</td>\n",
       "      <td>35.1011</td>\n",
       "      <td>35.9121</td>\n",
       "    </tr>\n",
       "  </tbody>\n",
       "</table>\n",
       "</div>"
      ],
      "text/plain": [
       "   รหัสสกุลเงิน  การส่งของออก  การนำเข้า\n",
       "44          PGK        9.4010     9.5008\n",
       "48          THB        1.0000     1.0000\n",
       "3           JPY       28.4457    29.3012\n",
       "23          KWD      104.1779   105.2839\n",
       "2           EUR       35.1011    35.9121"
      ]
     },
     "execution_count": 310,
     "metadata": {},
     "output_type": "execute_result"
    }
   ],
   "source": [
    "df = df[['รหัสสกุลเงิน','การส่งของออก','การนำเข้า']]\n",
    "df.sample(5)"
   ]
  },
  {
   "cell_type": "markdown",
   "metadata": {},
   "source": [
    "# จัดการวันที่"
   ]
  },
  {
   "cell_type": "code",
   "execution_count": 311,
   "metadata": {},
   "outputs": [],
   "source": [
    "# Sample Source Code\n",
    "\n",
    "from datetime import date, timedelta\n",
    "\n",
    "def get_first_day(dt, d_years=0, d_months=0):\n",
    "    # d_years, d_months are \"deltas\" to apply to dt\n",
    "    y, m = dt.year + d_years, dt.month + d_months\n",
    "    a, m = divmod(m-1, 12)\n",
    "    return date(y+a, m+1, 1)\n",
    "\n",
    "def get_last_day(dt):\n",
    "    return get_first_day(dt, 0, 1) + timedelta(-1)\n",
    "\n",
    "def get_year_thai(d):\n",
    "    '''เปลี่ยนแปลงข้อมูลเป็นปี พ.ศ.'''\n",
    "    return datetime.date(d.year+543, d.month, d.day)\n",
    "\n",
    "def lastday_of_month(d):\n",
    "    '''Takes a datetime.date and returns the date for the last day in the\n",
    "    same month.'''\n",
    "    return datetime.date(d.year, d.month+1, d.day)\n"
   ]
  },
  {
   "cell_type": "code",
   "execution_count": 335,
   "metadata": {},
   "outputs": [
    {
     "data": {
      "text/plain": [
       "datetime.datetime(2019, 6, 17, 17, 15, 30, 958310)"
      ]
     },
     "execution_count": 335,
     "metadata": {},
     "output_type": "execute_result"
    }
   ],
   "source": [
    "# ดึงข้อมูลวันที่ปัจจุบันจากเครื่อง\n",
    "d = datetime.now()\n",
    "d"
   ]
  },
  {
   "cell_type": "code",
   "execution_count": 336,
   "metadata": {},
   "outputs": [
    {
     "data": {
      "text/plain": [
       "datetime.datetime(2562, 6, 17, 17, 15, 30, 958310)"
      ]
     },
     "execution_count": 336,
     "metadata": {},
     "output_type": "execute_result"
    }
   ],
   "source": [
    "# เปลี่ยนให้เป็น พ.ศ.\n",
    "d = d.replace(d.year+543)\n",
    "d"
   ]
  },
  {
   "cell_type": "code",
   "execution_count": 337,
   "metadata": {},
   "outputs": [
    {
     "data": {
      "text/plain": [
       "datetime.datetime(2562, 7, 17, 17, 15, 30, 958310)"
      ]
     },
     "execution_count": 337,
     "metadata": {},
     "output_type": "execute_result"
    }
   ],
   "source": [
    "# เดือนถัดไป + 1 month\n",
    "\n",
    "d = d.replace(month=(d.month+1))\n",
    "d"
   ]
  },
  {
   "cell_type": "code",
   "execution_count": 338,
   "metadata": {},
   "outputs": [
    {
     "data": {
      "text/plain": [
       "'01072562'"
      ]
     },
     "execution_count": 338,
     "metadata": {},
     "output_type": "execute_result"
    }
   ],
   "source": [
    "# วันแรกของเดือน\n",
    "first_day = (get_first_day(d).strftime('%d''%m''%Y'))\n",
    "first_day"
   ]
  },
  {
   "cell_type": "code",
   "execution_count": 339,
   "metadata": {},
   "outputs": [
    {
     "data": {
      "text/plain": [
       "'31072562'"
      ]
     },
     "execution_count": 339,
     "metadata": {},
     "output_type": "execute_result"
    }
   ],
   "source": [
    "# วันสุดท้ายของเดือน\n",
    "last_day = (get_last_day(d).strftime('%d''%m''%Y'))\n",
    "last_day"
   ]
  },
  {
   "cell_type": "markdown",
   "metadata": {},
   "source": [
    "# Create text file (Export)"
   ]
  },
  {
   "cell_type": "code",
   "execution_count": 333,
   "metadata": {
    "scrolled": true
   },
   "outputs": [
    {
     "data": {
      "text/plain": [
       "('USD', '01062562', '30062562', '0031.614200', 'RFXEI02405256214423865A')"
      ]
     },
     "execution_count": 333,
     "metadata": {},
     "output_type": "execute_result"
    }
   ],
   "source": [
    "ex = {}  # Create blank dict\n",
    "for i in range(len(df['รหัสสกุลเงิน'])):\n",
    "    ex[i] = (df['รหัสสกุลเงิน'][i]),(first_day),(last_day),('%011.6f'%df['การส่งของออก'][i]),('RFXEI02405256214423865A')\n",
    "ex"
   ]
  },
  {
   "cell_type": "markdown",
   "metadata": {},
   "source": [
    "## จัดการข้อมูลพร้อมเขียนข้อมูลลง text file"
   ]
  },
  {
   "cell_type": "code",
   "execution_count": 334,
   "metadata": {},
   "outputs": [
    {
     "name": "stdout",
     "output_type": "stream",
     "text": [
      "success\n"
     ]
    }
   ],
   "source": [
    "# จัดรูปแบบข้อมูลเพื่อเตรียมเขียนลงไฟล์\n",
    "lst_ex = []\n",
    "for i in ex.keys():\n",
    "    e = ''.join(ex[i])\n",
    "    lst_ex.append(e)\n",
    "    \n",
    "data = '\\n'.join(lst_ex) # กำหนดให้ขึ้นบรรทัดใหม่\n",
    "\n",
    "# write data to text file\n",
    "f = open('D:\\RFECU-test.txt','w',encoding='utf-8')\n",
    "f.write (str(data))\n",
    "f.close()\n",
    "print('success')"
   ]
  },
  {
   "cell_type": "markdown",
   "metadata": {},
   "source": [
    "## Create text file (Import)"
   ]
  },
  {
   "cell_type": "code",
   "execution_count": 268,
   "metadata": {},
   "outputs": [
    {
     "data": {
      "text/plain": [
       "{0: ('USD', '01072562', '31072562', '0032.043200', 'RFXEI02405256214423865A'),\n",
       " 1: ('GBP', '01072562', '31072562', '0040.970600', 'RFXEI02405256214423865A'),\n",
       " 2: ('EUR', '01072562', '31072562', '0035.912100', 'RFXEI02405256214423865A'),\n",
       " 3: ('JPY', '01072562', '31072562', '0029.301200', 'RFXEI02405256214423865A'),\n",
       " 4: ('HKD', '01072562', '31072562', '0004.100400', 'RFXEI02405256214423865A'),\n",
       " 5: ('MYR', '01072562', '31072562', '0007.728900', 'RFXEI02405256214423865A'),\n",
       " 6: ('SGD', '01072562', '31072562', '0023.424300', 'RFXEI02405256214423865A'),\n",
       " 7: ('BND', '01072562', '31072562', '0023.491400', 'RFXEI02405256214423865A'),\n",
       " 8: ('PHP', '01072562', '31072562', '0000.619500', 'RFXEI02405256214423865A'),\n",
       " 9: ('IDR', '01072562', '31072562', '0002.318100', 'RFXEI02405256214423865A'),\n",
       " 10: ('INR', '01072562', '31072562', '0000.489200', 'RFXEI02405256214423865A'),\n",
       " 11: ('CHF', '01072562', '31072562', '0031.886600', 'RFXEI02405256214423865A'),\n",
       " 12: ('AUD', '01072562', '31072562', '0022.326900', 'RFXEI02405256214423865A'),\n",
       " 13: ('NZD', '01072562', '31072562', '0021.056800', 'RFXEI02405256214423865A'),\n",
       " 14: ('CAD', '01072562', '31072562', '0023.989000', 'RFXEI02405256214423865A'),\n",
       " 15: ('SEK', '01072562', '31072562', '0003.337700', 'RFXEI02405256214423865A'),\n",
       " 16: ('DKK', '01072562', '31072562', '0004.810800', 'RFXEI02405256214423865A'),\n",
       " 17: ('NOK', '01072562', '31072562', '0003.674100', 'RFXEI02405256214423865A'),\n",
       " 18: ('CNY', '01072562', '31072562', '0004.664900', 'RFXEI02405256214423865A'),\n",
       " 19: ('MXN', '01072562', '31072562', '0001.682200', 'RFXEI02405256214423865A'),\n",
       " 20: ('ZAR', '01072562', '31072562', '0002.230700', 'RFXEI02405256214423865A'),\n",
       " 21: ('KRW', '01072562', '31072562', '0000.026800', 'RFXEI02405256214423865A'),\n",
       " 22: ('TWD', '01072562', '31072562', '0001.021100', 'RFXEI02405256214423865A'),\n",
       " 23: ('KWD', '01072562', '31072562', '0105.283900', 'RFXEI02405256214423865A'),\n",
       " 24: ('SAR', '01072562', '31072562', '0008.544400', 'RFXEI02405256214423865A'),\n",
       " 25: ('AED', '01072562', '31072562', '0008.723900', 'RFXEI02405256214423865A'),\n",
       " 26: ('MMK', '01072562', '31072562', '0000.020800', 'RFXEI02405256214423865A'),\n",
       " 27: ('BDT', '01072562', '31072562', '0000.380100', 'RFXEI02405256214423865A'),\n",
       " 28: ('CZK', '01072562', '31072562', '0001.387700', 'RFXEI02405256214423865A'),\n",
       " 29: ('KHR', '01072562', '31072562', '0000.007900', 'RFXEI02405256214423865A'),\n",
       " 30: ('KES', '01072562', '31072562', '0000.316600', 'RFXEI02405256214423865A'),\n",
       " 31: ('LAK', '01072562', '31072562', '0000.003700', 'RFXEI02405256214423865A'),\n",
       " 32: ('RUB', '01072562', '31072562', '0000.496900', 'RFXEI02405256214423865A'),\n",
       " 33: ('VND', '01072562', '31072562', '0000.001400', 'RFXEI02405256214423865A'),\n",
       " 34: ('EGP', '01072562', '31072562', '0001.884000', 'RFXEI02405256214423865A'),\n",
       " 35: ('PLN', '01072562', '31072562', '0008.311300', 'RFXEI02405256214423865A'),\n",
       " 36: ('LKR', '01072562', '31072562', '0000.181900', 'RFXEI02405256214423865A'),\n",
       " 37: ('IQD', '01072562', '31072562', '0000.026800', 'RFXEI02405256214423865A'),\n",
       " 38: ('BHD', '01072562', '31072562', '0084.995200', 'RFXEI02405256214423865A'),\n",
       " 39: ('OMR', '01072562', '31072562', '0083.229000', 'RFXEI02405256214423865A'),\n",
       " 40: ('JOD', '01072562', '31072562', '0045.210800', 'RFXEI02405256214423865A'),\n",
       " 41: ('QAR', '01072562', '31072562', '0008.780100', 'RFXEI02405256214423865A'),\n",
       " 42: ('MVR', '01072562', '31072562', '0002.074100', 'RFXEI02405256214423865A'),\n",
       " 43: ('NPR', '01072562', '31072562', '0000.286900', 'RFXEI02405256214423865A'),\n",
       " 44: ('PGK', '01072562', '31072562', '0009.500800', 'RFXEI02405256214423865A'),\n",
       " 45: ('ILS', '01072562', '31072562', '0008.909400', 'RFXEI02405256214423865A'),\n",
       " 46: ('HUF', '01072562', '31072562', '0000.109700', 'RFXEI02405256214423865A'),\n",
       " 47: ('PKR', '01072562', '31072562', '0000.214300', 'RFXEI02405256214423865A'),\n",
       " 48: ('THB', '01072562', '31072562', '0001.000000', 'RFXEI02405256214423865A')}"
      ]
     },
     "execution_count": 268,
     "metadata": {},
     "output_type": "execute_result"
    }
   ],
   "source": [
    "im = {}  # Create blank dict\n",
    "for i in range(len(df['รหัสสกุลเงิน'])):\n",
    "    im[i] = (df['รหัสสกุลเงิน'][i]),(first_day),(last_day),('%011.6f'%df['การนำเข้า'][i]),('RFXEI02405256214423865A')\n",
    "im"
   ]
  },
  {
   "cell_type": "markdown",
   "metadata": {},
   "source": [
    "# จัดการข้อมูลพร้อมเขียนข้อมูลลง text file"
   ]
  },
  {
   "cell_type": "code",
   "execution_count": 330,
   "metadata": {},
   "outputs": [
    {
     "name": "stdout",
     "output_type": "stream",
     "text": [
      "success\n"
     ]
    }
   ],
   "source": [
    "lst_im = []\n",
    "for i in im.keys():\n",
    "    e = ''.join(im[i])\n",
    "    lst_im.append(e)\n",
    "data = '\\n'.join(lst_im)\n",
    "# write data to text file\n",
    "f = open('D:\\RFICU-test.txt','w',encoding='utf-8')\n",
    "f.write (str(data))\n",
    "f.close()\n",
    "print('success')"
   ]
  },
  {
   "cell_type": "code",
   "execution_count": null,
   "metadata": {},
   "outputs": [],
   "source": []
  }
 ],
 "metadata": {
  "kernelspec": {
   "display_name": "Python 3",
   "language": "python",
   "name": "python3"
  },
  "language_info": {
   "codemirror_mode": {
    "name": "ipython",
    "version": 3
   },
   "file_extension": ".py",
   "mimetype": "text/x-python",
   "name": "python",
   "nbconvert_exporter": "python",
   "pygments_lexer": "ipython3",
   "version": "3.6.8"
  },
  "toc": {
   "base_numbering": 1,
   "nav_menu": {},
   "number_sections": false,
   "sideBar": true,
   "skip_h1_title": false,
   "title_cell": "Table of Contents",
   "title_sidebar": "Contents",
   "toc_cell": false,
   "toc_position": {
    "height": "calc(100% - 180px)",
    "left": "10px",
    "top": "150px",
    "width": "349.091px"
   },
   "toc_section_display": true,
   "toc_window_display": true
  },
  "varInspector": {
   "cols": {
    "lenName": 16,
    "lenType": 16,
    "lenVar": 40
   },
   "kernels_config": {
    "python": {
     "delete_cmd_postfix": "",
     "delete_cmd_prefix": "del ",
     "library": "var_list.py",
     "varRefreshCmd": "print(var_dic_list())"
    },
    "r": {
     "delete_cmd_postfix": ") ",
     "delete_cmd_prefix": "rm(",
     "library": "var_list.r",
     "varRefreshCmd": "cat(var_dic_list()) "
    }
   },
   "types_to_exclude": [
    "module",
    "function",
    "builtin_function_or_method",
    "instance",
    "_Feature"
   ],
   "window_display": false
  }
 },
 "nbformat": 4,
 "nbformat_minor": 2
}
